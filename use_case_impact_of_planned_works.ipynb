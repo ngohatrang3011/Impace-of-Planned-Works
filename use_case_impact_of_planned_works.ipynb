{
 "cells": [
  {
   "cell_type": "markdown",
   "id": "0d6271d6-d1a5-4327-bcf2-f608992be1a1",
   "metadata": {
    "id": "0d6271d6-d1a5-4327-bcf2-f608992be1a1",
    "tags": []
   },
   "source": [
    "<div class=\"usecase-title\">Planned Works: Present the impact of planned works (traffic management/structure) to the city council</div>\n",
    "\n",
    "<div class=\"usecase-authors\"><b>Authored by: </b>Te' Claire and Harley Ngo</div>\n",
    "\n",
    "<div class=\"usecase-date\"><b>Date: </b> November 2023</div>"
   ]
  },
  {
   "cell_type": "markdown",
   "id": "85854310-1ab2-4537-b64f-b4ace8111206",
   "metadata": {
    "id": "85854310-1ab2-4537-b64f-b4ace8111206"
   },
   "source": [
    "<div class=\"usecase-duration\"><b>Duration:</b> 90 mins</div>\n",
    "\n",
    "<div class=\"usecase-level-skill\">\n",
    "    <div class=\"usecase-level\"><b> Level: </b>Intermediate</div>\n",
    "    <div class=\"usecase-skill\"><b> Pre-requisite Skills: </b>Python, basic machine learning, <i>Optional</i> Google Collaborate access</div>\n",
    "</div>"
   ]
  },
  {
   "cell_type": "markdown",
   "id": "9ed1e45f-49a6-43df-b6e9-ce0577301838",
   "metadata": {
    "id": "9ed1e45f-49a6-43df-b6e9-ce0577301838"
   },
   "source": [
    "<div class=\"usecase-subsection-blurb\">\n",
    "  <i>Dataset 1:</i> City Activities and Planned Works\n",
    "  <br>\n",
    "  <a href=\"https://data.melbourne.vic.gov.au/explore/dataset/city-activities-and-planned-works/table/?disjunctive.classification&disjunctive.small_area\" target=\"_blank\">Dataset Link</a>\n",
    "  <br>\n",
    "  <a href=\"https://data.melbourne.vic.gov.au/api/datasets/1.0/city-activities-and-planned-works/attachments/city_activities_and_planned_disruptions_metadata_xlsx/\" target=\"_blank\">Metadata Link</a>\n",
    "</div>\n",
    "<br>\n",
    "\n",
    "<div class=\"usecase-subsection-blurb\">\n",
    "  <i>Dataset 2:</i> Development Activity Model Footprints\n",
    "  <br>\n",
    "  <a href=\"https://data.melbourne.vic.gov.au/explore/dataset/development-activity-model-footprints/table/\" target=\"_blank\">Dataset Link</a>\n",
    "  <br>\n",
    "  <a href=\"https://data.melbourne.vic.gov.au/api/datasets/1.0/development-activity-model-footprints/attachments/3d_development_activity_monitor_metadata_information_pdf/\">Metadata Link</a>\n",
    "</div>\n",
    "<br>\n",
    "\n",
    "<div class=\"usecase-subsection-blurb\">\n",
    "  <i>Dataset 3:</i> Development Activity Monitor\n",
    "  <br>\n",
    "  <a href=\"https://data.melbourne.vic.gov.au/explore/dataset/development-activity-monitor/table/\" target=\"_blank\">Dataset Link</a>\n",
    "  <br>\n",
    "  <a href=\" DAM_-_Info_-_DAM_May_2016_Meta_Data_Info.pdf\" target=\"_blank\">Metadata Link</a>\n",
    "</div>\n",
    "<br>"
   ]
  },
  {
   "cell_type": "markdown",
   "id": "3e408811-7436-4e95-b401-21d459a9d199",
   "metadata": {
    "id": "3e408811-7436-4e95-b401-21d459a9d199"
   },
   "source": [
    "# <div class=\"usecase-section-header\"><h4>Project Objective, Overview & Research</h4></div>"
   ]
  },
  {
   "cell_type": "markdown",
   "id": "da2faf95-3815-4c15-8c5c-831f0d7df981",
   "metadata": {
    "id": "da2faf95-3815-4c15-8c5c-831f0d7df981"
   },
   "source": [
    "<div class=\"usecase-subtitle\">\n",
    "<i><b>User Story</b></i>\n",
    "</div>\n",
    "\n",
    "<div class=\"usecase-subsection-blurb\"><i>\"As a city council member, I want to understand the impact of planned works (traffic management and structural developments) within the City of Melbourne (CoM). This information can empower CoM in making informed decisons, priortising commuter mobility, safety and minimising disruptions during ongoing and upcoming projects.\"</i></div>\n",
    "<br>"
   ]
  },
  {
   "cell_type": "markdown",
   "id": "ad28360e-a266-431c-ad5c-bfce06630866",
   "metadata": {
    "id": "ad28360e-a266-431c-ad5c-bfce06630866"
   },
   "source": [
    "<div class=\"usecase-subtitle\">\n",
    "<i><b>Objective</b></i>\n",
    "\n",
    "<div class=\"usecase-subsection-blurb\">'Planned Works' project contained two components, created over a 6 week investigation period. The objective is to elucidate the repercussions of planned works, encompassing traffic management and structural developments for the City of Melbourne (CoM).</div>\n",
    "<br>\n",
    "\n",
    "<div class=\"usecase-subsection-blurb\"><b>Part 1</b> includes set up, fetching or loading datasets, pre-processing, data cleaning, saving datasets, and merging datasets.</div>\n",
    "\n",
    "<br>\n",
    "\n",
    "<div class=\"usecase-subsection-blurb\"><b>Part 2</b> contains an overview of data structures and analyses, strategic structures development and traffic management. </div>"
   ]
  },
  {
   "cell_type": "markdown",
   "id": "e98bd121-32ca-463e-bfbc-808012fd3360",
   "metadata": {
    "id": "e98bd121-32ca-463e-bfbc-808012fd3360"
   },
   "source": [
    "<div class=\"usecase-subtitle\">\n",
    "<i><b>Overview</b></i>\n",
    "</div>\n",
    "<div class=\"usecase-subsection-blurb\">Planned works can significantly afffect the flow of traffic and the overall mobility of citizens within the CoM. This project aims to investigate the potential impact of planned works on traffic, supporting The CoM to minimise disruptions, enhance safety and optimise traffic flow. </div>\n",
    "<br>"
   ]
  },
  {
   "cell_type": "markdown",
   "id": "19d44142-97cf-4c3f-8c5d-61bea294330d",
   "metadata": {
    "id": "19d44142-97cf-4c3f-8c5d-61bea294330d"
   },
   "source": [
    "<div class=\"usecase-subtitle\">\n",
    "<i><b>Benefits</b></i>\n",
    "</div>\n",
    "\n",
    "<div class=\"usecase-subsection-blurb\">\n",
    "<ol>\n",
    "  <li>Developments Management: Analyzing historical data and current trends to make informed decisions, timeline and resources allocation.\n",
    "  <li>Faciliate Strategic Traffic Management: Employ insights to devise alternative traffic routes, provide advance notice to commuters or schedule works during outside peak hours to reduce impact on commuters travel. </li>\n",
    "  <li>Enhance Safety Protocols: Implement safety measures (temporary signage) to ensure safety of road users during construction or maintenance activities.</li>\n",
    "</ol>\n",
    "</div>"
   ]
  },
  {
   "cell_type": "markdown",
   "id": "2bf510d5-89a8-4106-b027-139ef105def6",
   "metadata": {
    "id": "2bf510d5-89a8-4106-b027-139ef105def6"
   },
   "source": [
    "<div class=\"usecase-subtitle\">\n",
    "<i><b>Research</b></i></div>\n",
    "<div class=\"usecase-subsection-blurb\">\n",
    "Analysing structures developments (Idea 1) in conjunction with traffic management (Idea 2), directly supports the councils objective of identifying the impact of planned works. This analyses examines Melbourne Open City Datasets; 'City Acitivities and Planned Works' (Activities), and Development Activity Model Footprints' (Footprints) with complementary dataset 'Development Activity Monitor' (Monitor). Data includes; (Activities) active and planned activities within the City of Melbourne area (proposed road closures, footpath works or reserved parking permits/ event bookings), (Footprints) spatial information about development activities and (Monitor) commercial and residential property development.</div>\n",
    "<br>\n",
    "\n",
    "<div class=\"usecase-subsection-blurb\">\n",
    "This project 'Planned Works' is divided into two parts over a 6 week investigation period, (Part 1) includes set up, pre-processing, data cleaning and basic analyses while (Part 2) aims to examine datasets using detailed analyses of impacts of structures development and traffic management. (Hoła, 2021). This project aims to inform the City Council to anticipate disruptions and optimise resource allocation (Kumar, 2023). By creating detailed visualisation the development and planned activities datasets in Melbourne city, the City Council can facilitate efficient planning and optimisation. These insights aim to enhance decision-making and planning, addressing the diverse challenges in the development project.</div>"
   ]
  },
  {
   "cell_type": "markdown",
   "id": "gWJRUwOeIdxY",
   "metadata": {
    "id": "gWJRUwOeIdxY"
   },
   "source": [
    "<div class=\"usecase-subtitle\">\n",
    "<i><b>Conclusions</b></i>\n",
    "</div>\n",
    "<div class=\"usecase-subsection-blurb\">The datasets show that structures were mostly focused on among previous years, with the duration of less than 3 months. The timeline highlights the boost in number of developments in 2022 - post covid-19 period, especially in Melbourne (CBD). With structures developments, car parks and dwellings surroundings were highly affected and used. Additionally, datasets reveal significant insights across multiple attributes, activity distribution within Traffic Management is 45.7% of the data, followed by Reserved Parking at 37.1%. Temporal analyses highlights monthly and yearly trends, with distinct patterns observed for each activity type. The spatial analysis covers land uses, emphasising the increasing trend in bike spaces compared to car parks. Accommodation analyses showcase varying trends, such as a decrease in residential dwellings and an increase in serviced apartments. The impact of Traffic Management activities is substantial, with an average of 5,369 people affected per activity. Safety recommendations include alternative paths and dedicated lanes.</div>\n",
    "<br>\n",
    "<div class=\"usecase-subsection-blurb\"> The findings serve as a valuable resource for urban planning, safety protocols, and strategic decision-making for CoM. Further investigation is advised for specific trends observed in the data.</div>"
   ]
  },
  {
   "cell_type": "markdown",
   "id": "6CHvzoIm95nh",
   "metadata": {
    "id": "6CHvzoIm95nh"
   },
   "source": [
    "<!-- References -->\n",
    "  <h2 id=\"references\">References</h2>\n",
    "    <li id=\"fn-1\">\n",
    "      <a href=\"#fn-1\">[1]</a> Davey, A. and Flores, B.E. (1993) 'Identification of seasonality in time series: A note,' Mathematical and Computer Modelling, 18(6), pp. 73–81.\n",
    "    </li>\n",
    "    <li id=\"fn-2\">\n",
    "      <a href=\"#fn-2\">[2]</a> Melbourne Open Data — COM Open Data Portal (no date).\n",
    "    </li>\n",
    "    <li id=\"fn-3\">\n",
    "      <a href=\"#fn-3\">[3]</a> NLTK :: Natural Language Toolkit (no date).\n",
    "    </li>\n",
    "    <li id=\"fn-4\">\n",
    "      <a href=\"#fn-4\">[4]</a> OpenDataSoft’s Explore API reference documentation (no date).\n",
    "    </li>\n",
    "    <li id=\"fn-5\">\n",
    "      <a href=\"#fn-5\">[5]</a> Kumar, A. et al. (2023) 'Assessing seasonal variation and trends in rainfall patterns of Madhya Pradesh, Central India,' Journal of Water and Climate Change, 14(10), pp. 3692–3712.\n",
    "    </li>\n",
    "    <li id=\"fn-6\">\n",
    "      <a href=\"#fn-6\">[6]</a> Hoła, B. et al. (2021) 'Prediction model of seasonality in the construction industry based on the accidentality phenomenon,' Archives of Civil and Mechanical Engineering, 22(1).\n",
    "    </li>\n",
    "    <li id=\"fn-7\">\n",
    "      <a href=\"#fn-7\">[7]</a> Petropoulos, F. et al. (2022) 'Forecasting: theory and practice,' International Journal of Forecasting, 38(3), pp. 705–871.\n",
    "    </li>\n",
    "    <li id=\"fn-8\">\n",
    "      <a href=\"https://darigak.medium.com/your-guide-to-folium-markers-b9324fc7d65d\" target=\"_blank\">[8]</a> Darigak, \"Your Guide to Folium Markers\".\n",
    "    </li>\n",
    "    <li id=\"fn-9\">\n",
    "      <a href=\"https://realpython.com/python-folium-web-maps-from-data/\" target=\"_blank\">[9]</a> Real Python, \"Python Folium: Web Maps from Data\".\n",
    "    </li>\n",
    "    <li id=\"fn-10\">\n",
    "      <a href=\"https://jovian.com/blog/tutorials/an-introductory-guide-to-folium\" target=\"_blank\">[10]</a> Jovian, \"An Introductory Guide to Folium\".\n",
    "    </li>\n",
    "    <li id=\"fn-11\">\n",
    "      <a href=\"https://getbootstrap.com/docs/3.3/components/\" target=\"_blank\">[11]</a> Bootstrap, \"Bootstrap Components\".\n",
    "    </li>"
   ]
  },
  {
   "cell_type": "markdown",
   "id": "322c1650-378c-43a7-8654-6350390f730d",
   "metadata": {
    "id": "322c1650-378c-43a7-8654-6350390f730d"
   },
   "source": [
    "# Part 1 (Set up & Pre-processing)\n",
    "*   Set Up\n",
    "*   Pre-processing\n",
    "*   Correlations\n",
    "*   Merge Datasets"
   ]
  },
  {
   "cell_type": "markdown",
   "id": "75fc0b3a-f2d3-4d4d-ad1e-8577dff930ab",
   "metadata": {
    "id": "75fc0b3a-f2d3-4d4d-ad1e-8577dff930ab"
   },
   "source": [
    "## Part 1.1: Set Up\n",
    "*   Import Core Libraries\n",
    "*   Import Dependencies"
   ]
  },
  {
   "cell_type": "code",
   "execution_count": 1,
   "id": "ZpbJCXpgkRUu",
   "metadata": {
    "colab": {
     "base_uri": "https://localhost:8080/"
    },
    "id": "ZpbJCXpgkRUu",
    "outputId": "9639b1ab-6d6b-4f72-be73-1ad9fe54c688"
   },
   "outputs": [
    {
     "name": "stdout",
     "output_type": "stream",
     "text": [
      "Requirement already satisfied: osmnx in c:\\users\\cielo\\anaconda3\\lib\\site-packages (1.8.0)\n",
      "Requirement already satisfied: geopandas>=0.12 in c:\\users\\cielo\\anaconda3\\lib\\site-packages (from osmnx) (0.14.1)\n",
      "Requirement already satisfied: networkx>=2.5 in c:\\users\\cielo\\anaconda3\\lib\\site-packages (from osmnx) (2.8.4)\n",
      "Requirement already satisfied: numpy>=1.20 in c:\\users\\cielo\\anaconda3\\lib\\site-packages (from osmnx) (1.24.3)\n",
      "Requirement already satisfied: pandas>=1.1 in c:\\users\\cielo\\anaconda3\\lib\\site-packages (from osmnx) (1.5.3)\n",
      "Requirement already satisfied: requests>=2.27 in c:\\users\\cielo\\anaconda3\\lib\\site-packages (from osmnx) (2.29.0)\n",
      "Requirement already satisfied: shapely>=2.0 in c:\\users\\cielo\\anaconda3\\lib\\site-packages (from osmnx) (2.0.2)\n",
      "Requirement already satisfied: fiona>=1.8.21 in c:\\users\\cielo\\anaconda3\\lib\\site-packages (from geopandas>=0.12->osmnx) (1.9.5)\n",
      "Requirement already satisfied: packaging in c:\\users\\cielo\\anaconda3\\lib\\site-packages (from geopandas>=0.12->osmnx) (23.0)\n",
      "Requirement already satisfied: pyproj>=3.3.0 in c:\\users\\cielo\\anaconda3\\lib\\site-packages (from geopandas>=0.12->osmnx) (3.6.1)\n",
      "Requirement already satisfied: python-dateutil>=2.8.1 in c:\\users\\cielo\\anaconda3\\lib\\site-packages (from pandas>=1.1->osmnx) (2.8.2)\n",
      "Requirement already satisfied: pytz>=2020.1 in c:\\users\\cielo\\anaconda3\\lib\\site-packages (from pandas>=1.1->osmnx) (2022.7)\n",
      "Requirement already satisfied: charset-normalizer<4,>=2 in c:\\users\\cielo\\anaconda3\\lib\\site-packages (from requests>=2.27->osmnx) (2.0.4)\n",
      "Requirement already satisfied: idna<4,>=2.5 in c:\\users\\cielo\\anaconda3\\lib\\site-packages (from requests>=2.27->osmnx) (3.4)\n",
      "Requirement already satisfied: urllib3<1.27,>=1.21.1 in c:\\users\\cielo\\anaconda3\\lib\\site-packages (from requests>=2.27->osmnx) (1.26.16)\n",
      "Requirement already satisfied: certifi>=2017.4.17 in c:\\users\\cielo\\anaconda3\\lib\\site-packages (from requests>=2.27->osmnx) (2023.5.7)\n",
      "Requirement already satisfied: attrs>=19.2.0 in c:\\users\\cielo\\anaconda3\\lib\\site-packages (from fiona>=1.8.21->geopandas>=0.12->osmnx) (22.1.0)\n",
      "Requirement already satisfied: click~=8.0 in c:\\users\\cielo\\anaconda3\\lib\\site-packages (from fiona>=1.8.21->geopandas>=0.12->osmnx) (8.0.4)\n",
      "Requirement already satisfied: click-plugins>=1.0 in c:\\users\\cielo\\anaconda3\\lib\\site-packages (from fiona>=1.8.21->geopandas>=0.12->osmnx) (1.1.1)\n",
      "Requirement already satisfied: cligj>=0.5 in c:\\users\\cielo\\anaconda3\\lib\\site-packages (from fiona>=1.8.21->geopandas>=0.12->osmnx) (0.7.2)\n",
      "Requirement already satisfied: six in c:\\users\\cielo\\anaconda3\\lib\\site-packages (from fiona>=1.8.21->geopandas>=0.12->osmnx) (1.16.0)\n",
      "Requirement already satisfied: setuptools in c:\\users\\cielo\\anaconda3\\lib\\site-packages (from fiona>=1.8.21->geopandas>=0.12->osmnx) (67.8.0)\n",
      "Requirement already satisfied: colorama in c:\\users\\cielo\\anaconda3\\lib\\site-packages (from click~=8.0->fiona>=1.8.21->geopandas>=0.12->osmnx) (0.4.6)\n",
      "Requirement already satisfied: tqdm in c:\\users\\cielo\\anaconda3\\lib\\site-packages (4.65.0)\n",
      "Requirement already satisfied: colorama in c:\\users\\cielo\\anaconda3\\lib\\site-packages (from tqdm) (0.4.6)\n"
     ]
    }
   ],
   "source": [
    "##### Install packages\n",
    "!pip install osmnx\n",
    "!pip install tqdm"
   ]
  },
  {
   "cell_type": "code",
   "execution_count": 2,
   "id": "74c39eef-0571-4185-a63e-9ad2f4c75322",
   "metadata": {
    "id": "74c39eef-0571-4185-a63e-9ad2f4c75322",
    "tags": []
   },
   "outputs": [],
   "source": [
    "#Import core libraries\n",
    "import requests\n",
    "import pandas as pd\n",
    "import numpy as np\n",
    "import os\n",
    "\n",
    "import seaborn as sns\n",
    "import matplotlib.pyplot as plt\n",
    "import json\n",
    "\n",
    "import ipywidgets as widgets\n",
    "from ipywidgets import interact\n",
    "\n",
    "import folium\n",
    "from folium import plugins\n",
    "from folium.plugins import HeatMap\n",
    "from geopy.geocoders import Nominatim\n",
    "\n",
    "import osmnx as ox\n",
    "import geopandas as gpd\n",
    "import networkx as nx\n",
    "\n",
    "from sklearn.preprocessing import LabelEncoder\n",
    "from sklearn.model_selection import train_test_split\n",
    "from sklearn.ensemble import RandomForestRegressor\n",
    "from sklearn.metrics import mean_squared_error, r2_score\n",
    "from sklearn.preprocessing import StandardScaler\n",
    "\n",
    "import warnings\n",
    "warnings.filterwarnings(\"ignore\")"
   ]
  },
  {
   "cell_type": "code",
   "execution_count": 3,
   "id": "c59b05f1-5b8c-43a0-9642-ac3648d954db",
   "metadata": {
    "id": "c59b05f1-5b8c-43a0-9642-ac3648d954db",
    "tags": []
   },
   "outputs": [],
   "source": [
    "# Define the company colors format for matplotlib\n",
    "dark_theme_colors = ['#08af64', '#14a38e', '#0f9295', '#056b8a', '#121212'] #Dark theme\n",
    "light_theme_colors = ['#2af598', '#22e4ac', '#1bd7bb', '#14c9cb', '#0fbed8', '#08b3e5'] #Light theme"
   ]
  },
  {
   "cell_type": "code",
   "execution_count": 4,
   "id": "3f5628e5-9e11-44e4-8e00-05e2bd656984",
   "metadata": {
    "id": "3f5628e5-9e11-44e4-8e00-05e2bd656984",
    "tags": []
   },
   "outputs": [],
   "source": [
    "def fetch_data(base_url, dataset, api_key, num_records=99, offset=0):\n",
    "    all_records = []\n",
    "    max_offset = 9900\n",
    "\n",
    "    while True:\n",
    "        if offset > max_offset:\n",
    "            break\n",
    "\n",
    "        filters = f'{dataset}/records?limit={num_records}&offset={offset}'\n",
    "        url = f'{base_url}{filters}&api_key={api_key}'\n",
    "\n",
    "        try:\n",
    "            result = requests.get(url, timeout = 10)\n",
    "            result.raise_for_status()\n",
    "            records = result.json().get('results')\n",
    "        except requests.exceptions.RequestException as e:\n",
    "            raise Exception(f'API request failed: {e}')\n",
    "        if records is None:\n",
    "            break\n",
    "        all_records.extend(records)\n",
    "        if len(records) < num_records:\n",
    "            break\n",
    "\n",
    "        offset += num_records\n",
    "\n",
    "    df = pd.DataFrame(all_records)\n",
    "    return df\n",
    "\n",
    "BASE_URL = 'https://data.melbourne.vic.gov.au/api/explore/v2.1/catalog/datasets/'\n",
    "API_KEY = ''"
   ]
  },
  {
   "cell_type": "markdown",
   "id": "ada7b81e-ccb6-4674-8433-a2fc8b071be0",
   "metadata": {
    "id": "ada7b81e-ccb6-4674-8433-a2fc8b071be0"
   },
   "source": [
    "## Part 1.2: Pre-Processing\n",
    "*   Fetch each dataset, CoM API or load CSV\n",
    "*   Load data to dataframe\n",
    "*   Data cleaning (duplicates, missing values, data types, etc)\n",
    "*   Save cleaned dataset\n",
    "*   Encode Data\n",
    "*   Save encoded dataset\n",
    "*   Correlations\n",
    "*   Merge datasets"
   ]
  },
  {
   "cell_type": "markdown",
   "id": "0fae738f-7675-4ffa-a655-e3a037c8521a",
   "metadata": {
    "id": "0fae738f-7675-4ffa-a655-e3a037c8521a"
   },
   "source": [
    "#### Dataset 1: City Activities and Planned Works\n",
    "*   Dataset Identifier: city-activities-and-planned-works\n",
    "*   Source data updated: Daily\n",
    "\n",
    "<a href=\"https://data.melbourne.vic.gov.au/api/explore/v2.1/catalog/datasets/city-activities-and-planned-works/records?limit=1000\" target=\"_blank\">Dataset Link</a>\n",
    "\n",
    "**Summary:** City events and works permit information that have date and location information.\n",
    "\n",
    "*This dataset contains active and planned activities across the City of Melbourne area. Activities include city works (such as proposed road closures, footpath works or reserved parking permits) and event bookings. The information is derived from permits which are issued by City of Melbourne.*\n",
    "\n",
    "Note: *Each activity includes geo-spatial information to indicate the general area of the activity. The spatial information is not indicative of the activity size as the activity may only take up a small portion of the area for the entry.*\n",
    "\n",
    "Note: *The start and end date fields indicate that the event/activity is expected to occur within this time range. The actual activity may be active for significantly shorter duration than the start and end dates.*\n",
    "\n",
    "\n",
    "*Note this API is uploaded using env.txt (hidden file), optionally add own - however remove before publishing for security*"
   ]
  },
  {
   "cell_type": "markdown",
   "id": "b43316b4-d79d-4c43-ba12-75fa59d4569f",
   "metadata": {
    "id": "b43316b4-d79d-4c43-ba12-75fa59d4569f"
   },
   "source": [
    "##### Fetch Data"
   ]
  },
  {
   "cell_type": "code",
   "execution_count": 5,
   "id": "J-GGQeREI6vV",
   "metadata": {
    "id": "J-GGQeREI6vV"
   },
   "outputs": [],
   "source": [
    "# # Use cell for Google Drive\n",
    "# # Save/ locate saved code to drive\n",
    "\n",
    "# # CSV file path\n",
    "# csv_file_path = '/content/drive/MyDrive/planned_works/datasets/activities.csv'\n",
    "\n",
    "# # Check file\n",
    "# if os.path.exists(csv_file_path):\n",
    "#     # Load CSV\n",
    "#     activities = pd.read_csv(csv_file_path)\n",
    "#     print(\"Data loaded from CSV\")\n",
    "# else:\n",
    "#     # Fetch data\n",
    "#     SENSOR_DATASET = 'city-activities-and-planned-works'\n",
    "#     activities = fetch_data(BASE_URL, SENSOR_DATASET, API_KEY)\n",
    "#     print(\"Data fetched from API key\")\n",
    "\n",
    "#     # Check if the DataFrame exists and is not empty\n",
    "#     if not activities.empty:\n",
    "#         # Save CSV file\n",
    "#         activities.to_csv(csv_file_path, index=False)\n",
    "#         print('Data saved to:', csv_file_path)\n",
    "#     else:\n",
    "#         # Not able to save data\n",
    "#         print('Unable to save data. The DataFrame is empty or does not exist.')\n",
    "\n",
    "#     # Check if the file was created\n",
    "#     if os.path.exists(csv_file_path):\n",
    "#         print('File exists.')\n",
    "#     else:\n",
    "#         print('File does not exist. There was an issue saving the data.')\n",
    "\n",
    "# activities.head() # View data"
   ]
  },
  {
   "cell_type": "code",
   "execution_count": 44,
   "id": "9bcf5bc8-fe44-4e24-b5e9-3c99e0c930e7",
   "metadata": {
    "colab": {
     "base_uri": "https://localhost:8080/",
     "height": 573
    },
    "id": "9bcf5bc8-fe44-4e24-b5e9-3c99e0c930e7",
    "outputId": "1f624c2c-eb73-4749-a342-a9ae3b503b3d",
    "tags": []
   },
   "outputs": [
    {
     "data": {
      "text/html": [
       "<div>\n",
       "<style scoped>\n",
       "    .dataframe tbody tr th:only-of-type {\n",
       "        vertical-align: middle;\n",
       "    }\n",
       "\n",
       "    .dataframe tbody tr th {\n",
       "        vertical-align: top;\n",
       "    }\n",
       "\n",
       "    .dataframe thead th {\n",
       "        text-align: right;\n",
       "    }\n",
       "</style>\n",
       "<table border=\"1\" class=\"dataframe\">\n",
       "  <thead>\n",
       "    <tr style=\"text-align: right;\">\n",
       "      <th></th>\n",
       "      <th>activity_id</th>\n",
       "      <th>classification</th>\n",
       "      <th>end_date</th>\n",
       "      <th>location</th>\n",
       "      <th>notes</th>\n",
       "      <th>source_id</th>\n",
       "      <th>start_date</th>\n",
       "      <th>status</th>\n",
       "      <th>geometry</th>\n",
       "      <th>small_area</th>\n",
       "      <th>geo_point_2d</th>\n",
       "    </tr>\n",
       "  </thead>\n",
       "  <tbody>\n",
       "    <tr>\n",
       "      <th>0</th>\n",
       "      <td>SS-1094323-0-108589-EHD-Permit Issued-23112021...</td>\n",
       "      <td>Structures</td>\n",
       "      <td>2022-08-08</td>\n",
       "      <td>124-134 Russell Street\\rMELBOURNE VIC 3000</td>\n",
       "      <td>Hoarding</td>\n",
       "      <td>EHD-2021-93</td>\n",
       "      <td>2021-11-23</td>\n",
       "      <td>CONFIRMED</td>\n",
       "      <td>MULTIPOLYGON (((144.96857978421863 -37.8134248...</td>\n",
       "      <td>Melbourne (CBD)</td>\n",
       "      <td>{'lon': 144.9686437019243, 'lat': -37.81324619...</td>\n",
       "    </tr>\n",
       "    <tr>\n",
       "      <th>1</th>\n",
       "      <td>SS-1112882-0-104568-ESP-Referred to ESG-240520...</td>\n",
       "      <td>Structures</td>\n",
       "      <td>2022-06-20</td>\n",
       "      <td>3B Haines Street\\rNORTH MELBOURNE VIC 3051</td>\n",
       "      <td>Space Occupancy on Footpath</td>\n",
       "      <td>ESP-2022-171</td>\n",
       "      <td>2022-05-24</td>\n",
       "      <td>PROPOSED</td>\n",
       "      <td>MULTIPOLYGON (((144.95001002561838 -37.7992336...</td>\n",
       "      <td>North Melbourne</td>\n",
       "      <td>{'lon': 144.94995352698322, 'lat': -37.7991232...</td>\n",
       "    </tr>\n",
       "    <tr>\n",
       "      <th>2</th>\n",
       "      <td>WO-884522-1425057-1425057-61-Closed-0111202100...</td>\n",
       "      <td>Traffic Management</td>\n",
       "      <td>2022-06-30</td>\n",
       "      <td>Collins Street between Swanston Street and Eli...</td>\n",
       "      <td>-</td>\n",
       "      <td>884522</td>\n",
       "      <td>2021-11-01</td>\n",
       "      <td>CONFIRMED</td>\n",
       "      <td>MULTIPOLYGON (((144.96641581441756 -37.8156098...</td>\n",
       "      <td>Melbourne (CBD)</td>\n",
       "      <td>{'lon': 144.96522044730128, 'lat': -37.8159275...</td>\n",
       "    </tr>\n",
       "    <tr>\n",
       "      <th>3</th>\n",
       "      <td>SS-1116025-0-105679-ESL-Permit Issued-10052022...</td>\n",
       "      <td>Structures</td>\n",
       "      <td>2022-05-20</td>\n",
       "      <td>131-137 Lonsdale Street\\rMELBOURNE VIC 3000</td>\n",
       "      <td>Scissor Lift/Travel Tower/Boom Lift</td>\n",
       "      <td>ESL-2022-253</td>\n",
       "      <td>2022-05-10</td>\n",
       "      <td>CONFIRMED</td>\n",
       "      <td>MULTIPOLYGON (((144.9686032837506 -37.81082473...</td>\n",
       "      <td>Melbourne (CBD)</td>\n",
       "      <td>{'lon': 144.9685359986355, 'lat': -37.81096693...</td>\n",
       "    </tr>\n",
       "    <tr>\n",
       "      <th>4</th>\n",
       "      <td>SS-949516-0-108646-EBN-Permit Issued-080920180...</td>\n",
       "      <td>Structures</td>\n",
       "      <td>2108-09-09</td>\n",
       "      <td>Unit 119, Level 1\\r9 Commercial Road\\rMELBOURN...</td>\n",
       "      <td>ePathway Bins &amp; Skips</td>\n",
       "      <td>EBN-2018-5393</td>\n",
       "      <td>2018-09-08</td>\n",
       "      <td>CONFIRMED</td>\n",
       "      <td>MULTIPOLYGON (((144.979499824329 -37.846048871...</td>\n",
       "      <td>Melbourne (Remainder)</td>\n",
       "      <td>{'lon': 144.97982502794198, 'lat': -37.8455247...</td>\n",
       "    </tr>\n",
       "  </tbody>\n",
       "</table>\n",
       "</div>"
      ],
      "text/plain": [
       "                                         activity_id      classification  \\\n",
       "0  SS-1094323-0-108589-EHD-Permit Issued-23112021...          Structures   \n",
       "1  SS-1112882-0-104568-ESP-Referred to ESG-240520...          Structures   \n",
       "2  WO-884522-1425057-1425057-61-Closed-0111202100...  Traffic Management   \n",
       "3  SS-1116025-0-105679-ESL-Permit Issued-10052022...          Structures   \n",
       "4  SS-949516-0-108646-EBN-Permit Issued-080920180...          Structures   \n",
       "\n",
       "     end_date                                           location  \\\n",
       "0  2022-08-08         124-134 Russell Street\\rMELBOURNE VIC 3000   \n",
       "1  2022-06-20         3B Haines Street\\rNORTH MELBOURNE VIC 3051   \n",
       "2  2022-06-30  Collins Street between Swanston Street and Eli...   \n",
       "3  2022-05-20        131-137 Lonsdale Street\\rMELBOURNE VIC 3000   \n",
       "4  2108-09-09  Unit 119, Level 1\\r9 Commercial Road\\rMELBOURN...   \n",
       "\n",
       "                                 notes      source_id  start_date     status  \\\n",
       "0                             Hoarding    EHD-2021-93  2021-11-23  CONFIRMED   \n",
       "1          Space Occupancy on Footpath   ESP-2022-171  2022-05-24   PROPOSED   \n",
       "2                                    -         884522  2021-11-01  CONFIRMED   \n",
       "3  Scissor Lift/Travel Tower/Boom Lift   ESL-2022-253  2022-05-10  CONFIRMED   \n",
       "4                ePathway Bins & Skips  EBN-2018-5393  2018-09-08  CONFIRMED   \n",
       "\n",
       "                                            geometry             small_area  \\\n",
       "0  MULTIPOLYGON (((144.96857978421863 -37.8134248...        Melbourne (CBD)   \n",
       "1  MULTIPOLYGON (((144.95001002561838 -37.7992336...        North Melbourne   \n",
       "2  MULTIPOLYGON (((144.96641581441756 -37.8156098...        Melbourne (CBD)   \n",
       "3  MULTIPOLYGON (((144.9686032837506 -37.81082473...        Melbourne (CBD)   \n",
       "4  MULTIPOLYGON (((144.979499824329 -37.846048871...  Melbourne (Remainder)   \n",
       "\n",
       "                                        geo_point_2d  \n",
       "0  {'lon': 144.9686437019243, 'lat': -37.81324619...  \n",
       "1  {'lon': 144.94995352698322, 'lat': -37.7991232...  \n",
       "2  {'lon': 144.96522044730128, 'lat': -37.8159275...  \n",
       "3  {'lon': 144.9685359986355, 'lat': -37.81096693...  \n",
       "4  {'lon': 144.97982502794198, 'lat': -37.8455247...  "
      ]
     },
     "execution_count": 44,
     "metadata": {},
     "output_type": "execute_result"
    }
   ],
   "source": [
    "SENSOR_DATASET = 'city-activities-and-planned-works'\n",
    "activities = fetch_data(BASE_URL, SENSOR_DATASET, API_KEY)\n",
    "activities.head()"
   ]
  },
  {
   "cell_type": "markdown",
   "id": "e535fc57-0176-410e-b769-6679afe6ba92",
   "metadata": {
    "id": "e535fc57-0176-410e-b769-6679afe6ba92"
   },
   "source": [
    "Each record is described by 12 fields\n",
    "\n",
    "The following fields can be divided up for each record:\n",
    "\n",
    "**activity_id:** unique identifier for each activity\n",
    "    \n",
    "**classification:** describes the type\n",
    "    \n",
    "**end_date:** date when activity is planned to conclude\n",
    "    \n",
    "**location:** physical address\n",
    "    \n",
    "**notes:** additional information\n",
    "    \n",
    "**source_id:** identifier for source\n",
    "    \n",
    "**start_date:** activity is planned to start\n",
    "    \n",
    "**status:** stage of completion or approval\n",
    "    \n",
    "**geometry:** geospatial data representing shape, location of activity (polygons)\n",
    "    \n",
    "**small_area:** smaller geographic area/ specific location details\n",
    "    \n",
    "**json_geometry:** geospatial data JSON format (geometry)\n",
    "    \n",
    "**geo_point_2d:** latitude & longitude geospatial data for pinpointing exact location\n",
    "\n",
    "*refer to meta data for information on classification and notes*"
   ]
  },
  {
   "cell_type": "code",
   "execution_count": 7,
   "id": "b1a9fcdb-2bee-4682-893c-eb8a1d9966a3",
   "metadata": {
    "colab": {
     "base_uri": "https://localhost:8080/"
    },
    "id": "b1a9fcdb-2bee-4682-893c-eb8a1d9966a3",
    "outputId": "bb1cba99-b0cc-424f-a156-1f0b10372ba0",
    "tags": []
   },
   "outputs": [
    {
     "name": "stdout",
     "output_type": "stream",
     "text": [
      "<class 'pandas.core.frame.DataFrame'>\n",
      "RangeIndex: 605 entries, 0 to 604\n",
      "Data columns (total 11 columns):\n",
      " #   Column          Non-Null Count  Dtype \n",
      "---  ------          --------------  ----- \n",
      " 0   activity_id     605 non-null    object\n",
      " 1   classification  605 non-null    object\n",
      " 2   end_date        605 non-null    object\n",
      " 3   location        603 non-null    object\n",
      " 4   notes           500 non-null    object\n",
      " 5   source_id       605 non-null    object\n",
      " 6   start_date      605 non-null    object\n",
      " 7   status          605 non-null    object\n",
      " 8   geometry        605 non-null    object\n",
      " 9   small_area      605 non-null    object\n",
      " 10  geo_point_2d    605 non-null    object\n",
      "dtypes: object(11)\n",
      "memory usage: 52.1+ KB\n"
     ]
    }
   ],
   "source": [
    "#View info of data\n",
    "activities.info()"
   ]
  },
  {
   "cell_type": "code",
   "execution_count": 8,
   "id": "3d6a04e6-3bcd-4a94-9566-2ce4b0268e4b",
   "metadata": {
    "colab": {
     "base_uri": "https://localhost:8080/"
    },
    "id": "3d6a04e6-3bcd-4a94-9566-2ce4b0268e4b",
    "outputId": "233a75c5-87ce-47f1-c28a-2e1552887d4b",
    "tags": []
   },
   "outputs": [
    {
     "data": {
      "text/plain": [
       "activity_id         0\n",
       "classification      0\n",
       "end_date            0\n",
       "location            2\n",
       "notes             105\n",
       "source_id           0\n",
       "start_date          0\n",
       "status              0\n",
       "geometry            0\n",
       "small_area          0\n",
       "geo_point_2d        0\n",
       "dtype: int64"
      ]
     },
     "execution_count": 8,
     "metadata": {},
     "output_type": "execute_result"
    }
   ],
   "source": [
    "# Check missing values for dataset\n",
    "missing_values = activities.isnull().sum()\n",
    "missing_values # Number of missing values in each column"
   ]
  },
  {
   "cell_type": "code",
   "execution_count": 10,
   "id": "a0d8115f-fea3-49e6-97bb-57e02a88164e",
   "metadata": {
    "colab": {
     "base_uri": "https://localhost:8080/"
    },
    "id": "a0d8115f-fea3-49e6-97bb-57e02a88164e",
    "outputId": "0fefaaf5-9d4d-4146-f352-67bfcc7582af",
    "tags": []
   },
   "outputs": [
    {
     "name": "stdout",
     "output_type": "stream",
     "text": [
      "Percentage of missing values for 'notes': 17.36%\n",
      "Percentage of missing values for 'location': 0.33%\n",
      "Percentage of missing values for 'geometry': 0.00%\n"
     ]
    }
   ],
   "source": [
    "# Check missing values for dataset\n",
    "# Find missing values in each column\n",
    "missing_values = activities.isnull().sum()\n",
    "\n",
    "# Corrected column names\n",
    "column_name_notes = 'notes'\n",
    "column_name_location = 'location'\n",
    "column_name_json_geometry = 'geometry'\n",
    "\n",
    "# Calculate the percentage of missing values\n",
    "percentage_missing_notes = (missing_values[column_name_notes] / len(activities)) * 100\n",
    "percentage_missing_location = (missing_values[column_name_location] / len(activities)) * 100\n",
    "percentage_missing_json_geometry = (missing_values[column_name_json_geometry] / len(activities)) * 100\n",
    "\n",
    "# Print the results\n",
    "print(f\"Percentage of missing values for '{column_name_notes}': {percentage_missing_notes:.2f}%\")\n",
    "print(f\"Percentage of missing values for '{column_name_location}': {percentage_missing_location:.2f}%\")\n",
    "print(f\"Percentage of missing values for '{column_name_json_geometry}': {percentage_missing_json_geometry:.2f}%\")"
   ]
  },
  {
   "cell_type": "code",
   "execution_count": 45,
   "id": "07a8e53f-abe9-4ab4-951e-4fe9d961e5eb",
   "metadata": {
    "colab": {
     "base_uri": "https://localhost:8080/",
     "height": 1000
    },
    "id": "07a8e53f-abe9-4ab4-951e-4fe9d961e5eb",
    "outputId": "ce366abe-6ab0-467a-8435-cfb59aeef6d8",
    "tags": []
   },
   "outputs": [
    {
     "data": {
      "text/html": [
       "<div>\n",
       "<style scoped>\n",
       "    .dataframe tbody tr th:only-of-type {\n",
       "        vertical-align: middle;\n",
       "    }\n",
       "\n",
       "    .dataframe tbody tr th {\n",
       "        vertical-align: top;\n",
       "    }\n",
       "\n",
       "    .dataframe thead th {\n",
       "        text-align: right;\n",
       "    }\n",
       "</style>\n",
       "<table border=\"1\" class=\"dataframe\">\n",
       "  <thead>\n",
       "    <tr style=\"text-align: right;\">\n",
       "      <th></th>\n",
       "      <th>activity_id</th>\n",
       "      <th>classification</th>\n",
       "      <th>end_date</th>\n",
       "      <th>location</th>\n",
       "      <th>notes</th>\n",
       "      <th>source_id</th>\n",
       "      <th>start_date</th>\n",
       "      <th>status</th>\n",
       "      <th>geometry</th>\n",
       "      <th>small_area</th>\n",
       "      <th>geo_point_2d</th>\n",
       "    </tr>\n",
       "  </thead>\n",
       "  <tbody>\n",
       "    <tr>\n",
       "      <th>55</th>\n",
       "      <td>RP-58995-193310-20131-CON-Confirmed-2205202200...</td>\n",
       "      <td>Reserved Parking</td>\n",
       "      <td>2022-05-22</td>\n",
       "      <td>Flinders Lane between Queen Street and Market ...</td>\n",
       "      <td>None</td>\n",
       "      <td>33004</td>\n",
       "      <td>2022-05-22</td>\n",
       "      <td>CONFIRMED</td>\n",
       "      <td>MULTIPOLYGON (((144.9609153271554 -37.81836010...</td>\n",
       "      <td>Melbourne (CBD)</td>\n",
       "      <td>{'lon': 144.9613598593464, 'lat': -37.81814025...</td>\n",
       "    </tr>\n",
       "    <tr>\n",
       "      <th>56</th>\n",
       "      <td>P-355-4031-4031-9-Warning-200820180000-0307202...</td>\n",
       "      <td>Event</td>\n",
       "      <td>2022-07-03</td>\n",
       "      <td>Flagstaff Gardens: FG - Lawn 12</td>\n",
       "      <td>None</td>\n",
       "      <td>BP355</td>\n",
       "      <td>2018-08-20</td>\n",
       "      <td>WARNING</td>\n",
       "      <td>MULTIPOLYGON (((144.95501283438648 -37.8114374...</td>\n",
       "      <td>West Melbourne (Residential)</td>\n",
       "      <td>{'lon': 144.95488166212928, 'lat': -37.8117943...</td>\n",
       "    </tr>\n",
       "    <tr>\n",
       "      <th>57</th>\n",
       "      <td>RP-59093-193956-20114-REM-Confirmed-1405202200...</td>\n",
       "      <td>Reserved Parking</td>\n",
       "      <td>2022-05-14</td>\n",
       "      <td>Collins Street between Elizabeth Street and Qu...</td>\n",
       "      <td>None</td>\n",
       "      <td>33102</td>\n",
       "      <td>2022-05-14</td>\n",
       "      <td>CONFIRMED</td>\n",
       "      <td>MULTIPOLYGON (((144.9620098149816 -37.81703725...</td>\n",
       "      <td>Melbourne (CBD)</td>\n",
       "      <td>{'lon': 144.96288709385632, 'lat': -37.8166874...</td>\n",
       "    </tr>\n",
       "    <tr>\n",
       "      <th>58</th>\n",
       "      <td>RP-59031-193441-20009-COU-Confirmed-2505202200...</td>\n",
       "      <td>Reserved Parking</td>\n",
       "      <td>2022-05-25</td>\n",
       "      <td>Lonsdale Street between Elizabeth Street and Q...</td>\n",
       "      <td>None</td>\n",
       "      <td>33040</td>\n",
       "      <td>2022-05-25</td>\n",
       "      <td>CONFIRMED</td>\n",
       "      <td>MULTIPOLYGON (((144.9601588020901 -37.81297584...</td>\n",
       "      <td>Melbourne (CBD)</td>\n",
       "      <td>{'lon': 144.96102928097045, 'lat': -37.8126279...</td>\n",
       "    </tr>\n",
       "    <tr>\n",
       "      <th>59</th>\n",
       "      <td>RP-59095-193969-21212-COU-Confirmed-2005202200...</td>\n",
       "      <td>Reserved Parking</td>\n",
       "      <td>2022-05-20</td>\n",
       "      <td>Canning Street between Dryburgh Street and Shi...</td>\n",
       "      <td>None</td>\n",
       "      <td>33104</td>\n",
       "      <td>2022-05-20</td>\n",
       "      <td>CONFIRMED</td>\n",
       "      <td>MULTIPOLYGON (((144.94331457420066 -37.7961879...</td>\n",
       "      <td>North Melbourne</td>\n",
       "      <td>{'lon': 144.94332313086622, 'lat': -37.7960979...</td>\n",
       "    </tr>\n",
       "    <tr>\n",
       "      <th>...</th>\n",
       "      <td>...</td>\n",
       "      <td>...</td>\n",
       "      <td>...</td>\n",
       "      <td>...</td>\n",
       "      <td>...</td>\n",
       "      <td>...</td>\n",
       "      <td>...</td>\n",
       "      <td>...</td>\n",
       "      <td>...</td>\n",
       "      <td>...</td>\n",
       "      <td>...</td>\n",
       "    </tr>\n",
       "    <tr>\n",
       "      <th>600</th>\n",
       "      <td>RP-59031-193439-20009-COU-Confirmed-2305202200...</td>\n",
       "      <td>Reserved Parking</td>\n",
       "      <td>2022-05-23</td>\n",
       "      <td>Lonsdale Street between Elizabeth Street and Q...</td>\n",
       "      <td>None</td>\n",
       "      <td>33040</td>\n",
       "      <td>2022-05-23</td>\n",
       "      <td>CONFIRMED</td>\n",
       "      <td>MULTIPOLYGON (((144.9601588020901 -37.81297584...</td>\n",
       "      <td>Melbourne (CBD)</td>\n",
       "      <td>{'lon': 144.96102928097045, 'lat': -37.8126279...</td>\n",
       "    </tr>\n",
       "    <tr>\n",
       "      <th>601</th>\n",
       "      <td>RP-56575-181820-20108-WED-Confirmed-0406202200...</td>\n",
       "      <td>Reserved Parking</td>\n",
       "      <td>2022-06-04</td>\n",
       "      <td>Collins Street between Exhibition Street and R...</td>\n",
       "      <td>None</td>\n",
       "      <td>30596</td>\n",
       "      <td>2022-06-04</td>\n",
       "      <td>CONFIRMED</td>\n",
       "      <td>MULTIPOLYGON (((144.97010726397713 -37.8141942...</td>\n",
       "      <td>Melbourne (CBD)</td>\n",
       "      <td>{'lon': 144.97018119666976, 'lat': -37.8142693...</td>\n",
       "    </tr>\n",
       "    <tr>\n",
       "      <th>602</th>\n",
       "      <td>RP-59031-193447-20009-COU-Confirmed-3105202200...</td>\n",
       "      <td>Reserved Parking</td>\n",
       "      <td>2022-05-31</td>\n",
       "      <td>Lonsdale Street between Elizabeth Street and Q...</td>\n",
       "      <td>None</td>\n",
       "      <td>33040</td>\n",
       "      <td>2022-05-31</td>\n",
       "      <td>CONFIRMED</td>\n",
       "      <td>MULTIPOLYGON (((144.9601588020901 -37.81297584...</td>\n",
       "      <td>Melbourne (CBD)</td>\n",
       "      <td>{'lon': 144.96102928097045, 'lat': -37.8126279...</td>\n",
       "    </tr>\n",
       "    <tr>\n",
       "      <th>603</th>\n",
       "      <td>RP-59094-193961-21324-COU-Confirmed-1905202200...</td>\n",
       "      <td>Reserved Parking</td>\n",
       "      <td>2022-05-19</td>\n",
       "      <td>Canning Street between Shiel Street and Vaugha...</td>\n",
       "      <td>None</td>\n",
       "      <td>33103</td>\n",
       "      <td>2022-05-19</td>\n",
       "      <td>CONFIRMED</td>\n",
       "      <td>MULTIPOLYGON (((144.94037919728004 -37.7958586...</td>\n",
       "      <td>North Melbourne</td>\n",
       "      <td>{'lon': 144.94084243761404, 'lat': -37.7958202...</td>\n",
       "    </tr>\n",
       "    <tr>\n",
       "      <th>604</th>\n",
       "      <td>RP-59031-193442-20009-COU-Confirmed-2605202200...</td>\n",
       "      <td>Reserved Parking</td>\n",
       "      <td>2022-05-26</td>\n",
       "      <td>Lonsdale Street between Elizabeth Street and Q...</td>\n",
       "      <td>None</td>\n",
       "      <td>33040</td>\n",
       "      <td>2022-05-26</td>\n",
       "      <td>CONFIRMED</td>\n",
       "      <td>MULTIPOLYGON (((144.9601588020901 -37.81297584...</td>\n",
       "      <td>Melbourne (CBD)</td>\n",
       "      <td>{'lon': 144.96102928097045, 'lat': -37.8126279...</td>\n",
       "    </tr>\n",
       "  </tbody>\n",
       "</table>\n",
       "<p>105 rows × 11 columns</p>\n",
       "</div>"
      ],
      "text/plain": [
       "                                           activity_id    classification  \\\n",
       "55   RP-58995-193310-20131-CON-Confirmed-2205202200...  Reserved Parking   \n",
       "56   P-355-4031-4031-9-Warning-200820180000-0307202...             Event   \n",
       "57   RP-59093-193956-20114-REM-Confirmed-1405202200...  Reserved Parking   \n",
       "58   RP-59031-193441-20009-COU-Confirmed-2505202200...  Reserved Parking   \n",
       "59   RP-59095-193969-21212-COU-Confirmed-2005202200...  Reserved Parking   \n",
       "..                                                 ...               ...   \n",
       "600  RP-59031-193439-20009-COU-Confirmed-2305202200...  Reserved Parking   \n",
       "601  RP-56575-181820-20108-WED-Confirmed-0406202200...  Reserved Parking   \n",
       "602  RP-59031-193447-20009-COU-Confirmed-3105202200...  Reserved Parking   \n",
       "603  RP-59094-193961-21324-COU-Confirmed-1905202200...  Reserved Parking   \n",
       "604  RP-59031-193442-20009-COU-Confirmed-2605202200...  Reserved Parking   \n",
       "\n",
       "       end_date                                           location notes  \\\n",
       "55   2022-05-22  Flinders Lane between Queen Street and Market ...  None   \n",
       "56   2022-07-03                    Flagstaff Gardens: FG - Lawn 12  None   \n",
       "57   2022-05-14  Collins Street between Elizabeth Street and Qu...  None   \n",
       "58   2022-05-25  Lonsdale Street between Elizabeth Street and Q...  None   \n",
       "59   2022-05-20  Canning Street between Dryburgh Street and Shi...  None   \n",
       "..          ...                                                ...   ...   \n",
       "600  2022-05-23  Lonsdale Street between Elizabeth Street and Q...  None   \n",
       "601  2022-06-04  Collins Street between Exhibition Street and R...  None   \n",
       "602  2022-05-31  Lonsdale Street between Elizabeth Street and Q...  None   \n",
       "603  2022-05-19  Canning Street between Shiel Street and Vaugha...  None   \n",
       "604  2022-05-26  Lonsdale Street between Elizabeth Street and Q...  None   \n",
       "\n",
       "    source_id  start_date     status  \\\n",
       "55      33004  2022-05-22  CONFIRMED   \n",
       "56      BP355  2018-08-20    WARNING   \n",
       "57      33102  2022-05-14  CONFIRMED   \n",
       "58      33040  2022-05-25  CONFIRMED   \n",
       "59      33104  2022-05-20  CONFIRMED   \n",
       "..        ...         ...        ...   \n",
       "600     33040  2022-05-23  CONFIRMED   \n",
       "601     30596  2022-06-04  CONFIRMED   \n",
       "602     33040  2022-05-31  CONFIRMED   \n",
       "603     33103  2022-05-19  CONFIRMED   \n",
       "604     33040  2022-05-26  CONFIRMED   \n",
       "\n",
       "                                              geometry  \\\n",
       "55   MULTIPOLYGON (((144.9609153271554 -37.81836010...   \n",
       "56   MULTIPOLYGON (((144.95501283438648 -37.8114374...   \n",
       "57   MULTIPOLYGON (((144.9620098149816 -37.81703725...   \n",
       "58   MULTIPOLYGON (((144.9601588020901 -37.81297584...   \n",
       "59   MULTIPOLYGON (((144.94331457420066 -37.7961879...   \n",
       "..                                                 ...   \n",
       "600  MULTIPOLYGON (((144.9601588020901 -37.81297584...   \n",
       "601  MULTIPOLYGON (((144.97010726397713 -37.8141942...   \n",
       "602  MULTIPOLYGON (((144.9601588020901 -37.81297584...   \n",
       "603  MULTIPOLYGON (((144.94037919728004 -37.7958586...   \n",
       "604  MULTIPOLYGON (((144.9601588020901 -37.81297584...   \n",
       "\n",
       "                       small_area  \\\n",
       "55                Melbourne (CBD)   \n",
       "56   West Melbourne (Residential)   \n",
       "57                Melbourne (CBD)   \n",
       "58                Melbourne (CBD)   \n",
       "59                North Melbourne   \n",
       "..                            ...   \n",
       "600               Melbourne (CBD)   \n",
       "601               Melbourne (CBD)   \n",
       "602               Melbourne (CBD)   \n",
       "603               North Melbourne   \n",
       "604               Melbourne (CBD)   \n",
       "\n",
       "                                          geo_point_2d  \n",
       "55   {'lon': 144.9613598593464, 'lat': -37.81814025...  \n",
       "56   {'lon': 144.95488166212928, 'lat': -37.8117943...  \n",
       "57   {'lon': 144.96288709385632, 'lat': -37.8166874...  \n",
       "58   {'lon': 144.96102928097045, 'lat': -37.8126279...  \n",
       "59   {'lon': 144.94332313086622, 'lat': -37.7960979...  \n",
       "..                                                 ...  \n",
       "600  {'lon': 144.96102928097045, 'lat': -37.8126279...  \n",
       "601  {'lon': 144.97018119666976, 'lat': -37.8142693...  \n",
       "602  {'lon': 144.96102928097045, 'lat': -37.8126279...  \n",
       "603  {'lon': 144.94084243761404, 'lat': -37.7958202...  \n",
       "604  {'lon': 144.96102928097045, 'lat': -37.8126279...  \n",
       "\n",
       "[105 rows x 11 columns]"
      ]
     },
     "execution_count": 45,
     "metadata": {},
     "output_type": "execute_result"
    }
   ],
   "source": [
    "# Find missing notes\n",
    "missing_notes_completed = activities[activities['notes'].isnull()]\n",
    "missing_notes_completed"
   ]
  },
  {
   "cell_type": "code",
   "execution_count": 46,
   "id": "1ff1f5c9-6b23-4672-8a85-2cd2d285b242",
   "metadata": {
    "id": "1ff1f5c9-6b23-4672-8a85-2cd2d285b242",
    "tags": []
   },
   "outputs": [],
   "source": [
    "#Replace \"-\" with NaN\n",
    "activities['notes'].replace('-', float('nan'), inplace=True)"
   ]
  },
  {
   "cell_type": "code",
   "execution_count": 13,
   "id": "4f55dfa6-7750-47e1-8c42-911db1f07eb7",
   "metadata": {
    "colab": {
     "base_uri": "https://localhost:8080/",
     "height": 251
    },
    "id": "4f55dfa6-7750-47e1-8c42-911db1f07eb7",
    "outputId": "a835fac6-e805-4530-84c1-d57a5a3b4765",
    "tags": []
   },
   "outputs": [
    {
     "data": {
      "text/html": [
       "<div>\n",
       "<style scoped>\n",
       "    .dataframe tbody tr th:only-of-type {\n",
       "        vertical-align: middle;\n",
       "    }\n",
       "\n",
       "    .dataframe tbody tr th {\n",
       "        vertical-align: top;\n",
       "    }\n",
       "\n",
       "    .dataframe thead th {\n",
       "        text-align: right;\n",
       "    }\n",
       "</style>\n",
       "<table border=\"1\" class=\"dataframe\">\n",
       "  <thead>\n",
       "    <tr style=\"text-align: right;\">\n",
       "      <th></th>\n",
       "      <th>activity_id</th>\n",
       "      <th>classification</th>\n",
       "      <th>end_date</th>\n",
       "      <th>location</th>\n",
       "      <th>notes</th>\n",
       "      <th>source_id</th>\n",
       "      <th>start_date</th>\n",
       "      <th>status</th>\n",
       "      <th>geometry</th>\n",
       "      <th>small_area</th>\n",
       "      <th>geo_point_2d</th>\n",
       "    </tr>\n",
       "  </thead>\n",
       "  <tbody>\n",
       "    <tr>\n",
       "      <th>239</th>\n",
       "      <td>WO-728357-1438751-1438751-61-Closed-0101202200...</td>\n",
       "      <td>Traffic Management</td>\n",
       "      <td>2022-06-30</td>\n",
       "      <td>None</td>\n",
       "      <td>NaN</td>\n",
       "      <td>728357</td>\n",
       "      <td>2022-01-01</td>\n",
       "      <td>CONFIRMED</td>\n",
       "      <td>MULTIPOLYGON (((144.96254632921952 -37.8067091...</td>\n",
       "      <td>Melbourne (CBD)</td>\n",
       "      <td>{'lon': 144.96216132334592, 'lat': -37.8065740...</td>\n",
       "    </tr>\n",
       "    <tr>\n",
       "      <th>430</th>\n",
       "      <td>WO-721357-1438514-1438514-61-Closed-1001202200...</td>\n",
       "      <td>Traffic Management</td>\n",
       "      <td>2022-06-30</td>\n",
       "      <td>None</td>\n",
       "      <td>NaN</td>\n",
       "      <td>721357</td>\n",
       "      <td>2022-01-10</td>\n",
       "      <td>CONFIRMED</td>\n",
       "      <td>MULTIPOLYGON (((144.96622213919196 -37.8133736...</td>\n",
       "      <td>Melbourne (CBD)</td>\n",
       "      <td>{'lon': 144.96615899198162, 'lat': -37.8133628...</td>\n",
       "    </tr>\n",
       "  </tbody>\n",
       "</table>\n",
       "</div>"
      ],
      "text/plain": [
       "                                           activity_id      classification  \\\n",
       "239  WO-728357-1438751-1438751-61-Closed-0101202200...  Traffic Management   \n",
       "430  WO-721357-1438514-1438514-61-Closed-1001202200...  Traffic Management   \n",
       "\n",
       "       end_date location notes source_id  start_date     status  \\\n",
       "239  2022-06-30     None   NaN    728357  2022-01-01  CONFIRMED   \n",
       "430  2022-06-30     None   NaN    721357  2022-01-10  CONFIRMED   \n",
       "\n",
       "                                              geometry       small_area  \\\n",
       "239  MULTIPOLYGON (((144.96254632921952 -37.8067091...  Melbourne (CBD)   \n",
       "430  MULTIPOLYGON (((144.96622213919196 -37.8133736...  Melbourne (CBD)   \n",
       "\n",
       "                                          geo_point_2d  \n",
       "239  {'lon': 144.96216132334592, 'lat': -37.8065740...  \n",
       "430  {'lon': 144.96615899198162, 'lat': -37.8133628...  "
      ]
     },
     "execution_count": 13,
     "metadata": {},
     "output_type": "execute_result"
    }
   ],
   "source": [
    "# Find missing location\n",
    "missing_location_completed = activities[activities['location'].isnull()]\n",
    "missing_location_completed"
   ]
  },
  {
   "cell_type": "code",
   "execution_count": 47,
   "id": "15dec030-061c-4065-ad59-adbd23ff7166",
   "metadata": {
    "id": "15dec030-061c-4065-ad59-adbd23ff7166",
    "tags": []
   },
   "outputs": [],
   "source": [
    "# Fill missing values in location\n",
    "activities['location'].replace('None', float('nan'), inplace=True)"
   ]
  },
  {
   "cell_type": "code",
   "execution_count": 16,
   "id": "d00f494f-be58-4fb1-99cd-011e8bb16d69",
   "metadata": {
    "colab": {
     "base_uri": "https://localhost:8080/",
     "height": 1000
    },
    "id": "d00f494f-be58-4fb1-99cd-011e8bb16d69",
    "outputId": "50804c39-5c73-46a4-e5b2-800a1a39ff91",
    "tags": []
   },
   "outputs": [
    {
     "data": {
      "text/html": [
       "<div>\n",
       "<style scoped>\n",
       "    .dataframe tbody tr th:only-of-type {\n",
       "        vertical-align: middle;\n",
       "    }\n",
       "\n",
       "    .dataframe tbody tr th {\n",
       "        vertical-align: top;\n",
       "    }\n",
       "\n",
       "    .dataframe thead th {\n",
       "        text-align: right;\n",
       "    }\n",
       "</style>\n",
       "<table border=\"1\" class=\"dataframe\">\n",
       "  <thead>\n",
       "    <tr style=\"text-align: right;\">\n",
       "      <th></th>\n",
       "      <th>activity_id</th>\n",
       "      <th>classification</th>\n",
       "      <th>end_date</th>\n",
       "      <th>location</th>\n",
       "      <th>notes</th>\n",
       "      <th>source_id</th>\n",
       "      <th>start_date</th>\n",
       "      <th>status</th>\n",
       "      <th>geometry</th>\n",
       "      <th>small_area</th>\n",
       "      <th>geo_point_2d</th>\n",
       "    </tr>\n",
       "  </thead>\n",
       "  <tbody>\n",
       "  </tbody>\n",
       "</table>\n",
       "</div>"
      ],
      "text/plain": [
       "Empty DataFrame\n",
       "Columns: [activity_id, classification, end_date, location, notes, source_id, start_date, status, geometry, small_area, geo_point_2d]\n",
       "Index: []"
      ]
     },
     "execution_count": 16,
     "metadata": {},
     "output_type": "execute_result"
    }
   ],
   "source": [
    "# Find missing json_geometry\n",
    "missing_json_geometry_completed = activities[activities['geometry'].isnull()]\n",
    "missing_json_geometry_completed"
   ]
  },
  {
   "cell_type": "code",
   "execution_count": 18,
   "id": "56671802-e0b4-406e-b5e1-cd38f455cb69",
   "metadata": {
    "id": "56671802-e0b4-406e-b5e1-cd38f455cb69",
    "tags": []
   },
   "outputs": [],
   "source": [
    "# Fill missing values in json_geometry\n",
    "activities['geometry'].replace('None', float('nan'), inplace=True)"
   ]
  },
  {
   "cell_type": "code",
   "execution_count": 19,
   "id": "ebae6d3b-55d5-4d01-b152-0d33d56fdc8c",
   "metadata": {
    "colab": {
     "base_uri": "https://localhost:8080/"
    },
    "id": "ebae6d3b-55d5-4d01-b152-0d33d56fdc8c",
    "outputId": "35659e54-0ab0-4f2b-b0c8-aed19170c89e",
    "tags": []
   },
   "outputs": [
    {
     "name": "stdout",
     "output_type": "stream",
     "text": [
      "Number of unique 'activity_id' values in activities: 605\n",
      "Total number of elements in activities: 605\n"
     ]
    }
   ],
   "source": [
    "# Check number of unique elements and number of rows (shape/ data points)\n",
    "unique_dev_keys_in_activities = activities['activity_id'].nunique()\n",
    "print(f\"Number of unique 'activity_id' values in activities: {unique_dev_keys_in_activities}\")\n",
    "\n",
    "total_data_in_activities = activities.shape[0]\n",
    "print(f\"Total number of elements in activities: {total_data_in_activities}\")"
   ]
  },
  {
   "cell_type": "code",
   "execution_count": 20,
   "id": "26389563-3c9e-47db-8625-8e9a6c03a0bd",
   "metadata": {
    "colab": {
     "base_uri": "https://localhost:8080/"
    },
    "collapsed": true,
    "id": "26389563-3c9e-47db-8625-8e9a6c03a0bd",
    "jupyter": {
     "outputs_hidden": true
    },
    "outputId": "5e8e472a-6018-4724-bca0-bc6ec7b9c1bb",
    "tags": []
   },
   "outputs": [
    {
     "ename": "TypeError",
     "evalue": "unhashable type: 'dict'",
     "output_type": "error",
     "traceback": [
      "\u001b[1;31m---------------------------------------------------------------------------\u001b[0m",
      "\u001b[1;31mTypeError\u001b[0m                                 Traceback (most recent call last)",
      "Cell \u001b[1;32mIn[20], line 2\u001b[0m\n\u001b[0;32m      1\u001b[0m \u001b[38;5;66;03m# Check for duplicates\u001b[39;00m\n\u001b[1;32m----> 2\u001b[0m duplicates \u001b[38;5;241m=\u001b[39m activities\u001b[38;5;241m.\u001b[39mduplicated()\n\u001b[0;32m      4\u001b[0m \u001b[38;5;66;03m# Count the number of duplicates\u001b[39;00m\n\u001b[0;32m      5\u001b[0m num_duplicates \u001b[38;5;241m=\u001b[39m duplicates\u001b[38;5;241m.\u001b[39msum()\n",
      "File \u001b[1;32m~\\anaconda3\\Lib\\site-packages\\pandas\\core\\frame.py:6814\u001b[0m, in \u001b[0;36mDataFrame.duplicated\u001b[1;34m(self, subset, keep)\u001b[0m\n\u001b[0;32m   6812\u001b[0m \u001b[38;5;28;01melse\u001b[39;00m:\n\u001b[0;32m   6813\u001b[0m     vals \u001b[38;5;241m=\u001b[39m (col\u001b[38;5;241m.\u001b[39mvalues \u001b[38;5;28;01mfor\u001b[39;00m name, col \u001b[38;5;129;01min\u001b[39;00m \u001b[38;5;28mself\u001b[39m\u001b[38;5;241m.\u001b[39mitems() \u001b[38;5;28;01mif\u001b[39;00m name \u001b[38;5;129;01min\u001b[39;00m subset)\n\u001b[1;32m-> 6814\u001b[0m     labels, shape \u001b[38;5;241m=\u001b[39m \u001b[38;5;28mmap\u001b[39m(\u001b[38;5;28mlist\u001b[39m, \u001b[38;5;28mzip\u001b[39m(\u001b[38;5;241m*\u001b[39m\u001b[38;5;28mmap\u001b[39m(f, vals)))\n\u001b[0;32m   6816\u001b[0m     ids \u001b[38;5;241m=\u001b[39m get_group_index(\n\u001b[0;32m   6817\u001b[0m         labels,\n\u001b[0;32m   6818\u001b[0m         \u001b[38;5;66;03m# error: Argument 1 to \"tuple\" has incompatible type \"List[_T]\";\u001b[39;00m\n\u001b[1;32m   (...)\u001b[0m\n\u001b[0;32m   6822\u001b[0m         xnull\u001b[38;5;241m=\u001b[39m\u001b[38;5;28;01mFalse\u001b[39;00m,\n\u001b[0;32m   6823\u001b[0m     )\n\u001b[0;32m   6824\u001b[0m     result \u001b[38;5;241m=\u001b[39m \u001b[38;5;28mself\u001b[39m\u001b[38;5;241m.\u001b[39m_constructor_sliced(duplicated(ids, keep), index\u001b[38;5;241m=\u001b[39m\u001b[38;5;28mself\u001b[39m\u001b[38;5;241m.\u001b[39mindex)\n",
      "File \u001b[1;32m~\\anaconda3\\Lib\\site-packages\\pandas\\core\\frame.py:6782\u001b[0m, in \u001b[0;36mDataFrame.duplicated.<locals>.f\u001b[1;34m(vals)\u001b[0m\n\u001b[0;32m   6781\u001b[0m \u001b[38;5;28;01mdef\u001b[39;00m \u001b[38;5;21mf\u001b[39m(vals) \u001b[38;5;241m-\u001b[39m\u001b[38;5;241m>\u001b[39m \u001b[38;5;28mtuple\u001b[39m[np\u001b[38;5;241m.\u001b[39mndarray, \u001b[38;5;28mint\u001b[39m]:\n\u001b[1;32m-> 6782\u001b[0m     labels, shape \u001b[38;5;241m=\u001b[39m algorithms\u001b[38;5;241m.\u001b[39mfactorize(vals, size_hint\u001b[38;5;241m=\u001b[39m\u001b[38;5;28mlen\u001b[39m(\u001b[38;5;28mself\u001b[39m))\n\u001b[0;32m   6783\u001b[0m     \u001b[38;5;28;01mreturn\u001b[39;00m labels\u001b[38;5;241m.\u001b[39mastype(\u001b[38;5;124m\"\u001b[39m\u001b[38;5;124mi8\u001b[39m\u001b[38;5;124m\"\u001b[39m, copy\u001b[38;5;241m=\u001b[39m\u001b[38;5;28;01mFalse\u001b[39;00m), \u001b[38;5;28mlen\u001b[39m(shape)\n",
      "File \u001b[1;32m~\\anaconda3\\Lib\\site-packages\\pandas\\core\\algorithms.py:822\u001b[0m, in \u001b[0;36mfactorize\u001b[1;34m(values, sort, na_sentinel, use_na_sentinel, size_hint)\u001b[0m\n\u001b[0;32m    819\u001b[0m             \u001b[38;5;66;03m# Don't modify (potentially user-provided) array\u001b[39;00m\n\u001b[0;32m    820\u001b[0m             values \u001b[38;5;241m=\u001b[39m np\u001b[38;5;241m.\u001b[39mwhere(null_mask, na_value, values)\n\u001b[1;32m--> 822\u001b[0m     codes, uniques \u001b[38;5;241m=\u001b[39m factorize_array(\n\u001b[0;32m    823\u001b[0m         values,\n\u001b[0;32m    824\u001b[0m         na_sentinel\u001b[38;5;241m=\u001b[39mna_sentinel_arg,\n\u001b[0;32m    825\u001b[0m         size_hint\u001b[38;5;241m=\u001b[39msize_hint,\n\u001b[0;32m    826\u001b[0m     )\n\u001b[0;32m    828\u001b[0m \u001b[38;5;28;01mif\u001b[39;00m sort \u001b[38;5;129;01mand\u001b[39;00m \u001b[38;5;28mlen\u001b[39m(uniques) \u001b[38;5;241m>\u001b[39m \u001b[38;5;241m0\u001b[39m:\n\u001b[0;32m    829\u001b[0m     \u001b[38;5;28;01mif\u001b[39;00m na_sentinel \u001b[38;5;129;01mis\u001b[39;00m \u001b[38;5;28;01mNone\u001b[39;00m:\n\u001b[0;32m    830\u001b[0m         \u001b[38;5;66;03m# TODO: Can remove when na_sentinel=na_sentinel as in TODO above\u001b[39;00m\n",
      "File \u001b[1;32m~\\anaconda3\\Lib\\site-packages\\pandas\\core\\algorithms.py:578\u001b[0m, in \u001b[0;36mfactorize_array\u001b[1;34m(values, na_sentinel, size_hint, na_value, mask)\u001b[0m\n\u001b[0;32m    575\u001b[0m hash_klass, values \u001b[38;5;241m=\u001b[39m _get_hashtable_algo(values)\n\u001b[0;32m    577\u001b[0m table \u001b[38;5;241m=\u001b[39m hash_klass(size_hint \u001b[38;5;129;01mor\u001b[39;00m \u001b[38;5;28mlen\u001b[39m(values))\n\u001b[1;32m--> 578\u001b[0m uniques, codes \u001b[38;5;241m=\u001b[39m table\u001b[38;5;241m.\u001b[39mfactorize(\n\u001b[0;32m    579\u001b[0m     values,\n\u001b[0;32m    580\u001b[0m     na_sentinel\u001b[38;5;241m=\u001b[39mna_sentinel,\n\u001b[0;32m    581\u001b[0m     na_value\u001b[38;5;241m=\u001b[39mna_value,\n\u001b[0;32m    582\u001b[0m     mask\u001b[38;5;241m=\u001b[39mmask,\n\u001b[0;32m    583\u001b[0m     ignore_na\u001b[38;5;241m=\u001b[39mignore_na,\n\u001b[0;32m    584\u001b[0m )\n\u001b[0;32m    586\u001b[0m \u001b[38;5;66;03m# re-cast e.g. i8->dt64/td64, uint8->bool\u001b[39;00m\n\u001b[0;32m    587\u001b[0m uniques \u001b[38;5;241m=\u001b[39m _reconstruct_data(uniques, original\u001b[38;5;241m.\u001b[39mdtype, original)\n",
      "File \u001b[1;32mpandas\\_libs\\hashtable_class_helper.pxi:5943\u001b[0m, in \u001b[0;36mpandas._libs.hashtable.PyObjectHashTable.factorize\u001b[1;34m()\u001b[0m\n",
      "File \u001b[1;32mpandas\\_libs\\hashtable_class_helper.pxi:5857\u001b[0m, in \u001b[0;36mpandas._libs.hashtable.PyObjectHashTable._unique\u001b[1;34m()\u001b[0m\n",
      "\u001b[1;31mTypeError\u001b[0m: unhashable type: 'dict'"
     ]
    }
   ],
   "source": [
    "# Check for duplicates\n",
    "duplicates = activities.duplicated()\n",
    "\n",
    "# Count the number of duplicates\n",
    "num_duplicates = duplicates.sum()\n",
    "\n",
    "# Display\n",
    "duplicate_rows = activities[duplicates]\n",
    "print(\"Number of duplicate rows:\", num_duplicates)\n",
    "print(\"Duplicate rows:\")\n",
    "print(duplicate_rows)"
   ]
  },
  {
   "cell_type": "code",
   "execution_count": 61,
   "id": "ce82eb37-77fa-453f-aef9-f540bed9c0ed",
   "metadata": {
    "tags": []
   },
   "outputs": [
    {
     "data": {
      "text/plain": [
       "340    2921-11-19\n",
       "Name: end_date, dtype: object"
      ]
     },
     "execution_count": 61,
     "metadata": {},
     "output_type": "execute_result"
    }
   ],
   "source": [
    "activities['end_date'].loc[activities['end_date'].str.startswith('2921', na=False)]"
   ]
  },
  {
   "cell_type": "code",
   "execution_count": 63,
   "id": "486a4caa-3b9a-47d1-899f-eba1c8b57380",
   "metadata": {
    "tags": []
   },
   "outputs": [],
   "source": [
    "activities.at[340, 'end_date'] = '2021-11-19'"
   ]
  },
  {
   "cell_type": "markdown",
   "id": "08399484-a8c5-4113-a015-4418709a3137",
   "metadata": {
    "id": "08399484-a8c5-4113-a015-4418709a3137"
   },
   "source": [
    "##### Check data types"
   ]
  },
  {
   "cell_type": "code",
   "execution_count": 66,
   "id": "cba3a7a7-9a36-4587-a12b-7cf5d0f4f583",
   "metadata": {
    "colab": {
     "base_uri": "https://localhost:8080/"
    },
    "id": "cba3a7a7-9a36-4587-a12b-7cf5d0f4f583",
    "outputId": "3ec4d800-91ba-4194-b1de-3d50a577a75a",
    "tags": []
   },
   "outputs": [
    {
     "data": {
      "text/plain": [
       "activity_id               object\n",
       "classification            object\n",
       "end_date          datetime64[ns]\n",
       "location                  object\n",
       "notes                     object\n",
       "source_id                 object\n",
       "start_date        datetime64[ns]\n",
       "status                    object\n",
       "geometry                  object\n",
       "small_area                object\n",
       "geo_point_2d              object\n",
       "dtype: object"
      ]
     },
     "execution_count": 66,
     "metadata": {},
     "output_type": "execute_result"
    }
   ],
   "source": [
    "activities.dtypes"
   ]
  },
  {
   "cell_type": "markdown",
   "id": "daa69004-64cc-4fdc-975b-449856977cd6",
   "metadata": {
    "id": "daa69004-64cc-4fdc-975b-449856977cd6"
   },
   "source": [
    "##### Convert Data Types"
   ]
  },
  {
   "cell_type": "code",
   "execution_count": 65,
   "id": "91f51832-2d4f-4972-bfc6-cc0dbf1d20d9",
   "metadata": {
    "id": "91f51832-2d4f-4972-bfc6-cc0dbf1d20d9",
    "tags": []
   },
   "outputs": [],
   "source": [
    "# Convert the 'start_date' and 'end_date' columns to datetime\n",
    "activities['start_date'] = pd.to_datetime(activities['start_date'])\n",
    "activities['end_date'] = pd.to_datetime(activities['end_date'])"
   ]
  },
  {
   "cell_type": "code",
   "execution_count": 67,
   "id": "6f12e63a-2728-4343-906f-c09cfd9c6c73",
   "metadata": {
    "colab": {
     "base_uri": "https://localhost:8080/",
     "height": 452
    },
    "id": "6f12e63a-2728-4343-906f-c09cfd9c6c73",
    "outputId": "94c4c0fe-491d-4279-d5cc-b05c8f446540",
    "tags": []
   },
   "outputs": [
    {
     "data": {
      "text/html": [
       "<div>\n",
       "<style scoped>\n",
       "    .dataframe tbody tr th:only-of-type {\n",
       "        vertical-align: middle;\n",
       "    }\n",
       "\n",
       "    .dataframe tbody tr th {\n",
       "        vertical-align: top;\n",
       "    }\n",
       "\n",
       "    .dataframe thead th {\n",
       "        text-align: right;\n",
       "    }\n",
       "</style>\n",
       "<table border=\"1\" class=\"dataframe\">\n",
       "  <thead>\n",
       "    <tr style=\"text-align: right;\">\n",
       "      <th></th>\n",
       "      <th>activity_id</th>\n",
       "      <th>classification</th>\n",
       "      <th>end_date</th>\n",
       "      <th>location</th>\n",
       "      <th>notes</th>\n",
       "      <th>source_id</th>\n",
       "      <th>start_date</th>\n",
       "      <th>status</th>\n",
       "      <th>geometry</th>\n",
       "      <th>small_area</th>\n",
       "      <th>geo_point_2d</th>\n",
       "    </tr>\n",
       "  </thead>\n",
       "  <tbody>\n",
       "    <tr>\n",
       "      <th>4</th>\n",
       "      <td>SS-949516-0-108646-EBN-Permit Issued-080920180...</td>\n",
       "      <td>Structures</td>\n",
       "      <td>2108-09-09</td>\n",
       "      <td>Unit 119, Level 1\\r9 Commercial Road\\rMELBOURN...</td>\n",
       "      <td>ePathway Bins &amp; Skips</td>\n",
       "      <td>EBN-2018-5393</td>\n",
       "      <td>2018-09-08</td>\n",
       "      <td>CONFIRMED</td>\n",
       "      <td>MULTIPOLYGON (((144.979499824329 -37.846048871...</td>\n",
       "      <td>Melbourne (Remainder)</td>\n",
       "      <td>{'lon': 144.97982502794198, 'lat': -37.8455247...</td>\n",
       "    </tr>\n",
       "    <tr>\n",
       "      <th>131</th>\n",
       "      <td>P-159-4117-4117-9-Warning-140820180530-3006202...</td>\n",
       "      <td>Event</td>\n",
       "      <td>2025-06-30</td>\n",
       "      <td>Laneway/Place/Alley: L/P/A - ACDC Lane/Duckboa...</td>\n",
       "      <td>None</td>\n",
       "      <td>BP159</td>\n",
       "      <td>2018-08-14</td>\n",
       "      <td>WARNING</td>\n",
       "      <td>MULTIPOLYGON (((144.97084247990034 -37.8153816...</td>\n",
       "      <td>Melbourne (CBD)</td>\n",
       "      <td>{'lon': 144.97093628969864, 'lat': -37.8156390...</td>\n",
       "    </tr>\n",
       "    <tr>\n",
       "      <th>212</th>\n",
       "      <td>SS-949516-0-105901-EBN-Permit Issued-080920180...</td>\n",
       "      <td>Structures</td>\n",
       "      <td>2108-09-09</td>\n",
       "      <td>Unit 38, 24-38 Little Bourke Street\\rMELBOURNE...</td>\n",
       "      <td>ePathway Bins &amp; Skips</td>\n",
       "      <td>EBN-2018-5393</td>\n",
       "      <td>2018-09-08</td>\n",
       "      <td>CONFIRMED</td>\n",
       "      <td>MULTIPOLYGON (((144.97134696351893 -37.8100239...</td>\n",
       "      <td>Melbourne (CBD)</td>\n",
       "      <td>{'lon': 144.97141976209215, 'lat': -37.8103266...</td>\n",
       "    </tr>\n",
       "    <tr>\n",
       "      <th>392</th>\n",
       "      <td>P-213-4194-4194-9-Warning-140820181130-3007202...</td>\n",
       "      <td>Event</td>\n",
       "      <td>2025-07-30</td>\n",
       "      <td>Other Park Locations: OTH - University Square</td>\n",
       "      <td>None</td>\n",
       "      <td>BP213</td>\n",
       "      <td>2018-08-14</td>\n",
       "      <td>WARNING</td>\n",
       "      <td>MULTIPOLYGON (((144.9609369585162 -37.80090532...</td>\n",
       "      <td>Carlton</td>\n",
       "      <td>{'lon': 144.96036839250445, 'lat': -37.8010372...</td>\n",
       "    </tr>\n",
       "    <tr>\n",
       "      <th>398</th>\n",
       "      <td>P-336-4183-4183-9-Warning-280320180000-2803202...</td>\n",
       "      <td>Event</td>\n",
       "      <td>2028-03-28</td>\n",
       "      <td>Other Park Locations: OTH - Darling Square</td>\n",
       "      <td>None</td>\n",
       "      <td>BP336</td>\n",
       "      <td>2018-03-28</td>\n",
       "      <td>WARNING</td>\n",
       "      <td>MULTIPOLYGON (((144.98962811546195 -37.8124083...</td>\n",
       "      <td>East Melbourne</td>\n",
       "      <td>{'lon': 144.98909705782177, 'lat': -37.8128124...</td>\n",
       "    </tr>\n",
       "    <tr>\n",
       "      <th>422</th>\n",
       "      <td>SS-773492-0-103699-CW-Permit Issued-1110201500...</td>\n",
       "      <td>Structures</td>\n",
       "      <td>2106-10-11</td>\n",
       "      <td>228-230 Faraday Street\\rCARLTON VIC 3053</td>\n",
       "      <td>Consent for Works under RMA</td>\n",
       "      <td>CW-2015-5601</td>\n",
       "      <td>2015-10-11</td>\n",
       "      <td>CONFIRMED</td>\n",
       "      <td>MULTIPOLYGON (((144.96668168188 -37.7984580698...</td>\n",
       "      <td>Carlton</td>\n",
       "      <td>{'lon': 144.96667402262335, 'lat': -37.7981901...</td>\n",
       "    </tr>\n",
       "    <tr>\n",
       "      <th>531</th>\n",
       "      <td>P-415-4179-4179-9-Warning-190820180300-3112202...</td>\n",
       "      <td>Event</td>\n",
       "      <td>2025-12-31</td>\n",
       "      <td>Other Park Locations: OTH - Batman Park</td>\n",
       "      <td>None</td>\n",
       "      <td>BP415</td>\n",
       "      <td>2018-08-19</td>\n",
       "      <td>WARNING</td>\n",
       "      <td>MULTIPOLYGON (((144.9574466610408 -37.82169854...</td>\n",
       "      <td>Melbourne (CBD)</td>\n",
       "      <td>{'lon': 144.956675068557, 'lat': -37.821825623...</td>\n",
       "    </tr>\n",
       "    <tr>\n",
       "      <th>558</th>\n",
       "      <td>SS-773492-0-106717-CW-Permit Issued-1110201500...</td>\n",
       "      <td>Structures</td>\n",
       "      <td>2106-10-11</td>\n",
       "      <td>34 Molesworth Street\\rNORTH MELBOURNE VIC 3051</td>\n",
       "      <td>Consent for Works under RMA</td>\n",
       "      <td>CW-2015-5601</td>\n",
       "      <td>2015-10-11</td>\n",
       "      <td>CONFIRMED</td>\n",
       "      <td>MULTIPOLYGON (((144.94871634691233 -37.7976569...</td>\n",
       "      <td>North Melbourne</td>\n",
       "      <td>{'lon': 144.94864588682, 'lat': -37.7977428292...</td>\n",
       "    </tr>\n",
       "  </tbody>\n",
       "</table>\n",
       "</div>"
      ],
      "text/plain": [
       "                                           activity_id classification  \\\n",
       "4    SS-949516-0-108646-EBN-Permit Issued-080920180...     Structures   \n",
       "131  P-159-4117-4117-9-Warning-140820180530-3006202...          Event   \n",
       "212  SS-949516-0-105901-EBN-Permit Issued-080920180...     Structures   \n",
       "392  P-213-4194-4194-9-Warning-140820181130-3007202...          Event   \n",
       "398  P-336-4183-4183-9-Warning-280320180000-2803202...          Event   \n",
       "422  SS-773492-0-103699-CW-Permit Issued-1110201500...     Structures   \n",
       "531  P-415-4179-4179-9-Warning-190820180300-3112202...          Event   \n",
       "558  SS-773492-0-106717-CW-Permit Issued-1110201500...     Structures   \n",
       "\n",
       "      end_date                                           location  \\\n",
       "4   2108-09-09  Unit 119, Level 1\\r9 Commercial Road\\rMELBOURN...   \n",
       "131 2025-06-30  Laneway/Place/Alley: L/P/A - ACDC Lane/Duckboa...   \n",
       "212 2108-09-09  Unit 38, 24-38 Little Bourke Street\\rMELBOURNE...   \n",
       "392 2025-07-30      Other Park Locations: OTH - University Square   \n",
       "398 2028-03-28         Other Park Locations: OTH - Darling Square   \n",
       "422 2106-10-11           228-230 Faraday Street\\rCARLTON VIC 3053   \n",
       "531 2025-12-31            Other Park Locations: OTH - Batman Park   \n",
       "558 2106-10-11     34 Molesworth Street\\rNORTH MELBOURNE VIC 3051   \n",
       "\n",
       "                           notes      source_id start_date     status  \\\n",
       "4          ePathway Bins & Skips  EBN-2018-5393 2018-09-08  CONFIRMED   \n",
       "131                         None          BP159 2018-08-14    WARNING   \n",
       "212        ePathway Bins & Skips  EBN-2018-5393 2018-09-08  CONFIRMED   \n",
       "392                         None          BP213 2018-08-14    WARNING   \n",
       "398                         None          BP336 2018-03-28    WARNING   \n",
       "422  Consent for Works under RMA   CW-2015-5601 2015-10-11  CONFIRMED   \n",
       "531                         None          BP415 2018-08-19    WARNING   \n",
       "558  Consent for Works under RMA   CW-2015-5601 2015-10-11  CONFIRMED   \n",
       "\n",
       "                                              geometry             small_area  \\\n",
       "4    MULTIPOLYGON (((144.979499824329 -37.846048871...  Melbourne (Remainder)   \n",
       "131  MULTIPOLYGON (((144.97084247990034 -37.8153816...        Melbourne (CBD)   \n",
       "212  MULTIPOLYGON (((144.97134696351893 -37.8100239...        Melbourne (CBD)   \n",
       "392  MULTIPOLYGON (((144.9609369585162 -37.80090532...                Carlton   \n",
       "398  MULTIPOLYGON (((144.98962811546195 -37.8124083...         East Melbourne   \n",
       "422  MULTIPOLYGON (((144.96668168188 -37.7984580698...                Carlton   \n",
       "531  MULTIPOLYGON (((144.9574466610408 -37.82169854...        Melbourne (CBD)   \n",
       "558  MULTIPOLYGON (((144.94871634691233 -37.7976569...        North Melbourne   \n",
       "\n",
       "                                          geo_point_2d  \n",
       "4    {'lon': 144.97982502794198, 'lat': -37.8455247...  \n",
       "131  {'lon': 144.97093628969864, 'lat': -37.8156390...  \n",
       "212  {'lon': 144.97141976209215, 'lat': -37.8103266...  \n",
       "392  {'lon': 144.96036839250445, 'lat': -37.8010372...  \n",
       "398  {'lon': 144.98909705782177, 'lat': -37.8128124...  \n",
       "422  {'lon': 144.96667402262335, 'lat': -37.7981901...  \n",
       "531  {'lon': 144.956675068557, 'lat': -37.821825623...  \n",
       "558  {'lon': 144.94864588682, 'lat': -37.7977428292...  "
      ]
     },
     "execution_count": 67,
     "metadata": {},
     "output_type": "execute_result"
    }
   ],
   "source": [
    "# Print all unfinished cases\n",
    "activities[activities['end_date'].dt.year > 2023]"
   ]
  },
  {
   "cell_type": "code",
   "execution_count": 68,
   "id": "323b30e8-a10e-4e92-9676-c3ba84a63cc6",
   "metadata": {
    "id": "323b30e8-a10e-4e92-9676-c3ba84a63cc6",
    "tags": []
   },
   "outputs": [],
   "source": [
    "# Remove unfinished cases to calculate duration\n",
    "\n",
    "# Filter rows where start_year is less than or equal to 2023\n",
    "activities = activities[activities['end_date'].dt.year <= 2023]\n",
    "\n",
    "# Calculate duration\n",
    "activities['duration'] = (activities['end_date'] - activities['start_date']).dt.days"
   ]
  },
  {
   "cell_type": "code",
   "execution_count": 69,
   "id": "acaa5944-3b7c-4d55-891c-fccc16f96980",
   "metadata": {
    "colab": {
     "base_uri": "https://localhost:8080/"
    },
    "id": "acaa5944-3b7c-4d55-891c-fccc16f96980",
    "outputId": "6cabde03-f1bb-49c2-e0d8-c891895400fb",
    "tags": []
   },
   "outputs": [
    {
     "data": {
      "text/plain": [
       "array(['CONFIRMED', 'PROPOSED', 'WARNING', 'PROVISIONAL', 'REINSTATEMENT',\n",
       "       'PROVISIONAL MULTIPLE'], dtype=object)"
      ]
     },
     "execution_count": 69,
     "metadata": {},
     "output_type": "execute_result"
    }
   ],
   "source": [
    "# Replace incorrectly 'status'\n",
    "activities['status'].replace({'Confirmed':'CONFIRMED'}, inplace=True)\n",
    "activities['status'].unique()"
   ]
  },
  {
   "cell_type": "code",
   "execution_count": 70,
   "id": "bd4d4375-2405-4a28-b784-c16585133de6",
   "metadata": {
    "id": "bd4d4375-2405-4a28-b784-c16585133de6",
    "tags": []
   },
   "outputs": [],
   "source": [
    "# Create month_year column based on start_date\n",
    "activities['month_year'] = activities['start_date'].dt.to_period('M')"
   ]
  },
  {
   "cell_type": "code",
   "execution_count": 71,
   "id": "63d0df59-e56e-4e43-a538-ac8b66ccdb2d",
   "metadata": {
    "colab": {
     "base_uri": "https://localhost:8080/"
    },
    "id": "63d0df59-e56e-4e43-a538-ac8b66ccdb2d",
    "outputId": "759236ae-e353-4a86-8552-6a20ba61d6b0",
    "tags": []
   },
   "outputs": [
    {
     "data": {
      "text/plain": [
       "activity_id               object\n",
       "classification            object\n",
       "end_date          datetime64[ns]\n",
       "location                  object\n",
       "notes                     object\n",
       "source_id                 object\n",
       "start_date        datetime64[ns]\n",
       "status                    object\n",
       "geometry                  object\n",
       "small_area                object\n",
       "geo_point_2d              object\n",
       "duration                   int64\n",
       "month_year             period[M]\n",
       "dtype: object"
      ]
     },
     "execution_count": 71,
     "metadata": {},
     "output_type": "execute_result"
    }
   ],
   "source": [
    "# Check overall data types\n",
    "activities.dtypes"
   ]
  },
  {
   "cell_type": "markdown",
   "id": "fc475689-5e0b-4e2d-88be-b6944d208d10",
   "metadata": {
    "id": "fc475689-5e0b-4e2d-88be-b6944d208d10"
   },
   "source": [
    "##### Split to Longitude and Latitude"
   ]
  },
  {
   "cell_type": "code",
   "execution_count": 72,
   "id": "38d5ba71-ec4a-4bdc-95b0-c68f717a841a",
   "metadata": {
    "colab": {
     "base_uri": "https://localhost:8080/",
     "height": 573
    },
    "id": "38d5ba71-ec4a-4bdc-95b0-c68f717a841a",
    "outputId": "65224e1f-e9e7-4d6a-88d4-df49f51a4e03",
    "tags": []
   },
   "outputs": [
    {
     "ename": "TypeError",
     "evalue": "the JSON object must be str, bytes or bytearray, not dict",
     "output_type": "error",
     "traceback": [
      "\u001b[1;31m---------------------------------------------------------------------------\u001b[0m",
      "\u001b[1;31mTypeError\u001b[0m                                 Traceback (most recent call last)",
      "Cell \u001b[1;32mIn[72], line 10\u001b[0m\n\u001b[0;32m      7\u001b[0m     \u001b[38;5;28;01mreturn\u001b[39;00m geo_data[\u001b[38;5;124m'\u001b[39m\u001b[38;5;124mlon\u001b[39m\u001b[38;5;124m'\u001b[39m], geo_data[\u001b[38;5;124m'\u001b[39m\u001b[38;5;124mlat\u001b[39m\u001b[38;5;124m'\u001b[39m]\n\u001b[0;32m      9\u001b[0m \u001b[38;5;66;03m# Apply the function to the DataFrame\u001b[39;00m\n\u001b[1;32m---> 10\u001b[0m activities[[\u001b[38;5;124m'\u001b[39m\u001b[38;5;124mlongitude\u001b[39m\u001b[38;5;124m'\u001b[39m, \u001b[38;5;124m'\u001b[39m\u001b[38;5;124mlatitude\u001b[39m\u001b[38;5;124m'\u001b[39m]] \u001b[38;5;241m=\u001b[39m activities[\u001b[38;5;124m'\u001b[39m\u001b[38;5;124mgeo_point_2d\u001b[39m\u001b[38;5;124m'\u001b[39m]\u001b[38;5;241m.\u001b[39mapply(extract_lon_lat)\u001b[38;5;241m.\u001b[39mapply(pd\u001b[38;5;241m.\u001b[39mSeries)\n\u001b[0;32m     11\u001b[0m activities \u001b[38;5;241m=\u001b[39m activities\u001b[38;5;241m.\u001b[39mdrop(\u001b[38;5;124m'\u001b[39m\u001b[38;5;124mgeo_point_2d\u001b[39m\u001b[38;5;124m'\u001b[39m, axis\u001b[38;5;241m=\u001b[39m\u001b[38;5;241m1\u001b[39m)\n\u001b[0;32m     13\u001b[0m activities\u001b[38;5;241m.\u001b[39mhead()\n",
      "File \u001b[1;32m~\\anaconda3\\Lib\\site-packages\\pandas\\core\\series.py:4771\u001b[0m, in \u001b[0;36mSeries.apply\u001b[1;34m(self, func, convert_dtype, args, **kwargs)\u001b[0m\n\u001b[0;32m   4661\u001b[0m \u001b[38;5;28;01mdef\u001b[39;00m \u001b[38;5;21mapply\u001b[39m(\n\u001b[0;32m   4662\u001b[0m     \u001b[38;5;28mself\u001b[39m,\n\u001b[0;32m   4663\u001b[0m     func: AggFuncType,\n\u001b[1;32m   (...)\u001b[0m\n\u001b[0;32m   4666\u001b[0m     \u001b[38;5;241m*\u001b[39m\u001b[38;5;241m*\u001b[39mkwargs,\n\u001b[0;32m   4667\u001b[0m ) \u001b[38;5;241m-\u001b[39m\u001b[38;5;241m>\u001b[39m DataFrame \u001b[38;5;241m|\u001b[39m Series:\n\u001b[0;32m   4668\u001b[0m \u001b[38;5;250m    \u001b[39m\u001b[38;5;124;03m\"\"\"\u001b[39;00m\n\u001b[0;32m   4669\u001b[0m \u001b[38;5;124;03m    Invoke function on values of Series.\u001b[39;00m\n\u001b[0;32m   4670\u001b[0m \n\u001b[1;32m   (...)\u001b[0m\n\u001b[0;32m   4769\u001b[0m \u001b[38;5;124;03m    dtype: float64\u001b[39;00m\n\u001b[0;32m   4770\u001b[0m \u001b[38;5;124;03m    \"\"\"\u001b[39;00m\n\u001b[1;32m-> 4771\u001b[0m     \u001b[38;5;28;01mreturn\u001b[39;00m SeriesApply(\u001b[38;5;28mself\u001b[39m, func, convert_dtype, args, kwargs)\u001b[38;5;241m.\u001b[39mapply()\n",
      "File \u001b[1;32m~\\anaconda3\\Lib\\site-packages\\pandas\\core\\apply.py:1123\u001b[0m, in \u001b[0;36mSeriesApply.apply\u001b[1;34m(self)\u001b[0m\n\u001b[0;32m   1120\u001b[0m     \u001b[38;5;28;01mreturn\u001b[39;00m \u001b[38;5;28mself\u001b[39m\u001b[38;5;241m.\u001b[39mapply_str()\n\u001b[0;32m   1122\u001b[0m \u001b[38;5;66;03m# self.f is Callable\u001b[39;00m\n\u001b[1;32m-> 1123\u001b[0m \u001b[38;5;28;01mreturn\u001b[39;00m \u001b[38;5;28mself\u001b[39m\u001b[38;5;241m.\u001b[39mapply_standard()\n",
      "File \u001b[1;32m~\\anaconda3\\Lib\\site-packages\\pandas\\core\\apply.py:1174\u001b[0m, in \u001b[0;36mSeriesApply.apply_standard\u001b[1;34m(self)\u001b[0m\n\u001b[0;32m   1172\u001b[0m     \u001b[38;5;28;01melse\u001b[39;00m:\n\u001b[0;32m   1173\u001b[0m         values \u001b[38;5;241m=\u001b[39m obj\u001b[38;5;241m.\u001b[39mastype(\u001b[38;5;28mobject\u001b[39m)\u001b[38;5;241m.\u001b[39m_values\n\u001b[1;32m-> 1174\u001b[0m         mapped \u001b[38;5;241m=\u001b[39m lib\u001b[38;5;241m.\u001b[39mmap_infer(\n\u001b[0;32m   1175\u001b[0m             values,\n\u001b[0;32m   1176\u001b[0m             f,\n\u001b[0;32m   1177\u001b[0m             convert\u001b[38;5;241m=\u001b[39m\u001b[38;5;28mself\u001b[39m\u001b[38;5;241m.\u001b[39mconvert_dtype,\n\u001b[0;32m   1178\u001b[0m         )\n\u001b[0;32m   1180\u001b[0m \u001b[38;5;28;01mif\u001b[39;00m \u001b[38;5;28mlen\u001b[39m(mapped) \u001b[38;5;129;01mand\u001b[39;00m \u001b[38;5;28misinstance\u001b[39m(mapped[\u001b[38;5;241m0\u001b[39m], ABCSeries):\n\u001b[0;32m   1181\u001b[0m     \u001b[38;5;66;03m# GH#43986 Need to do list(mapped) in order to get treated as nested\u001b[39;00m\n\u001b[0;32m   1182\u001b[0m     \u001b[38;5;66;03m#  See also GH#25959 regarding EA support\u001b[39;00m\n\u001b[0;32m   1183\u001b[0m     \u001b[38;5;28;01mreturn\u001b[39;00m obj\u001b[38;5;241m.\u001b[39m_constructor_expanddim(\u001b[38;5;28mlist\u001b[39m(mapped), index\u001b[38;5;241m=\u001b[39mobj\u001b[38;5;241m.\u001b[39mindex)\n",
      "File \u001b[1;32m~\\anaconda3\\Lib\\site-packages\\pandas\\_libs\\lib.pyx:2924\u001b[0m, in \u001b[0;36mpandas._libs.lib.map_infer\u001b[1;34m()\u001b[0m\n",
      "Cell \u001b[1;32mIn[72], line 6\u001b[0m, in \u001b[0;36mextract_lon_lat\u001b[1;34m(geo_point)\u001b[0m\n\u001b[0;32m      5\u001b[0m \u001b[38;5;28;01mdef\u001b[39;00m \u001b[38;5;21mextract_lon_lat\u001b[39m(geo_point):\n\u001b[1;32m----> 6\u001b[0m     geo_data \u001b[38;5;241m=\u001b[39m json\u001b[38;5;241m.\u001b[39mloads(geo_point)\n\u001b[0;32m      7\u001b[0m     \u001b[38;5;28;01mreturn\u001b[39;00m geo_data[\u001b[38;5;124m'\u001b[39m\u001b[38;5;124mlon\u001b[39m\u001b[38;5;124m'\u001b[39m], geo_data[\u001b[38;5;124m'\u001b[39m\u001b[38;5;124mlat\u001b[39m\u001b[38;5;124m'\u001b[39m]\n",
      "File \u001b[1;32m~\\anaconda3\\Lib\\json\\__init__.py:339\u001b[0m, in \u001b[0;36mloads\u001b[1;34m(s, cls, object_hook, parse_float, parse_int, parse_constant, object_pairs_hook, **kw)\u001b[0m\n\u001b[0;32m    337\u001b[0m \u001b[38;5;28;01melse\u001b[39;00m:\n\u001b[0;32m    338\u001b[0m     \u001b[38;5;28;01mif\u001b[39;00m \u001b[38;5;129;01mnot\u001b[39;00m \u001b[38;5;28misinstance\u001b[39m(s, (\u001b[38;5;28mbytes\u001b[39m, \u001b[38;5;28mbytearray\u001b[39m)):\n\u001b[1;32m--> 339\u001b[0m         \u001b[38;5;28;01mraise\u001b[39;00m \u001b[38;5;167;01mTypeError\u001b[39;00m(\u001b[38;5;124mf\u001b[39m\u001b[38;5;124m'\u001b[39m\u001b[38;5;124mthe JSON object must be str, bytes or bytearray, \u001b[39m\u001b[38;5;124m'\u001b[39m\n\u001b[0;32m    340\u001b[0m                         \u001b[38;5;124mf\u001b[39m\u001b[38;5;124m'\u001b[39m\u001b[38;5;124mnot \u001b[39m\u001b[38;5;132;01m{\u001b[39;00ms\u001b[38;5;241m.\u001b[39m\u001b[38;5;18m__class__\u001b[39m\u001b[38;5;241m.\u001b[39m\u001b[38;5;18m__name__\u001b[39m\u001b[38;5;132;01m}\u001b[39;00m\u001b[38;5;124m'\u001b[39m)\n\u001b[0;32m    341\u001b[0m     s \u001b[38;5;241m=\u001b[39m s\u001b[38;5;241m.\u001b[39mdecode(detect_encoding(s), \u001b[38;5;124m'\u001b[39m\u001b[38;5;124msurrogatepass\u001b[39m\u001b[38;5;124m'\u001b[39m)\n\u001b[0;32m    343\u001b[0m \u001b[38;5;28;01mif\u001b[39;00m (\u001b[38;5;28mcls\u001b[39m \u001b[38;5;129;01mis\u001b[39;00m \u001b[38;5;28;01mNone\u001b[39;00m \u001b[38;5;129;01mand\u001b[39;00m object_hook \u001b[38;5;129;01mis\u001b[39;00m \u001b[38;5;28;01mNone\u001b[39;00m \u001b[38;5;129;01mand\u001b[39;00m\n\u001b[0;32m    344\u001b[0m         parse_int \u001b[38;5;129;01mis\u001b[39;00m \u001b[38;5;28;01mNone\u001b[39;00m \u001b[38;5;129;01mand\u001b[39;00m parse_float \u001b[38;5;129;01mis\u001b[39;00m \u001b[38;5;28;01mNone\u001b[39;00m \u001b[38;5;129;01mand\u001b[39;00m\n\u001b[0;32m    345\u001b[0m         parse_constant \u001b[38;5;129;01mis\u001b[39;00m \u001b[38;5;28;01mNone\u001b[39;00m \u001b[38;5;129;01mand\u001b[39;00m object_pairs_hook \u001b[38;5;129;01mis\u001b[39;00m \u001b[38;5;28;01mNone\u001b[39;00m \u001b[38;5;129;01mand\u001b[39;00m \u001b[38;5;129;01mnot\u001b[39;00m kw):\n",
      "\u001b[1;31mTypeError\u001b[0m: the JSON object must be str, bytes or bytearray, not dict"
     ]
    }
   ],
   "source": [
    "# Find latitude & longitude from geo_point_2d\n",
    "# Create separate columns for both\n",
    "\n",
    "# Function to extract longitude and latitude\n",
    "def extract_lon_lat(geo_point):\n",
    "    geo_data = json.loads(geo_point)\n",
    "    return geo_data['lon'], geo_data['lat']\n",
    "\n",
    "# Apply the function to the DataFrame\n",
    "activities[['longitude', 'latitude']] = activities['geo_point_2d'].apply(extract_lon_lat).apply(pd.Series)\n",
    "activities = activities.drop('geo_point_2d', axis=1)\n",
    "\n",
    "activities.head()"
   ]
  },
  {
   "cell_type": "markdown",
   "id": "8d8adff4-1bbc-435a-81e4-ee4855b4291e",
   "metadata": {
    "id": "8d8adff4-1bbc-435a-81e4-ee4855b4291e"
   },
   "source": [
    "##### Duration"
   ]
  },
  {
   "cell_type": "code",
   "execution_count": null,
   "id": "af37cd21-811b-432f-a08c-4b21ab24bb34",
   "metadata": {
    "colab": {
     "base_uri": "https://localhost:8080/",
     "height": 573
    },
    "id": "af37cd21-811b-432f-a08c-4b21ab24bb34",
    "outputId": "76cc0f3d-f3bb-4186-8715-261f5d57f5ec",
    "tags": []
   },
   "outputs": [],
   "source": [
    "# Calculate the duration in days\n",
    "activities['duration'] = (activities['end_date'] - activities['start_date']).dt.days\n",
    "\n",
    "activities.head()"
   ]
  },
  {
   "cell_type": "markdown",
   "id": "5971c7d0-7b02-471b-8e6d-52afab15919e",
   "metadata": {
    "id": "5971c7d0-7b02-471b-8e6d-52afab15919e"
   },
   "source": [
    "##### Removed /r from location"
   ]
  },
  {
   "cell_type": "code",
   "execution_count": null,
   "id": "028436b1-ddcc-4771-b7a0-b07f9447e888",
   "metadata": {
    "id": "028436b1-ddcc-4771-b7a0-b07f9447e888",
    "tags": []
   },
   "outputs": [],
   "source": [
    "# Remove /r (location)\n",
    "def replace_r_with_space(text):\n",
    "    if text is not None and pd.notna(text):\n",
    "        return text.replace(\"\\r\", \" \")\n",
    "    else:\n",
    "        return text\n",
    "\n",
    "activities['location'] = activities['location'].apply(replace_r_with_space)"
   ]
  },
  {
   "cell_type": "code",
   "execution_count": null,
   "id": "39884a7b-f2e6-4120-b520-7d7d4c45bc9c",
   "metadata": {
    "colab": {
     "base_uri": "https://localhost:8080/",
     "height": 573
    },
    "id": "39884a7b-f2e6-4120-b520-7d7d4c45bc9c",
    "outputId": "e6995200-f616-46ab-ac09-6008ffa49e3e",
    "tags": []
   },
   "outputs": [],
   "source": [
    "activities.head()"
   ]
  },
  {
   "cell_type": "code",
   "execution_count": null,
   "id": "d3fede7d-4f52-477a-b3a7-09d4d7ac5583",
   "metadata": {
    "colab": {
     "base_uri": "https://localhost:8080/",
     "height": 206
    },
    "id": "d3fede7d-4f52-477a-b3a7-09d4d7ac5583",
    "outputId": "c9c895a5-3a81-45ca-c51c-b4a12c9d6766",
    "tags": []
   },
   "outputs": [],
   "source": [
    "#Define attributes\n",
    "activities_reduced = activities[['classification', 'end_date', 'notes', 'start_date', 'status', 'small_area']]\n",
    "\n",
    "activities_reduced.head()"
   ]
  },
  {
   "cell_type": "markdown",
   "id": "fe23d2dd-1447-4ec7-9778-029556f8aad1",
   "metadata": {
    "id": "fe23d2dd-1447-4ec7-9778-029556f8aad1",
    "tags": []
   },
   "source": [
    "##### Define attributes required\n",
    "\n",
    "**classification:** describes the type\n",
    "\n",
    "**end_date:** date when activity is planned to conclude\n",
    "\n",
    "**notes:** additional information\n",
    "\n",
    "**start_date:** activity is planned to start\n",
    "\n",
    "**status:** stage of completion or approval\n",
    "\n",
    "**geo_point_2d:** latitude & longitude geospatial data for pinpointing exact location\n",
    "\n",
    "**small_area:** smaller geographic area/ specific location details"
   ]
  },
  {
   "cell_type": "code",
   "execution_count": null,
   "id": "93ff5317-5a66-4861-b94e-7033b27dc721",
   "metadata": {
    "colab": {
     "base_uri": "https://localhost:8080/"
    },
    "id": "93ff5317-5a66-4861-b94e-7033b27dc721",
    "outputId": "49398152-b2c7-48c2-ca35-88067c69222e",
    "tags": []
   },
   "outputs": [],
   "source": [
    "# Check data types\n",
    "activities_reduced.dtypes"
   ]
  },
  {
   "cell_type": "markdown",
   "id": "d225be78-1157-430b-b1cc-ef68857ecbea",
   "metadata": {
    "id": "d225be78-1157-430b-b1cc-ef68857ecbea"
   },
   "source": [
    "#### Dataset 2: Development Activity Model Footprints\n",
    "*   Dataset Identifier: development-activity-model-footprints\n",
    "*   Source data updated: Monthly\n",
    "\n",
    "<a href=\"https://data.melbourne.vic.gov.au/explore/dataset/development-activity-model-footprints/table/\">Dataset Link</a>\n",
    "\n",
    "**Summary:** This dataset contains spatial information about development activity located within the City of Melbourne municipal area. Developments may have one of four statuses. Applied, Approved and Under Construction, and Complete.\n",
    "\n",
    "Note: *The development polygons are representational only and are not intended for analytical or comparative purposes. The polygons are simplified polygons of an indicative floor plate for the podium (if relevant) and tower. The height data is an approximation of the height of the building and does not show the architectural features of the buildings.*\n",
    "\n",
    "Note: *All developments that were either applied, approved, under construction or completed between November 2015 and May 2016 have now been formatted such that each row of the data represents an individual building. If a single building consists of one podium and two towers this development is split into two rows; one for the podium and a tower, and another for the additional tower.*"
   ]
  },
  {
   "cell_type": "code",
   "execution_count": null,
   "id": "gz35-wziJbjb",
   "metadata": {
    "id": "gz35-wziJbjb"
   },
   "outputs": [],
   "source": [
    "# # Use cell for Google Drive\n",
    "# # Save/ locate saved code to drive\n",
    "\n",
    "# # CSV file path\n",
    "# csv_file_path = '/content/drive/MyDrive/planned_works/datasets/footprints.csv'\n",
    "\n",
    "# # Check file\n",
    "# if os.path.exists(csv_file_path):\n",
    "#     # Load CSV\n",
    "#     footprints = pd.read_csv(csv_file_path)\n",
    "#     print(\"Data loaded from CSV\")\n",
    "# else:\n",
    "#     # Fetch data\n",
    "#     SENSOR_DATASET = 'development-activity-model-footprints'\n",
    "#     footprints = fetch_data(BASE_URL, SENSOR_DATASET, API_KEY)\n",
    "#     print(\"Data fetched from API key\")\n",
    "\n",
    "#     # Check if the DataFrame exists and is not empty\n",
    "#     if not footprints.empty:\n",
    "#         # Save CSV file\n",
    "#         footprints.to_csv(csv_file_path, index=False)\n",
    "#         print('Data saved to:', csv_file_path)\n",
    "#     else:\n",
    "#         # Not able to save data\n",
    "#         print('Unable to save data. The DataFrame is empty or does not exist.')\n",
    "\n",
    "#     # Check if the file was created\n",
    "#     if os.path.exists(csv_file_path):\n",
    "#         print('File exists.')\n",
    "#     else:\n",
    "#         print('File does not exist. There was an issue saving the data.')\n",
    "\n",
    "# footprints.head() # View data\n"
   ]
  },
  {
   "cell_type": "code",
   "execution_count": null,
   "id": "M4n8Uc6-JdW4",
   "metadata": {
    "id": "M4n8Uc6-JdW4"
   },
   "outputs": [],
   "source": [
    "# # Use cell for Google Drive\n",
    "# # Save dataframe\n",
    "# # Check file\n",
    "# csv_file_path = '/content/drive/MyDrive/planned_works/datasets/footprints.csv'\n",
    "# # Check if the DataFrame exists and is not empty\n",
    "# if not footprints.empty:\n",
    "#     # Save CSV file\n",
    "#     footprints.to_csv(csv_file_path, index=False)\n",
    "#     print('Data saved to:', csv_file_path)\n",
    "# else:\n",
    "#     # Not able to save data\n",
    "#     print('Unable to save data. The DataFrame is empty or does not exist.')\n",
    "\n",
    "# # Check if the file was created\n",
    "# if os.path.exists(csv_file_path):\n",
    "#     print('File exists.')\n",
    "# else:\n",
    "#     print('File does not exist. There was an issue saving the data.')"
   ]
  },
  {
   "cell_type": "code",
   "execution_count": null,
   "id": "21fdae0b-73c5-4965-863d-05a848bbef6f",
   "metadata": {
    "colab": {
     "base_uri": "https://localhost:8080/",
     "height": 293
    },
    "id": "21fdae0b-73c5-4965-863d-05a848bbef6f",
    "outputId": "523d0251-697e-4335-b58d-1c6acbb5bb47",
    "tags": []
   },
   "outputs": [],
   "source": [
    "SENSOR_DATASET = 'development-activity-model-footprints'\n",
    "footprints = fetch_data(BASE_URL, SENSOR_DATASET, API_KEY)\n",
    "footprints.head()"
   ]
  },
  {
   "cell_type": "markdown",
   "id": "f36f0f56-4c78-4896-9da5-c8af425342aa",
   "metadata": {
    "id": "f36f0f56-4c78-4896-9da5-c8af425342aa"
   },
   "source": [
    "Each record is described by 11 fields.\n",
    "\n",
    "The following fields can be divided up for each record:\n",
    "\n",
    "**dev_key:** Development key, identifier for Development Activity Monitor entries.\n",
    "\n",
    "**status:** Current status of the development. Under construction: The development is currently under construction. Approved: The development has town planning approval. Applied: The development has a town planning application which is yet to be approved. Complete: The development has been completed.\n",
    "\n",
    "**shape_type:** Classification for footprint geometry type, categories are: podium: a an object which represents the basic podium shape of the development. tower_pod: a tower where a podium is also present for the same development. tower: a stand­alone tower. extension: a refurbishment/extension where the original building (footprint) is retained.\n",
    "\n",
    "**permit_num:** Planning application number.\n",
    "\n",
    "**bldhgt_ahd:** Ground level height (AHD).\n",
    "\n",
    "**base_ahd:** Standard reference point for height measurements. Represent the height above 'Australian Height Datum'\n",
    "\n",
    "**address:** Address of the development.\n",
    "\n",
    "**num_floors:** Number of floors above ground. This field can also have NA values.\n",
    "\n",
    "**land_use_1:** The quantity of the primary space use of the development.\n",
    "\n",
    "**land_use_2:** The quantity of the secondary space use of the development.\n",
    "\n",
    "**land_use_3:** The quantity of the tertiary space use of the development.\n",
    "\n",
    "*refer to meta data for information on additional fields and descriptions*"
   ]
  },
  {
   "cell_type": "markdown",
   "id": "1d9037d3-c10f-4a6d-aabc-f3ee5f3088d1",
   "metadata": {
    "id": "1d9037d3-c10f-4a6d-aabc-f3ee5f3088d1"
   },
   "source": [
    "##### Check missing values for dataset"
   ]
  },
  {
   "cell_type": "code",
   "execution_count": null,
   "id": "f403e227-0e18-4cff-b5f4-2216ee297c16",
   "metadata": {
    "colab": {
     "base_uri": "https://localhost:8080/"
    },
    "id": "f403e227-0e18-4cff-b5f4-2216ee297c16",
    "outputId": "171f142e-ce36-4914-9558-cf857c093343",
    "tags": []
   },
   "outputs": [],
   "source": [
    "#View info of data\n",
    "footprints.info()"
   ]
  },
  {
   "cell_type": "code",
   "execution_count": null,
   "id": "0f1b459e-573b-4b60-8b6d-a0a64ce0cd78",
   "metadata": {
    "colab": {
     "base_uri": "https://localhost:8080/"
    },
    "id": "0f1b459e-573b-4b60-8b6d-a0a64ce0cd78",
    "outputId": "ebed530f-c51f-41ee-8069-d0e7134c829a",
    "tags": []
   },
   "outputs": [],
   "source": [
    "# Check missing values for dataset\n",
    "# Find missing values in each column\n",
    "missing_values = footprints.isnull().sum()\n",
    "missing_values # Number of missing values in each column"
   ]
  },
  {
   "cell_type": "code",
   "execution_count": null,
   "id": "35ca5a0d-95e6-4aba-9670-bfbf9e0e13fd",
   "metadata": {
    "id": "35ca5a0d-95e6-4aba-9670-bfbf9e0e13fd",
    "tags": []
   },
   "outputs": [],
   "source": [
    "# Fill missing values in location\n",
    "footprints['land_use_1'].replace('None', float('nan'), inplace=True)\n",
    "footprints['land_use_2'].replace('None', float('nan'), inplace=True)\n",
    "footprints['land_use_3'].replace('None', float('nan'), inplace=True)"
   ]
  },
  {
   "cell_type": "code",
   "execution_count": null,
   "id": "5c278b1d-582d-4fbd-a004-7e2879fdd257",
   "metadata": {
    "colab": {
     "base_uri": "https://localhost:8080/"
    },
    "id": "5c278b1d-582d-4fbd-a004-7e2879fdd257",
    "outputId": "836ffe32-a4cc-4045-d6b8-9c990a195721",
    "tags": []
   },
   "outputs": [],
   "source": [
    "# Footprints: Check number of unique elements and number of rows (shape/ data points)\n",
    "unique_dev_keys_in_footprints = footprints['dev_key'].nunique()\n",
    "print(f\"Number of unique 'development_key' values in footprints: {unique_dev_keys_in_footprints}\")\n",
    "\n",
    "total_data_in_footprints = footprints.shape[0]\n",
    "print(f\"Total number of elements in footprints: {total_data_in_footprints}\")"
   ]
  },
  {
   "cell_type": "code",
   "execution_count": null,
   "id": "63ef85da-9a4d-4634-b702-214c72ee39b7",
   "metadata": {
    "colab": {
     "base_uri": "https://localhost:8080/",
     "height": 753
    },
    "id": "63ef85da-9a4d-4634-b702-214c72ee39b7",
    "outputId": "2f4db2a5-3b1d-472d-ce4c-72e5023f6929",
    "tags": []
   },
   "outputs": [],
   "source": [
    "# Find duplicates based on 'dev_key'\n",
    "duplicates_dev_key = footprints[footprints.duplicated(subset='dev_key', keep=False)]\n",
    "\n",
    "# Display rows with duplicate 'dev_key' values\n",
    "print(\"Rows with duplicate 'dev_key' values:\")\n",
    "duplicates_dev_key\n",
    "\n",
    "# Differences in the attributes may be causing the discrepancy in the counts"
   ]
  },
  {
   "cell_type": "code",
   "execution_count": null,
   "id": "da0d99f9-134d-4827-9a49-e164522ac682",
   "metadata": {
    "colab": {
     "base_uri": "https://localhost:8080/"
    },
    "id": "da0d99f9-134d-4827-9a49-e164522ac682",
    "outputId": "23e3f5dd-65a4-4fd4-9b0e-5cf1af0d4e8d",
    "tags": []
   },
   "outputs": [],
   "source": [
    "# Remove duplicates\n",
    "unique_footprints = footprints.drop_duplicates(subset='dev_key', keep='first')\n",
    "\n",
    "# Check number of unique elements and number of rows after keeping only unique 'development_key' values\n",
    "unique_dev_keys_in_footprints = unique_footprints['dev_key'].nunique()\n",
    "print(f\"Number of unique 'development_key' values in footprints: {unique_dev_keys_in_footprints}\")\n",
    "\n",
    "total_data_in_unique_footprints = unique_footprints.shape[0]\n",
    "print(f\"Total number of elements in footprints after keeping only unique 'development_key' values: {total_data_in_unique_footprints}\")"
   ]
  },
  {
   "cell_type": "markdown",
   "id": "da1665ed-105a-48d5-ae90-da2023f054b8",
   "metadata": {
    "id": "da1665ed-105a-48d5-ae90-da2023f054b8"
   },
   "source": [
    "##### Processing land_use"
   ]
  },
  {
   "cell_type": "code",
   "execution_count": null,
   "id": "eaafec45-8bf1-44e8-bc32-de8000526760",
   "metadata": {
    "id": "eaafec45-8bf1-44e8-bc32-de8000526760",
    "tags": []
   },
   "outputs": [],
   "source": [
    "# Remove numbers from the 'land_use'\n",
    "footprints['land_use_1'] = footprints['land_use_1'].str.replace('\\d+', '', regex=True)\n",
    "footprints['land_use_2'] = footprints['land_use_2'].str.replace('\\d+', '', regex=True)\n",
    "footprints['land_use_3'] = footprints['land_use_3'].str.replace('\\d+', '', regex=True)"
   ]
  },
  {
   "cell_type": "code",
   "execution_count": null,
   "id": "a462ce4b-279b-4cf9-bfd4-0bbd88c97300",
   "metadata": {
    "id": "a462ce4b-279b-4cf9-bfd4-0bbd88c97300",
    "tags": []
   },
   "outputs": [],
   "source": [
    "# Remove (sq.m) from the 'land_use'\n",
    "footprints['land_use_1'] = footprints['land_use_1'].str.replace('\\(sq\\.m\\)', '', regex=True).str.strip()\n",
    "footprints['land_use_2'] = footprints['land_use_2'].str.replace('\\(sq\\.m\\)', '', regex=True).str.strip()\n",
    "footprints['land_use_3'] = footprints['land_use_3'].str.replace('\\(sq\\.m\\)', '', regex=True).str.strip()"
   ]
  },
  {
   "cell_type": "code",
   "execution_count": null,
   "id": "395a139b-6a33-40bf-b877-df1dbb0a4edc",
   "metadata": {
    "id": "395a139b-6a33-40bf-b877-df1dbb0a4edc",
    "tags": []
   },
   "outputs": [],
   "source": [
    "# Convert the values to numeric format\n",
    "footprints['bldhgt_ahd'] = pd.to_numeric(footprints['bldhgt_ahd'], errors='coerce').astype(float)"
   ]
  },
  {
   "cell_type": "code",
   "execution_count": null,
   "id": "d4278d14-6d73-40a6-9691-60dd3cea92c7",
   "metadata": {
    "id": "d4278d14-6d73-40a6-9691-60dd3cea92c7",
    "tags": []
   },
   "outputs": [],
   "source": [
    "# Create year_started based on permit_num\n",
    "footprints['year_started'] = footprints['permit_num'].str.extract(r'-(\\d+)-')"
   ]
  },
  {
   "cell_type": "code",
   "execution_count": null,
   "id": "12998a75-1fb0-4812-8c3e-89a9fdc69cca",
   "metadata": {
    "colab": {
     "base_uri": "https://localhost:8080/"
    },
    "id": "12998a75-1fb0-4812-8c3e-89a9fdc69cca",
    "outputId": "a19dd4c4-fd72-4112-eb55-74487c92b2f0",
    "tags": []
   },
   "outputs": [],
   "source": [
    "footprints.info()"
   ]
  },
  {
   "cell_type": "markdown",
   "id": "e3ad95da-aa1c-44d6-a692-95a380505aeb",
   "metadata": {
    "id": "e3ad95da-aa1c-44d6-a692-95a380505aeb"
   },
   "source": [
    "##### Split to Longitude and Latitude"
   ]
  },
  {
   "cell_type": "code",
   "execution_count": null,
   "id": "ee12b7ff-9984-4028-acb8-54f9fa009d33",
   "metadata": {
    "id": "ee12b7ff-9984-4028-acb8-54f9fa009d33",
    "tags": []
   },
   "outputs": [],
   "source": [
    "# Create longitude and latitude columns\n",
    "footprints[['longitude', 'latitude']] = footprints['geo_point_2d'].apply(lambda x: pd.Series([x['lon'], x['lat']]))"
   ]
  },
  {
   "cell_type": "markdown",
   "id": "d6d9e234-2f11-46e7-a99b-d181f2675348",
   "metadata": {
    "id": "d6d9e234-2f11-46e7-a99b-d181f2675348"
   },
   "source": [
    "##### Define attributes required\n",
    "\n",
    "**dev_key:** Development key, identifier for Development Activity Monitor entries.\n",
    "\n",
    "**status:** Current status of the development. Under construction: The development is currently under construction. Approved: The development has town planning approval. Applied: The development has a town planning application which is yet to be approved. Complete: The development has been completed.\n",
    "\n",
    "**bldhgt_ahd:** Ground level height (AHD).\n",
    "\n",
    "**base_ahd:** Standard reference point for height measurements. Represent the height above 'Australian Height Datum'\n",
    "\n",
    "**shape_type:** Classification for footprint geometry type, categories are: podium: a an object which represents the basic podium shape of the development. tower_pod: a tower where a podium is also present for the same development. tower: a stand­alone tower. extension: a refurbishment/extension where the original building (footprint) is retained.\n",
    "\n",
    "**land_use_1:** The quantity of the primary space use of the development.\n",
    "\n",
    "**land_use_2:** The quantity of the secondary space use of the development.\n",
    "\n",
    "**land_use_3:** The quantity of the tertiary space use of the development.\n",
    "\n",
    "*refer to meta data for information on additional fields and descriptions*"
   ]
  },
  {
   "cell_type": "code",
   "execution_count": null,
   "id": "804d72df-5a08-432f-b515-761cdc13065a",
   "metadata": {
    "colab": {
     "base_uri": "https://localhost:8080/",
     "height": 206
    },
    "id": "804d72df-5a08-432f-b515-761cdc13065a",
    "outputId": "756087c9-5e45-4a0e-8fa5-5692fb5e57bd",
    "tags": []
   },
   "outputs": [],
   "source": [
    "footprints = footprints[['dev_key', 'status', 'bldhgt_ahd', 'base_ahd', 'num_floors', 'land_use_1', 'land_use_2',\n",
    "                         'land_use_3', 'shape_type', 'longitude', 'latitude']]\n",
    "footprints.head()"
   ]
  },
  {
   "cell_type": "code",
   "execution_count": null,
   "id": "47554000-6013-4b34-b378-5986dbff9620",
   "metadata": {
    "colab": {
     "base_uri": "https://localhost:8080/"
    },
    "id": "47554000-6013-4b34-b378-5986dbff9620",
    "outputId": "13fd30d4-a8d7-4340-886f-9d19113454de",
    "tags": []
   },
   "outputs": [],
   "source": [
    "footprints.info()"
   ]
  },
  {
   "cell_type": "code",
   "execution_count": null,
   "id": "7480a6f6-30c1-4b15-9d0b-2310ca5a5580",
   "metadata": {
    "colab": {
     "base_uri": "https://localhost:8080/"
    },
    "id": "7480a6f6-30c1-4b15-9d0b-2310ca5a5580",
    "outputId": "243c69e2-e191-4776-fcb8-88520a07b0d0",
    "tags": []
   },
   "outputs": [],
   "source": [
    "# convert the values to numeric format\n",
    "footprints['bldhgt_ahd'] = pd.to_numeric(footprints['bldhgt_ahd'], errors='coerce').astype(float)\n",
    "footprints.info()"
   ]
  },
  {
   "cell_type": "markdown",
   "id": "9fc8bc79-7c77-487b-a07f-a594e20a0372",
   "metadata": {
    "id": "9fc8bc79-7c77-487b-a07f-a594e20a0372"
   },
   "source": [
    "##### Check data types"
   ]
  },
  {
   "cell_type": "code",
   "execution_count": null,
   "id": "2d306268-26b6-43cc-8346-4b035dda3bdb",
   "metadata": {
    "colab": {
     "base_uri": "https://localhost:8080/"
    },
    "id": "2d306268-26b6-43cc-8346-4b035dda3bdb",
    "outputId": "6d99c0cd-dfb9-4d4e-dd2c-d3aa7309fee1",
    "tags": []
   },
   "outputs": [],
   "source": [
    "footprints.dtypes"
   ]
  },
  {
   "cell_type": "code",
   "execution_count": null,
   "id": "4bsUXhDDJrBp",
   "metadata": {
    "id": "4bsUXhDDJrBp"
   },
   "outputs": [],
   "source": [
    "# Saved Cleaned dataset to CSV file\n",
    "\n",
    "# # Use cell for Google Drive\n",
    "# # Save dataframe\n",
    "# # CSV file path\n",
    "# csv_file_path = '/content/drive/MyDrive/planned_works/cleaned_datasets/footprints.csv'\n",
    "# # Check if the DataFrame exists and is not empty\n",
    "# if not footprints.empty:\n",
    "#     # Save CSV file\n",
    "#     footprints.to_csv(csv_file_path, index=False)\n",
    "#     print('Data saved to:', csv_file_path)\n",
    "# else:\n",
    "#     # Not able to save data\n",
    "#     print('Unable to save data. The DataFrame is empty or does not exist.')\n",
    "\n",
    "# # Check if the file was created\n",
    "# if os.path.exists(csv_file_path):\n",
    "#     print('File exists.')\n",
    "# else:\n",
    "#     print('File does not exist. There was an issue saving the data.')"
   ]
  },
  {
   "cell_type": "markdown",
   "id": "efb1d5a6-3f37-4736-aee6-d2d168c2fa41",
   "metadata": {
    "id": "efb1d5a6-3f37-4736-aee6-d2d168c2fa41"
   },
   "source": [
    "#### Dataset 3: Development Activity Monitor\n",
    "*   Dataset Identifier: development-activity-monitor\n",
    "*   Source data updated: Monthly\n",
    "\n",
    "\n",
    "<a href=\"https://data.melbourne.vic.gov.au/explore/dataset/development-activity-monitor/table/?disjunctive.status&disjunctive.clue_small_area&disjunctive.clue_block\">Dataset Link</a>\n",
    "\n",
    "**Summary:** The City of Melbourne's Development Activity Monitor project is designed to monitor major new commercial and residential property development across the municipality.\n",
    "\n",
    "Note: *The outputs can inform short to medium-term supply forecasts in the commercial and residential markets.*\n",
    "\n",
    "Note: *This data provides our current understanding of major development sites that are recently completed, under construction, planned or mooted in all of 13 small areas (based on official suburbs) of the municipality based on the sources referenced below.*"
   ]
  },
  {
   "cell_type": "code",
   "execution_count": null,
   "id": "4ca205d4-8342-413a-ab7d-7f4b2f71a3fc",
   "metadata": {
    "colab": {
     "base_uri": "https://localhost:8080/",
     "height": 550
    },
    "id": "4ca205d4-8342-413a-ab7d-7f4b2f71a3fc",
    "outputId": "70bd526f-8531-4a42-c138-8d852667b8e9",
    "tags": []
   },
   "outputs": [],
   "source": [
    "SENSOR_DATASET = 'development-activity-monitor'\n",
    "monitor = fetch_data(BASE_URL, SENSOR_DATASET, API_KEY)\n",
    "monitor.head()"
   ]
  },
  {
   "cell_type": "markdown",
   "id": "c13f8f62-6b73-4022-8473-6ed4b38233e3",
   "metadata": {
    "id": "c13f8f62-6b73-4022-8473-6ed4b38233e3"
   },
   "source": [
    "Each record is described by 42 fields.\n",
    "\n",
    "The following fields can be divided up for each record:\n",
    "\n",
    "**development_key:** Development key (internal use only)\n",
    "\n",
    "**data_format:** denoting if the data is in the pre May 2016 or Post May\n",
    "2016 data format\n",
    "\n",
    "**status:** Development status\n",
    "\n",
    "**year_completed:** Year of building completion if building is completed\n",
    "\n",
    "**clue_small_area:** CLUE Small Area\n",
    "\n",
    "**clue_block:** CLUE Block\n",
    "\n",
    "**street_address:** Street Address\n",
    "\n",
    "**longitude:** Longitude\n",
    "\n",
    "**latitude:** Latitude\n",
    "\n",
    "**property_id:** Primary property ID\n",
    "\n",
    "**property_id_2:** Secondary property ID\n",
    "\n",
    "**property_id_3:** Tertiary property ID\n",
    "\n",
    "**property_id_4 :** Quaternary property ID\n",
    "\n",
    "**property_id_5:** Quinary property ID\n",
    "\n",
    "**floors_above:** Number of floors above ground\n",
    "\n",
    "**resi_dwellings:** Number of residential dwellings\n",
    "\n",
    "**studio_dwe:** Number of studio bedroom dwellings if know\n",
    "\n",
    "**one_bdrm_dwe:** Number of one bedroom dwellings if know\n",
    "\n",
    "**two_bdrm_dwe:** Number of two bedroom dwellings if know\n",
    "\n",
    "**three_bdrm_dwe:** Number of three or more bedroom dwellings if know\n",
    "\n",
    "**student_apartments:** Number of student apartments if known\n",
    "\n",
    "**student_beds:** Number of student beds if known\n",
    "\n",
    "**student accommodation units:** Total number of student beds within the development\n",
    "\n",
    "**intitutional_accom_beds:** Number of institutional accommodation beds\n",
    "\n",
    "**hotel_rooms:** Number of hotel rooms\n",
    "\n",
    "**serviced_apartments:** Number of serviced apartments\n",
    "\n",
    "**hotels_serviced_apartments:** Number of hotel rooms and serviced apartments\n",
    "\n",
    "**hostel_beds:** Number of hostel beds\n",
    "\n",
    "**childcare_places:** Number of childcare places\n",
    "\n",
    "**office_flr:** Amount of net lettable office space in meters squared\n",
    "\n",
    "**retail_flr:** Amount of net lettable retail space in meters squared\n",
    "\n",
    "**industrial_flr:** Amount of net lettable industrial space in meters squared\n",
    "\n",
    "**student_beds:** Number of student beds if known\n",
    "\n",
    "**storage_flr:** Amount of net lettable industrial space in meters squared\n",
    "\n",
    "**education_flr:** Amount of net lettable education space in meters squared\n",
    "\n",
    "**hospital_flr:** Amount of net lettable hospital space in meters squared\n",
    "\n",
    "**recreation_flr:** Amount of net lettable recreation space in meters\n",
    "squared\n",
    "\n",
    "**publicdispaly_flr:** Amount of net lettable public display space in meters squared\n",
    "\n",
    "**community_flr:** Amount of net lettable community space in meters squared\n",
    "\n",
    "**car_spaces:** Number of car parking space if know\n",
    "\n",
    "**bike_spaces:** Number of bike parking space if know\n",
    "\n",
    "**town_planning_application_no:** Town Planning Application number where known\n",
    "\n",
    "*refer to meta data for information on additional fields and descriptions*"
   ]
  },
  {
   "cell_type": "code",
   "execution_count": null,
   "id": "58ac9486-2014-40c1-9c4d-586b2e842b21",
   "metadata": {
    "colab": {
     "base_uri": "https://localhost:8080/"
    },
    "id": "58ac9486-2014-40c1-9c4d-586b2e842b21",
    "outputId": "265c10e6-7660-4e1b-f44a-2eac857b92f7",
    "tags": []
   },
   "outputs": [],
   "source": [
    "#View info of data\n",
    "monitor.info()"
   ]
  },
  {
   "cell_type": "markdown",
   "id": "d9134816-b3d6-4590-8930-36fe3c40f080",
   "metadata": {
    "id": "d9134816-b3d6-4590-8930-36fe3c40f080"
   },
   "source": [
    "##### Check for Duplicates"
   ]
  },
  {
   "cell_type": "code",
   "execution_count": null,
   "id": "6ca83185-fe54-48e0-8f40-00603f15a021",
   "metadata": {
    "colab": {
     "base_uri": "https://localhost:8080/"
    },
    "id": "6ca83185-fe54-48e0-8f40-00603f15a021",
    "outputId": "9ee5ef2d-df6f-4404-dfca-aa9a3fe37525",
    "tags": []
   },
   "outputs": [],
   "source": [
    "# Activites: Check number of unique elements and number of rows (shape/ data points)\n",
    "unique_dev_keys_in_monitor = monitor['development_key'].nunique()\n",
    "print(f\"Number of unique 'development_key' values in monitor: {unique_dev_keys_in_monitor}\")\n",
    "\n",
    "total_data_in_monitor = monitor.shape[0]\n",
    "print(f\"Total number of elements in monitor: {total_data_in_monitor}\")"
   ]
  },
  {
   "cell_type": "markdown",
   "id": "d8d450d1-a17d-4139-bd32-94af1bf3fedd",
   "metadata": {
    "id": "d8d450d1-a17d-4139-bd32-94af1bf3fedd"
   },
   "source": [
    "##### Define attributes required"
   ]
  },
  {
   "cell_type": "code",
   "execution_count": null,
   "id": "73a17cb1-8706-4eb6-aaf8-13f220194fb8",
   "metadata": {
    "colab": {
     "base_uri": "https://localhost:8080/"
    },
    "id": "73a17cb1-8706-4eb6-aaf8-13f220194fb8",
    "outputId": "ea2fbc1e-75b5-43be-d138-4731ba8f21cf",
    "tags": []
   },
   "outputs": [],
   "source": [
    "# Find missing values in each column\n",
    "missing_values = monitor.isnull().sum()\n",
    "print(missing_values)"
   ]
  },
  {
   "cell_type": "code",
   "execution_count": null,
   "id": "bbeed511-8142-4a79-b575-a129c130ebb3",
   "metadata": {
    "colab": {
     "base_uri": "https://localhost:8080/"
    },
    "id": "bbeed511-8142-4a79-b575-a129c130ebb3",
    "outputId": "c37e0bd4-4a0a-4344-cb95-42e8a44093d9",
    "tags": []
   },
   "outputs": [],
   "source": [
    "column_year_completed = 'year_completed'\n",
    "\n",
    "# Calculate the percentage of missing values\n",
    "percentage_missing_year_completed = (missing_values[column_year_completed] / len(monitor)) * 100\n",
    "\n",
    "# Print\n",
    "print(f\"Percentage of missing values for '{column_year_completed}': {percentage_missing_year_completed:.2f}%\")"
   ]
  },
  {
   "cell_type": "code",
   "execution_count": null,
   "id": "0294fdc7-f670-49af-a4b8-a56ca23dafe3",
   "metadata": {
    "id": "0294fdc7-f670-49af-a4b8-a56ca23dafe3",
    "tags": []
   },
   "outputs": [],
   "source": [
    "# Fill missing values as int\n",
    "monitor['year_completed'] = monitor['year_completed'].fillna(0).astype(int)"
   ]
  },
  {
   "cell_type": "code",
   "execution_count": null,
   "id": "e7eead97-3b7e-4455-b7b4-0f2077a9c7d0",
   "metadata": {
    "colab": {
     "base_uri": "https://localhost:8080/",
     "height": 550
    },
    "id": "e7eead97-3b7e-4455-b7b4-0f2077a9c7d0",
    "outputId": "5fd916f8-312c-42c2-ebaf-6d1615f2c976",
    "tags": []
   },
   "outputs": [],
   "source": [
    "# Remove attributes not required - town planning added back into dataset\n",
    "monitor.drop(columns=['property_id', 'property_id_2', 'property_id_3', 'property_id_4', 'property_id_5', 'data_format', 'geopoint'], inplace=True)\n",
    "monitor.head()"
   ]
  },
  {
   "cell_type": "markdown",
   "id": "c1d60014-9641-4449-900d-150e23f78d11",
   "metadata": {
    "id": "c1d60014-9641-4449-900d-150e23f78d11"
   },
   "source": [
    "##### Check data types"
   ]
  },
  {
   "cell_type": "code",
   "execution_count": null,
   "id": "185ab6a1-1d79-4414-9878-a458a1eab828",
   "metadata": {
    "id": "185ab6a1-1d79-4414-9878-a458a1eab828",
    "tags": []
   },
   "outputs": [],
   "source": [
    "# Converted year_completed to int\n",
    "monitor['year_completed'] = pd.to_numeric(monitor['year_completed'], errors='coerce')"
   ]
  },
  {
   "cell_type": "code",
   "execution_count": null,
   "id": "3e9e964b-a5b9-447c-b993-dbed707d3c0c",
   "metadata": {
    "colab": {
     "base_uri": "https://localhost:8080/"
    },
    "id": "3e9e964b-a5b9-447c-b993-dbed707d3c0c",
    "outputId": "ac9683ec-4276-4985-ce8b-5108b75a0e42",
    "tags": []
   },
   "outputs": [],
   "source": [
    "monitor.dtypes"
   ]
  },
  {
   "cell_type": "code",
   "execution_count": null,
   "id": "2f20e207-4fd6-45e6-9308-601a48ea529c",
   "metadata": {
    "colab": {
     "base_uri": "https://localhost:8080/"
    },
    "id": "2f20e207-4fd6-45e6-9308-601a48ea529c",
    "outputId": "ca619d13-2e32-4a96-b41f-e230fad4ef9e",
    "tags": []
   },
   "outputs": [],
   "source": [
    "# Find all unique values\n",
    "monitor['status'].unique()"
   ]
  },
  {
   "cell_type": "code",
   "execution_count": null,
   "id": "b5d65443-546a-4f0c-8a6c-12f8020e05ed",
   "metadata": {
    "colab": {
     "base_uri": "https://localhost:8080/"
    },
    "id": "b5d65443-546a-4f0c-8a6c-12f8020e05ed",
    "outputId": "73020ca7-e8e9-4d7a-ccd0-f9211f334aef",
    "tags": []
   },
   "outputs": [],
   "source": [
    "# Find all unique values\n",
    "monitor['clue_small_area'].unique()"
   ]
  },
  {
   "cell_type": "code",
   "execution_count": null,
   "id": "C88PE1KdJ3kB",
   "metadata": {
    "id": "C88PE1KdJ3kB"
   },
   "outputs": [],
   "source": [
    "# Saved Encoded dataset to CSV file\n",
    "\n",
    "# # Use cell for Google Drive\n",
    "# # Save dataframe\n",
    "# # Check file\n",
    "# csv_file_path = '/content/drive/MyDrive/planned_works/encoded_datasets/footprints_encode.csv'\n",
    "# # Check if the DataFrame exists and is not empty\n",
    "# if not footprints_encode.empty:\n",
    "#     # Save CSV file\n",
    "#     footprints_encode.to_csv(csv_file_path, index=False)\n",
    "#     print('Data saved to:', csv_file_path)\n",
    "# else:\n",
    "#     # Not able to save data\n",
    "#     print('Unable to save data. The DataFrame is empty or does not exist.')\n",
    "\n",
    "# # Check if the file was created\n",
    "# if os.path.exists(csv_file_path):\n",
    "#     print('File exists.')\n",
    "# else:\n",
    "#     print('File does not exist. There was an issue saving the data.')"
   ]
  },
  {
   "cell_type": "markdown",
   "id": "9ea08017-d08e-48c6-8411-7401d95a650d",
   "metadata": {
    "id": "9ea08017-d08e-48c6-8411-7401d95a650d"
   },
   "source": [
    "#### Merge Footprints and Monitor datasets"
   ]
  },
  {
   "cell_type": "code",
   "execution_count": null,
   "id": "b44ef93a-afeb-4c23-b9ed-12aad454fbe9",
   "metadata": {
    "colab": {
     "base_uri": "https://localhost:8080/"
    },
    "id": "b44ef93a-afeb-4c23-b9ed-12aad454fbe9",
    "outputId": "4214fa1f-e4c2-4261-f09f-44f5f59e36ed",
    "tags": []
   },
   "outputs": [],
   "source": [
    "# Merge datasets based on 'dev_key' and development_key\n",
    "monitor_footprints = pd.merge(\n",
    "    monitor,\n",
    "    footprints,\n",
    "    how='inner',  # Keep only rows with matching 'dev_key'\n",
    "    left_on='development_key',\n",
    "    right_on='dev_key',\n",
    "    suffixes=('_monitor', '_footprints')\n",
    ")\n",
    "\n",
    "# Drop duplicate 'dev_key' entries (keeping the first occurrence)\n",
    "monitor_footprints.drop_duplicates(subset='development_key', keep='first', inplace=True)\n",
    "monitor_footprints = monitor_footprints.drop(columns=['dev_key'])\n",
    "\n",
    "# Print the shape of the merged dataset\n",
    "print(\"Shape of the merged dataset (monitor_footprints):\", monitor_footprints.shape)\n",
    "\n",
    "# Print the merged dataset\n",
    "print('\\nmerged_dataset info (monitor_footprints):')\n",
    "print(monitor_footprints.info())"
   ]
  },
  {
   "cell_type": "code",
   "execution_count": null,
   "id": "56fdc871-67e2-4c2e-9173-a60cd3871aeb",
   "metadata": {
    "colab": {
     "base_uri": "https://localhost:8080/",
     "height": 568
    },
    "id": "56fdc871-67e2-4c2e-9173-a60cd3871aeb",
    "outputId": "c3053f28-7c45-40d0-bef8-af5caa0c4189",
    "tags": []
   },
   "outputs": [],
   "source": [
    "print('\\nmerged_dataset head (monitor_footprints):')\n",
    "monitor_footprints.head()"
   ]
  },
  {
   "cell_type": "code",
   "execution_count": null,
   "id": "f57fb8a4-4204-42d1-9ed8-a3938f93c5aa",
   "metadata": {
    "colab": {
     "base_uri": "https://localhost:8080/"
    },
    "id": "f57fb8a4-4204-42d1-9ed8-a3938f93c5aa",
    "outputId": "84409683-c0cc-4c5e-bc68-c4550f69554f",
    "tags": []
   },
   "outputs": [],
   "source": [
    "# Check unique values in year_completed\n",
    "unique_values = monitor_footprints['year_completed'].unique()\n",
    "print(unique_values)"
   ]
  },
  {
   "cell_type": "code",
   "execution_count": null,
   "id": "ce639a8c-8835-4904-b578-3d148bd2017c",
   "metadata": {
    "id": "ce639a8c-8835-4904-b578-3d148bd2017c",
    "tags": []
   },
   "outputs": [],
   "source": [
    "# Replace NaN year_completed for value = 0\n",
    "monitor_footprints['year_completed'] = monitor_footprints['year_completed'].replace('0', pd.NaT)\n",
    "\n",
    "# Convert 'year_completed' to datetime\n",
    "monitor_footprints['year_completed'] = pd.to_datetime(monitor_footprints['year_completed'], errors='coerce', format='%Y')"
   ]
  },
  {
   "cell_type": "code",
   "execution_count": null,
   "id": "c70980e7-ee4e-4a30-9969-7c61c1e97eb3",
   "metadata": {
    "id": "c70980e7-ee4e-4a30-9969-7c61c1e97eb3",
    "tags": []
   },
   "outputs": [],
   "source": [
    "# To save memory convert to category Dtype\n",
    "# Convert 'land_use_1,2,3' to category\n",
    "land_use_columns = ['land_use_1', 'land_use_2', 'land_use_3']\n",
    "\n",
    "for column in land_use_columns:\n",
    "    monitor_footprints[column] = monitor_footprints[column].astype('category')\n",
    "\n",
    "monitor_footprints['street_address'] = monitor_footprints['street_address'].astype('category')\n",
    "monitor_footprints['development_key'] = monitor_footprints['development_key'].astype('category')"
   ]
  },
  {
   "cell_type": "markdown",
   "id": "aa212123-0b0e-49ad-aecd-3fb59dbdd2d0",
   "metadata": {
    "id": "aa212123-0b0e-49ad-aecd-3fb59dbdd2d0"
   },
   "source": [
    "# Part 2\n",
    "*   Analysis & Overview\n",
    "*   Structures Development Analysis\n",
    "*   Facilitate Strategic Traffic Management\n",
    "*   Enhance Safety Protocols\n",
    "*   Optimise Traffic Flow"
   ]
  },
  {
   "cell_type": "markdown",
   "id": "n6ii1G-2KLBS",
   "metadata": {
    "id": "n6ii1G-2KLBS"
   },
   "source": [
    "*Optional Load datasets*\n",
    "\n",
    "*(If not running Part 1 and Pre-Processed data saved)*\n",
    "\n",
    "Uncomment cell to run, note: requires Google drive access to saved files"
   ]
  },
  {
   "cell_type": "code",
   "execution_count": null,
   "id": "VcKQ_FuUKRQV",
   "metadata": {
    "id": "VcKQ_FuUKRQV"
   },
   "outputs": [],
   "source": [
    "# # Uncomment if Part 1 was run and data was saved to google collab\n",
    "# import pandas as pd\n",
    "\n",
    "# # Load all datasets individually:\n",
    "# activities_path = '/content/drive/MyDrive/planned_works/cleaned_datasets/activities.csv'\n",
    "# footprints_path = '/content/drive/MyDrive/planned_works/cleaned_datasets/footprints.csv'\n",
    "# monitor_path = '/content/drive/MyDrive/planned_works/cleaned_datasets/monitor.csv'\n",
    "\n",
    "# activities = pd.read_csv(activities_path)\n",
    "# footprints = pd.read_csv(footprints_path)\n",
    "# monitor = pd.read_csv(monitor_path)\n",
    "\n",
    "# # Load Merged dataset (footprints and monitor) and activities dataset:\n",
    "# monitor_footprints_path = '/content/drive/MyDrive/planned_works/merged_dataset/monitor_footprints.csv'\n",
    "# monitor_footprints = pd.read_csv(monitor_footprints_path)\n",
    "\n",
    "# # Load encoded datasets\n",
    "# activities_encoded_path = '/content/drive/MyDrive/planned_works/encoded_datasets/activities_encode.csv'\n",
    "# footprints_encoded_path = '/content/drive/MyDrive/planned_works/encoded_datasets/footprints_encode.csv'\n",
    "# monitor_encoded_path = '/content/drive/MyDrive/planned_works/encoded_datasets/footprints_encode.csv'\n",
    "\n",
    "# activities_encode = pd.read_csv(activities_encoded_path)\n",
    "# footprints_encode = pd.read_csv(footprints_encoded_path)\n",
    "# monitor_encode = pd.read_csv(monitor_encoded_path)"
   ]
  },
  {
   "cell_type": "markdown",
   "id": "878419cd-bb5b-47cb-99d3-2ff3b13bab1f",
   "metadata": {
    "id": "878419cd-bb5b-47cb-99d3-2ff3b13bab1f"
   },
   "source": [
    "## Part 2.1: Analysis & Overview"
   ]
  },
  {
   "cell_type": "markdown",
   "id": "R3Oq11ldKc_-",
   "metadata": {
    "id": "R3Oq11ldKc_-"
   },
   "source": [
    "#### Explore Datasets\n",
    "To understand the data structure, identify data quality issues, statistical summary, and to make decisions about what models/ analyses to use."
   ]
  },
  {
   "cell_type": "code",
   "execution_count": null,
   "id": "4aWLZUBSKVuM",
   "metadata": {
    "colab": {
     "base_uri": "https://localhost:8080/"
    },
    "id": "4aWLZUBSKVuM",
    "outputId": "db96dc8f-aff0-4418-959e-4ab5df51cf7a"
   },
   "outputs": [],
   "source": [
    "# Explore individual datasets\n",
    "print('Activities:') # 601 entries\n",
    "print(activities.info())\n",
    "\n",
    "print('\\nFootprints:') # 1258 entries\n",
    "print(footprints.info())\n",
    "\n",
    "print('\\nMonitor:') # 1407 entries\n",
    "print(monitor.info())\n",
    "\n",
    "# Merged dataset (monitor & footprints)\n",
    "print('\\Merged Monitor $ Footprints:') # 492 entries\n",
    "print(monitor_footprints.info())"
   ]
  },
  {
   "cell_type": "markdown",
   "id": "DHQSx8bHKllD",
   "metadata": {
    "id": "DHQSx8bHKllD"
   },
   "source": [
    "##### Check Missing Values\n",
    "To find all missing elements in merged monitor_footprints dataset\n",
    "\n",
    "*Discovered 9 missing elements in dataset*"
   ]
  },
  {
   "cell_type": "code",
   "execution_count": null,
   "id": "0tnq8gcKKtJT",
   "metadata": {
    "colab": {
     "base_uri": "https://localhost:8080/"
    },
    "id": "0tnq8gcKKtJT",
    "outputId": "3882fb56-52ef-46fb-d626-de267941b24f"
   },
   "outputs": [],
   "source": [
    "# Find all missing footprints [land_use_1], [land_use_2], [land_use_3]\n",
    "missing_notes_completed_land_use = monitor_footprints[\n",
    "    (monitor_footprints['land_use_1'].isnull()) &\n",
    "    (monitor_footprints['land_use_2'].isnull()) &\n",
    "    (monitor_footprints['land_use_3'].isnull())\n",
    "]\n",
    "\n",
    "print('monitor_footprints missing values land_use:')\n",
    "print(missing_notes_completed_land_use)\n",
    "print('―' * 10)\n",
    "# 9 records missing from all 3 land use (based on land_use_1 missing in all land_use records)\n",
    "print(monitor_footprints.columns)"
   ]
  },
  {
   "cell_type": "markdown",
   "id": "htD02RFnKy3w",
   "metadata": {
    "id": "htD02RFnKy3w"
   },
   "source": [
    "##### Check Unique Values"
   ]
  },
  {
   "cell_type": "code",
   "execution_count": null,
   "id": "TYKnJEukKwwu",
   "metadata": {
    "colab": {
     "base_uri": "https://localhost:8080/"
    },
    "id": "TYKnJEukKwwu",
    "outputId": "27c67cb0-8b8f-4d83-dde1-2e33c89a5f00"
   },
   "outputs": [],
   "source": [
    "# Footprints: Check number of unique elements and number of rows (shape/ data points)\n",
    "unique_dev_keys_in_monitor_footprints = monitor_footprints['development_key'].nunique()\n",
    "print(f\"Number of unique 'development_key' values in footprints: {unique_dev_keys_in_monitor_footprints}\")\n",
    "total_data_in_monitor_footprints = monitor_footprints.shape[0]\n",
    "print(f\"Total number of elements in monitor_footprints: {total_data_in_monitor_footprints}\")\n",
    "# Unique 'dev_key' & Total number values in monitor_footprints: 492\n",
    "print('―' * 10)\n",
    "\n",
    "# Monitor: Check number of unique elements and number of rows (shape/ data points)\n",
    "unique_dev_keys_in_activities = activities['activity_id'].nunique()\n",
    "print(f\"Number of unique 'activity_id' values in activities: {unique_dev_keys_in_activities}\")\n",
    "total_data_in_activities = activities.shape[0]\n",
    "print(f\"Total number of elements in activities: {total_data_in_activities}\")\n",
    "# Total number of elements in activities: 601\n",
    "print('―' * 10)\n",
    "\n",
    "# Check monitor_footprints dataset due to duplicates/ white spaces\n",
    "monitor_footprints['development_key'] = monitor_footprints['development_key'].str.strip()\n",
    "unique_dev_keys_after_stripping = monitor_footprints['development_key'].nunique()\n",
    "print(f\"After stripping whitespaces, the number of unique 'development_key' values: {unique_dev_keys_after_stripping}\")\n",
    "print('―' * 10)\n",
    "\n",
    "print(monitor_footprints.columns)"
   ]
  },
  {
   "cell_type": "markdown",
   "id": "f12c5230-8f3f-4291-a84d-ea19c16db9ab",
   "metadata": {
    "id": "f12c5230-8f3f-4291-a84d-ea19c16db9ab"
   },
   "source": [
    "#### Number of Active Developments by Time"
   ]
  },
  {
   "cell_type": "markdown",
   "id": "1fe68d4a-9d26-44e5-b86a-98aa4ed40a0d",
   "metadata": {
    "id": "1fe68d4a-9d26-44e5-b86a-98aa4ed40a0d"
   },
   "source": [
    "Starting from 2022, the number of developments grew and reached the peak in around April or May of the year.\n",
    "\n",
    "This can be explained by the fact that this was the post-covid time, when daily life began to be back to normal.\n",
    "\n",
    "Otherwise each year, the number of developments remained quite constant. This can be a good sign from the city council as they managed to have a stable contructions upgrade each yar."
   ]
  },
  {
   "cell_type": "code",
   "execution_count": null,
   "id": "d017b7a5-5d6b-48a5-9502-8eb80311aa0d",
   "metadata": {
    "colab": {
     "base_uri": "https://localhost:8080/",
     "height": 601
    },
    "id": "d017b7a5-5d6b-48a5-9502-8eb80311aa0d",
    "outputId": "e842c7de-6b3e-4a5e-b889-0039bf8e584c",
    "tags": []
   },
   "outputs": [],
   "source": [
    "# Create a new column 'month' for each construction\n",
    "activities['start_month'] = activities['start_date'].dt.to_period('M')\n",
    "activities['end_month'] = activities['end_date'].dt.to_period('M')\n",
    "\n",
    "# Create a range of months for each construction\n",
    "months_involved = activities.apply(lambda row: pd.period_range(row['start_month'], row['end_month'], freq='M'), axis=1)\n",
    "\n",
    "# Flatten the list of months\n",
    "months_involved = [month for sublist in months_involved for month in sublist]\n",
    "\n",
    "# Count occurrences of each month\n",
    "month_counts = pd.Series(months_involved).value_counts().sort_index()\n",
    "\n",
    "# Plotting\n",
    "plt.figure(figsize=(12, 6))\n",
    "\n",
    "# Using pandas plot function to create a line chart\n",
    "month_counts.plot(kind='line', marker='o', color=dark_theme_colors[1])\n",
    "\n",
    "plt.title('Number of Structures Development Active by Month-Year')\n",
    "plt.xlabel('Month')\n",
    "plt.ylabel('Number of Developments')\n",
    "plt.xticks(rotation=45)\n",
    "plt.tight_layout()\n",
    "plt.show()"
   ]
  },
  {
   "cell_type": "markdown",
   "id": "1e013b78-912c-4c72-bf89-43a74d48d421",
   "metadata": {
    "id": "1e013b78-912c-4c72-bf89-43a74d48d421"
   },
   "source": [
    "#### Number of Developments each Classification"
   ]
  },
  {
   "cell_type": "markdown",
   "id": "b2b3e607-075b-451a-8a6d-f09a223b2d84",
   "metadata": {
    "id": "b2b3e607-075b-451a-8a6d-f09a223b2d84",
    "tags": []
   },
   "source": [
    "These numbers present the overall number of developments each classification. This should be used to help the city council have a quick view of what has been focused on expanding.\n",
    "\n",
    "Among the developments' types, we can see that most developments are structures related:\n",
    "* Structures            415\n",
    "* Traffic Management     85\n",
    "* Reserved Parking       69\n",
    "* Event                  17\n",
    "* Public Event           14\n",
    "* Private Event           1"
   ]
  },
  {
   "cell_type": "code",
   "execution_count": null,
   "id": "ae19e05a-636d-4da9-869e-72bb351db509",
   "metadata": {
    "colab": {
     "base_uri": "https://localhost:8080/",
     "height": 791
    },
    "id": "ae19e05a-636d-4da9-869e-72bb351db509",
    "outputId": "eb974112-3b39-48cb-acd8-6dc716a6dec3",
    "tags": []
   },
   "outputs": [],
   "source": [
    "# Use value_counts to get the count of each unique value\n",
    "value_counts = activities['classification'].value_counts()\n",
    "\n",
    "# Print the number of developments for each classification\n",
    "print(\"Number of Developments for Each Classification:\")\n",
    "print(value_counts)\n",
    "\n",
    "# Plotting\n",
    "plt.figure(figsize=(12, 6))\n",
    "value_counts.plot(kind='bar', color=dark_theme_colors[3])\n",
    "plt.xlabel('')\n",
    "plt.ylabel('')\n",
    "plt.title('Number of Developments each Classification')\n",
    "plt.xticks(rotation=45, ha='right')\n",
    "plt.show()"
   ]
  },
  {
   "cell_type": "markdown",
   "id": "0e0bdc3a-e6fb-4d5d-ad9e-d252927c6e89",
   "metadata": {
    "id": "0e0bdc3a-e6fb-4d5d-ad9e-d252927c6e89"
   },
   "source": [
    "#### Visualisation of Active Developments over Time"
   ]
  },
  {
   "cell_type": "markdown",
   "id": "257d4636-fba5-4823-952b-23a3a665ebd6",
   "metadata": {
    "id": "257d4636-fba5-4823-952b-23a3a665ebd6"
   },
   "source": [
    "This map shows the active developments with a time bar running. By looking at the map, user can have an overview of the area focused each month.\n",
    "- Each point represents an active development at the time.\n",
    "- Each development has a color represented:\n",
    "    - Structures: #08af64\n",
    "    - Traffic Management: #14a38e\n",
    "    - Event: #0f9295\n",
    "    - Reserved Parking: #056b8a\n",
    "    - Public #121212\n",
    "    - Private Event: #121212\n",
    "    \n",
    "Mostly, the developments recorded were within Melbourne CBD. Especially in 2022, the number of structures outnumbered the other types of development."
   ]
  },
  {
   "cell_type": "code",
   "execution_count": null,
   "id": "cfa01e27-e674-47e3-857e-67a5be12e825",
   "metadata": {
    "colab": {
     "base_uri": "https://localhost:8080/",
     "height": 845
    },
    "id": "cfa01e27-e674-47e3-857e-67a5be12e825",
    "outputId": "1d611e0d-3607-4e09-b61f-ecf322dfcb43",
    "tags": []
   },
   "outputs": [],
   "source": [
    "# Use geopy to get the coordinates for Melbourne\n",
    "geolocator = Nominatim(user_agent=\"my_map\")\n",
    "location = geolocator.geocode(\"Melbourne, Australia\")\n",
    "melbourne_coords = (location.latitude, location.longitude)\n",
    "\n",
    "# Filter data for Melbourne\n",
    "activities = activities[(activities['latitude'].notna()) & (activities['longitude'].notna())]\n",
    "\n",
    "# Create a new column 'month' for each construction\n",
    "activities['start_month'] = activities['start_date'].dt.to_period('M')\n",
    "activities['end_month'] = activities['end_date'].dt.to_period('M')\n",
    "\n",
    "# Create a GeoJSON FeatureCollection\n",
    "feature_collection = {\n",
    "    'type': 'FeatureCollection',\n",
    "    'features': []\n",
    "}\n",
    "\n",
    "# Create a color dictionary for each classification\n",
    "classification_colors = {\n",
    "    'Structures': '#08af64',\n",
    "    'Traffic Management': '#14a38e',\n",
    "    'Event': '#0f9295',\n",
    "    'Reserved Parking': '#056b8a',\n",
    "    'Public Event': '#121212',\n",
    "    'Private Event': '#121212'\n",
    "}\n",
    "\n",
    "# Populate the FeatureCollection with features for each construction\n",
    "for index, row in activities.iterrows():\n",
    "    classification = row['classification']\n",
    "    color = classification_colors.get(classification, 'gray')  # Default to gray if classification is not in the dictionary\n",
    "\n",
    "    feature = {\n",
    "        'type': 'Feature',\n",
    "        'geometry': {\n",
    "            'type': 'Point',\n",
    "            'coordinates': [row['longitude'], row['latitude']]\n",
    "        },\n",
    "        'properties': {\n",
    "            'time': row['start_month'].strftime('%Y-%m'),\n",
    "            'popup': f\"{row['start_month'].strftime('%Y-%m')}<br>{classification}\",\n",
    "            'icon': 'circle',\n",
    "            'iconstyle': {\n",
    "                'fillColor': color,\n",
    "                'color': color,\n",
    "                'fillOpacity': 1,\n",
    "                'radius': 10\n",
    "            }\n",
    "        }\n",
    "    }\n",
    "    feature_collection['features'].append(feature)\n",
    "\n",
    "# Create a Folium Map centered around Melbourne\n",
    "melbourne_map = folium.Map(location=melbourne_coords, zoom_start=12)\n",
    "\n",
    "# Add the time-indexed GeoJSON data to the map\n",
    "plugins.TimestampedGeoJson(\n",
    "    feature_collection,\n",
    "    period='P1M',\n",
    "    duration='P1M',\n",
    "    auto_play=True,\n",
    "    add_last_point=True,\n",
    "    max_speed=1,\n",
    "    loop=True\n",
    ").add_to(melbourne_map)\n",
    "\n",
    "# Display the map in the notebook\n",
    "display(melbourne_map)"
   ]
  },
  {
   "cell_type": "markdown",
   "id": "b3ecde91-9a6a-47e0-bf69-4309362c1369",
   "metadata": {
    "id": "b3ecde91-9a6a-47e0-bf69-4309362c1369"
   },
   "source": [
    "#### Duration of Classification"
   ]
  },
  {
   "cell_type": "markdown",
   "id": "dc83313a-b485-497d-b234-e9a3e3b17cc0",
   "metadata": {
    "id": "dc83313a-b485-497d-b234-e9a3e3b17cc0"
   },
   "source": [
    "Having duration of each type of development can help the council estimate the time and resource to finish.\n",
    "\n",
    "Over years, we can conclude that \"Event\" development took most time to be completed, followed by \"Traffic Management\" and \"Structures\" developments.\n",
    "Event's durations varied, which can be harder to estimate."
   ]
  },
  {
   "cell_type": "code",
   "execution_count": null,
   "id": "ba15133a-436a-4600-a52f-4dee95307458",
   "metadata": {
    "colab": {
     "base_uri": "https://localhost:8080/",
     "height": 922
    },
    "id": "ba15133a-436a-4600-a52f-4dee95307458",
    "outputId": "fdcfd509-4f74-4372-d1f7-1eae6105d70d",
    "tags": []
   },
   "outputs": [],
   "source": [
    "# Group by 'classification', 'month_year' and calculate the average duration\n",
    "average_duration_by_month_year = activities.groupby(['classification'])['duration'].median().reset_index()\n",
    "\n",
    "# Sort the DataFrame by 'month_year'\n",
    "sorted_average_duration = average_duration_by_month_year.sort_values(by='duration')\n",
    "\n",
    "# Display the resulting DataFrame\n",
    "print(sorted_average_duration)\n",
    "\n",
    "# Plotting\n",
    "plt.figure(figsize=(12, 8))\n",
    "\n",
    "# Using seaborn to create a box plot\n",
    "sns.boxplot(x='classification', y='duration', data=activities)\n",
    "\n",
    "plt.title('Distribution of Developments Durations by Type')\n",
    "plt.xlabel('')\n",
    "plt.ylabel('Duration (by days)')\n",
    "plt.xticks(rotation=45)\n",
    "plt.tight_layout()\n",
    "plt.show()"
   ]
  },
  {
   "cell_type": "markdown",
   "id": "8fe21222-1d07-41e2-a2d3-99cbef7a71c1",
   "metadata": {
    "id": "8fe21222-1d07-41e2-a2d3-99cbef7a71c1"
   },
   "source": [
    "## Part 2.2: Structures Development Analysis"
   ]
  },
  {
   "cell_type": "code",
   "execution_count": null,
   "id": "03afbc5a-a7bb-41d6-b38a-99e764e7e596",
   "metadata": {
    "id": "03afbc5a-a7bb-41d6-b38a-99e764e7e596",
    "tags": []
   },
   "outputs": [],
   "source": [
    "activities_structures = activities[activities['classification'] == 'Structures']"
   ]
  },
  {
   "cell_type": "markdown",
   "id": "32d1a71b-0281-4c31-89b5-32e3f0f1222f",
   "metadata": {
    "id": "32d1a71b-0281-4c31-89b5-32e3f0f1222f"
   },
   "source": [
    "#### Number of Active Structures Developement through Time\n",
    "This chart helps the city council tracking the overall trend of specific structures developments over time.\n",
    "\n",
    "The number of structures developments increased dramatically during 2022, due to the same reason with the overall constructions - post covid."
   ]
  },
  {
   "cell_type": "code",
   "execution_count": null,
   "id": "447afcc7-6332-4cb5-bc6c-f5117996f974",
   "metadata": {
    "colab": {
     "base_uri": "https://localhost:8080/",
     "height": 601
    },
    "id": "447afcc7-6332-4cb5-bc6c-f5117996f974",
    "outputId": "ac8d4594-a9e9-46d2-b2ae-de00f3446902",
    "tags": []
   },
   "outputs": [],
   "source": [
    "# Create a new column 'month' for each construction\n",
    "activities_structures['start_month'] = activities_structures['start_date'].dt.to_period('M')\n",
    "activities_structures['end_month'] = activities_structures['end_date'].dt.to_period('M')\n",
    "\n",
    "# Create a range of months for each construction\n",
    "months_involved = activities_structures.apply(lambda row: pd.period_range(row['start_month'], row['end_month'], freq='M'), axis=1)\n",
    "\n",
    "# Flatten the list of months\n",
    "months_involved = [month for sublist in months_involved for month in sublist]\n",
    "\n",
    "# Count occurrences of each month\n",
    "month_counts = pd.Series(months_involved).value_counts().sort_index()\n",
    "\n",
    "# Plotting\n",
    "plt.figure(figsize=(12, 6))\n",
    "\n",
    "# Using pandas plot function to create a line chart\n",
    "month_counts.plot(kind='line', color=light_theme_colors[3])\n",
    "\n",
    "plt.title('Number of Structures Development Active by Month-Year')\n",
    "plt.xlabel('')\n",
    "plt.ylabel('')\n",
    "plt.xticks(rotation=45)\n",
    "plt.tight_layout()\n",
    "plt.show()"
   ]
  },
  {
   "cell_type": "markdown",
   "id": "121830f0-55c5-48a7-a69a-957f9c24d950",
   "metadata": {
    "id": "121830f0-55c5-48a7-a69a-957f9c24d950"
   },
   "source": [
    "#### Number of Developments using each Land"
   ]
  },
  {
   "cell_type": "markdown",
   "id": "fefe0a07-1507-43f5-8958-de4d5f7fbfd1",
   "metadata": {
    "id": "fefe0a07-1507-43f5-8958-de4d5f7fbfd1"
   },
   "source": [
    "This chart help the city council deciding on alternative solutions during each development, so that it will not affect on the citizens' daily lives.\n",
    "\n",
    "Over the years, Car parks and Dwellings areas were most affected by structures development."
   ]
  },
  {
   "cell_type": "code",
   "execution_count": null,
   "id": "794a4752-6764-46b9-888f-ed7d35f5dcc4",
   "metadata": {
    "colab": {
     "base_uri": "https://localhost:8080/",
     "height": 678
    },
    "id": "794a4752-6764-46b9-888f-ed7d35f5dcc4",
    "outputId": "1b2b1354-5f4e-4fd7-d187-6f1520aeca5b",
    "tags": []
   },
   "outputs": [],
   "source": [
    "df_melted = pd.melt(footprints, value_vars=['land_use_1', 'land_use_2', 'land_use_3'], var_name='land_use')\n",
    "\n",
    "# Use value_counts to get the count of each unique value\n",
    "value_counts = df_melted['value'].value_counts()\n",
    "\n",
    "# Plotting\n",
    "plt.figure(figsize=(12, 6))\n",
    "\n",
    "# Plotting\n",
    "value_counts.plot(kind='bar', color=dark_theme_colors[0])\n",
    "plt.xlabel('')\n",
    "plt.ylabel('')\n",
    "plt.title('Number of Structures Developments using each Land')\n",
    "plt.xticks(rotation=45, ha='right')\n",
    "plt.show()"
   ]
  },
  {
   "cell_type": "markdown",
   "id": "cXMDvbqGoZh1",
   "metadata": {
    "id": "cXMDvbqGoZh1"
   },
   "source": [
    "#### Number of Developments each Shape Type\n",
    "This chart helps the city council to have an overview of the developments' shape types.\n",
    "\n",
    "The shape of developments be considered in conjunction with their intended functionality. Certain shapes may be more suitable for residential areas, while others may be better suited for commercial or industrial zones.\n",
    "\n",
    "It can be concluded here that mostly the developments have the shape of podium and tower, so they should be buildings or houses."
   ]
  },
  {
   "cell_type": "code",
   "execution_count": null,
   "id": "48ebca4c-90db-48a8-9df2-187ffcb22279",
   "metadata": {
    "colab": {
     "base_uri": "https://localhost:8080/",
     "height": 684
    },
    "id": "48ebca4c-90db-48a8-9df2-187ffcb22279",
    "outputId": "5e9f2240-d5bf-481a-f848-7fc51f157e75",
    "tags": []
   },
   "outputs": [],
   "source": [
    "# Use value_counts to get the count of each unique value\n",
    "value_counts = footprints['shape_type'].value_counts()\n",
    "\n",
    "# Print the number of developments for each classification\n",
    "print(\"Number of Developments for Each Shape Type:\")\n",
    "print(value_counts)\n",
    "\n",
    "# Plotting\n",
    "plt.figure(figsize=(12, 6))\n",
    "value_counts.plot(kind='bar', color=dark_theme_colors[1])\n",
    "plt.xlabel('')\n",
    "plt.ylabel('')\n",
    "plt.title('Number of Developments each Shape Type')\n",
    "plt.xticks(rotation=45, ha='right')\n",
    "plt.show()"
   ]
  },
  {
   "cell_type": "markdown",
   "id": "oteLBVSwCKeh",
   "metadata": {
    "id": "oteLBVSwCKeh"
   },
   "source": [
    "#### Number of Structures Developments based on Area and Status\n",
    "The table summarizes the structures developments in each area. The city council can track the number of developments being \"Applied\", \"Approved\", \"Completed\", and \"Under Construction\".\n",
    "\n",
    "Due to the current data, North Melbourne and Melbourne (CBD) now have 30 structures developments in progress."
   ]
  },
  {
   "cell_type": "code",
   "execution_count": null,
   "id": "11d0c42d-5c61-4dbc-99ee-0bc1a704b20f",
   "metadata": {
    "colab": {
     "base_uri": "https://localhost:8080/",
     "height": 1000
    },
    "id": "11d0c42d-5c61-4dbc-99ee-0bc1a704b20f",
    "outputId": "6268c1ea-8322-447c-c3ee-1446bf0e086c",
    "tags": []
   },
   "outputs": [],
   "source": [
    "area_status_count = monitor.groupby(['status', 'clue_small_area'])['development_key'].count().reset_index(name='count').sort_values(by=['status', 'count'], ascending=[True, False])\n",
    "area_status_count"
   ]
  },
  {
   "cell_type": "markdown",
   "id": "-drNwewLDltL",
   "metadata": {
    "id": "-drNwewLDltL"
   },
   "source": [
    "The below chart also helps the city council on tracking the structures development. It is easier to compare within the area the status of developments.\n",
    "\n",
    "Based on the chart, Melbourne (CBD) has been invested mostly with the highest number of completed developments, followed by Docklands."
   ]
  },
  {
   "cell_type": "code",
   "execution_count": null,
   "id": "cf25e4eb-d63c-414b-a127-a71fa861c821",
   "metadata": {
    "colab": {
     "base_uri": "https://localhost:8080/",
     "height": 801
    },
    "id": "cf25e4eb-d63c-414b-a127-a71fa861c821",
    "outputId": "4f06da9c-0b64-42e5-f603-c5bb99e79c99",
    "tags": []
   },
   "outputs": [],
   "source": [
    "# Create a grouped bar plot for each 'status'\n",
    "plt.figure(figsize=(12, 8))\n",
    "sns.barplot(x='clue_small_area', y='count', hue='status', data=area_status_count, palette=light_theme_colors[2:6])\n",
    "\n",
    "# Customize the plot\n",
    "plt.xticks(rotation=45, ha=\"right\", fontsize=10)\n",
    "plt.xlabel(\"Clue Small Area\")\n",
    "plt.ylabel(\"\")\n",
    "plt.title(\"Nunber of Structures Development of Each Clue Small Area for Each Status\")\n",
    "\n",
    "# Show the legend\n",
    "plt.legend(title=\"Status\", bbox_to_anchor=(1, 1))\n",
    "\n",
    "# Show the plot\n",
    "plt.tight_layout()\n",
    "plt.show()"
   ]
  },
  {
   "cell_type": "markdown",
   "id": "rLuVqbXBHj8K",
   "metadata": {
    "id": "rLuVqbXBHj8K"
   },
   "source": [
    "#### Predicting Duration of Structures Developments"
   ]
  },
  {
   "cell_type": "markdown",
   "id": "d0h7A-xWH9HX",
   "metadata": {
    "id": "d0h7A-xWH9HX"
   },
   "source": [
    "This model is used to help city council estimate the duration of a structure development using year started, month started, longitude and lattitude. These attributes are chosen based on the related information and correlation with values \"duration\"."
   ]
  },
  {
   "cell_type": "code",
   "execution_count": null,
   "id": "FECoojSjGso7",
   "metadata": {
    "colab": {
     "base_uri": "https://localhost:8080/",
     "height": 535
    },
    "id": "FECoojSjGso7",
    "outputId": "11fed039-c758-4191-f523-fcf663b6491b"
   },
   "outputs": [],
   "source": [
    "# Get usable attributes\n",
    "activities_encode = activities_structures.copy()\n",
    "activities_encode = activities_encode[['classification', 'end_date', 'start_date', 'status', 'small_area', 'duration',\n",
    "                                       'longitude', 'latitude']]\n",
    "\n",
    "# Split date to day, month, year\n",
    "activities_encode['year_start'] = activities_encode['start_date'].dt.year\n",
    "activities_encode['month_start'] = activities_encode['start_date'].dt.month\n",
    "activities_encode['day_start'] = activities_encode['start_date'].dt.day\n",
    "activities_encode['year_end'] = activities_encode['end_date'].dt.year\n",
    "activities_encode['month_end'] = activities_encode['end_date'].dt.month\n",
    "activities_encode['day_end'] = activities_encode['end_date'].dt.day\n",
    "\n",
    "# Label encode all four columns\n",
    "label_encoder = LabelEncoder()\n",
    "for col in ['status', 'small_area']:\n",
    "    activities_encode[f'{col}'] = label_encoder.fit_transform(activities_encode[col])\n",
    "\n",
    "# Calculate the correlation matrix\n",
    "correlation_matrix = activities_encode.corr()\n",
    "\n",
    "# Plot the correlation matrix using a heatmap\n",
    "sns.heatmap(correlation_matrix, annot=True, cmap='coolwarm', fmt=\".2f\")\n",
    "plt.title(\"Correlation Matrix\")\n",
    "plt.show()"
   ]
  },
  {
   "cell_type": "code",
   "execution_count": null,
   "id": "dvJWYqlLHviI",
   "metadata": {
    "colab": {
     "base_uri": "https://localhost:8080/"
    },
    "id": "dvJWYqlLHviI",
    "outputId": "085afac9-1d42-4b38-caff-648fe031fa53",
    "tags": []
   },
   "outputs": [],
   "source": [
    "# Selecting the features and target variable\n",
    "X = activities_encode[['year_start', 'month_start', 'longitude', 'latitude']]\n",
    "y = activities_encode['duration']\n",
    "\n",
    "# Splitting the data into training and testing sets\n",
    "X_train, X_test, y_train, y_test = train_test_split(X, y, test_size=0.2, random_state=42)\n",
    "\n",
    "# Standardize features if needed\n",
    "scaler = StandardScaler()\n",
    "X_train_scaled = scaler.fit_transform(X_train)\n",
    "X_test_scaled = scaler.transform(X_test)\n",
    "\n",
    "# Initialize the RandomForestRegressor\n",
    "model = RandomForestRegressor()\n",
    "\n",
    "# Train the model\n",
    "model.fit(X_train_scaled, y_train)\n",
    "\n",
    "# Make predictions on the test set\n",
    "y_pred = model.predict(X_test_scaled)\n",
    "\n",
    "# Evaluate the model\n",
    "mse = mean_squared_error(y_test, y_pred)\n",
    "r2 = r2_score(y_test, y_pred)\n",
    "\n",
    "# Print the evaluation metrics\n",
    "print(f'Mean Squared Error: {mse}')\n",
    "print(f'R-squared: {r2}')\n",
    "\n",
    "# Function to get user input and make predictions\n",
    "def predict_duration():\n",
    "    # Get user input\n",
    "    year_start = float(input(\"Enter Year Started of Development: \"))\n",
    "    month_start = float(input(\"Enter Month Started of Development: \"))\n",
    "    longitude = float(input(\"Enter Longitdue: \"))\n",
    "    latitude = float(input(\"Enter Latitude: \"))\n",
    "\n",
    "    # Prepare input for prediction\n",
    "    user_input = [[year_start, month_start, longitude, latitude]]\n",
    "\n",
    "    # Standardize the input features using the same scaler\n",
    "    user_input_scaled = scaler.transform(user_input)\n",
    "\n",
    "    # Make predictions\n",
    "    predicted_duration = model.predict(user_input_scaled)[0]\n",
    "\n",
    "    # Print the result\n",
    "    print(f'Predicted Duration of Development: {predicted_duration} days')\n",
    "\n",
    "# Call the function\n",
    "\n",
    "predict_duration()"
   ]
  },
  {
   "cell_type": "markdown",
   "id": "365a65ec-6485-4c9b-bc8e-8c11f5bdf962",
   "metadata": {
    "id": "365a65ec-6485-4c9b-bc8e-8c11f5bdf962"
   },
   "source": [
    "## Part 2.3: Traffic Managment Analysis"
   ]
  },
  {
   "cell_type": "markdown",
   "id": "e7c55a7b-44f3-4abd-ba65-afd7eb3ad20b",
   "metadata": {
    "id": "e7c55a7b-44f3-4abd-ba65-afd7eb3ad20b"
   },
   "source": [
    "#### Combine Events & Remove\n",
    "Activities Dataset, Combine Events & remove structure attribute\n",
    "\n",
    "Traffic Management had the most datacollection (85 elements), Followed by Reserved Parking (69 elements) and Combined Events (32 elements).\n",
    "\n",
    "\n",
    "*   Traffic Management 45.7%\n",
    "*   Reserved Parking 37.1%\n",
    "*   Combined Events 17.2%"
   ]
  },
  {
   "cell_type": "code",
   "execution_count": null,
   "id": "55dd506e-a498-4a97-9926-e3648672e4f3",
   "metadata": {
    "colab": {
     "base_uri": "https://localhost:8080/",
     "height": 706
    },
    "id": "55dd506e-a498-4a97-9926-e3648672e4f3",
    "outputId": "af9c8aaa-886e-4212-f8b2-20acea257601",
    "tags": []
   },
   "outputs": [],
   "source": [
    "# Unique elements in classification attribute activities\n",
    "unique_classifications = activities['classification'].unique()\n",
    "classification_counts = activities['classification'].value_counts()\n",
    "\n",
    "print(\"Number of occurrences for each classification in Activities:\")\n",
    "print(classification_counts)\n",
    "\n",
    "print('―' * 10)\n",
    "\n",
    "# Combine events\n",
    "activities['combined_event_type'] = activities['classification'].replace(['Event', 'Public Event', 'Private Event'], 'Combined Events')\n",
    "\n",
    "# Print the count of each unique classification in activities\n",
    "classification_counts = activities['combined_event_type'].value_counts()\n",
    "\n",
    "print(\"Number of occurrences for each classification in Activities:\")\n",
    "print(classification_counts)\n",
    "\n",
    "print('―' * 10)\n",
    "\n",
    "activities['combined_event_type'] = activities['classification'].replace(['Event', 'Public Event', 'Private Event'], 'Combined Events')\n",
    "\n",
    "# Filter for specific classifications & removed 'Structures' to focus on traffic\n",
    "selected_classifications = ['Traffic Management', 'Reserved Parking', 'Combined Events']\n",
    "filtered_activities = activities[activities['combined_event_type'].isin(selected_classifications)]\n",
    "\n",
    "filtered_activities['combined_event_type'].value_counts().plot.pie(autopct='%1.1f%%', colors=[light_theme_colors[1], light_theme_colors[2], light_theme_colors[3]])\n",
    "plt.title('Percentage of Occurrences for each Classification in Activities')\n",
    "plt.ylabel('')\n",
    "plt.show()"
   ]
  },
  {
   "cell_type": "markdown",
   "id": "bbb54df6-ba58-45a2-9521-7a3310c501e3",
   "metadata": {
    "id": "bbb54df6-ba58-45a2-9521-7a3310c501e3"
   },
   "source": [
    "#### Mean, Max and Min (Distribution)\n",
    "Mean, Max and Min Activity Distribution Activities (Traffic Management, Reserved Parking, Combined Events)\n",
    "\n",
    "The following is observed for traffic management, reserved parking and combined events in Activities dataset.**\n",
    "<br>\n",
    "<br>\n",
    "\n",
    "**Total**\n",
    "\n",
    "These numbers represent the total count of activities recorded across all years.\n",
    "*   Traffic Management 85\n",
    "*   Reserved Parking 69\n",
    "*   Combined Events 32\n",
    "\n",
    "**Mean**\n",
    "\n",
    "The mean provides the average level of activity, indicating the typical behavior for each type of activity.\n",
    "*   Traffic Management 14.17\n",
    "*   Reserved Parking 11.50\n",
    "*   Combined Events 5.33\n",
    "\n",
    "**Max**\n",
    "\n",
    "The maximum values represent the highest observed activity for each type, highlighting peak levels.\n",
    "*   Traffic Management 80\n",
    "*   Reserved Parking 69\n",
    "*   Combined Events 24\n",
    "\n",
    "**Min**\n",
    "\n",
    "The minimum values represent the lowest observed activity, demonstrating the range of the dataset.\n",
    "*   Traffic Management 0\n",
    "*   Reserved Parking 0\n",
    "*   Combined Events 1\n",
    "\n",
    "<br>\n",
    "\n",
    "**Observations**\n",
    "*   Traffic Management, the minimum activity occured in both 2018 and 2019, and the Maximum activity was observed in 2022.\n",
    "*   Reserved Parking reached maximum activity level in 2022, however minimum level is unclear as 0 minimum is found for other years.\n",
    "*   Combined Events reached maximum activity level in 2022, and 200 and 2021 having minimum level.\n",
    "\n",
    "*   Over period of 6 years, Traffic Management has highest level of data collection (85), folowed by Reserved Parking (69) and Combined Events (32).\n",
    "*   During data collection Traffic management collected lowest amount of data for 2019 and 2021. No data was collected for 2018 and 2013. Reserved Parking only collected data in 2022, 0 elements were recorded for all other years. Combined events lowest data records period 2020 and 2021 (1 element each) whilest 2018, 2019 and 2023 collected 2 elements each, with heighest data collection for 2022."
   ]
  },
  {
   "cell_type": "code",
   "execution_count": null,
   "id": "873090fb-6ff9-4044-bd37-57d676173fc3",
   "metadata": {
    "colab": {
     "base_uri": "https://localhost:8080/",
     "height": 899
    },
    "id": "873090fb-6ff9-4044-bd37-57d676173fc3",
    "outputId": "d68806b6-192d-4d14-b79a-1fff78892e20",
    "tags": []
   },
   "outputs": [],
   "source": [
    "# Datetime format\n",
    "activities['start_date'] = pd.to_datetime(activities['start_date'], errors='coerce')\n",
    "activities['start_year'] = activities['start_date'].dt.year # Find year from start_date\n",
    "\n",
    "# Filter\n",
    "selected_classifications = ['Traffic Management', 'Reserved Parking', 'Combined Events']\n",
    "filtered_activities = activities[activities['combined_event_type'].isin(selected_classifications)]\n",
    "\n",
    "# Group data and combinations\n",
    "grouped_data = filtered_activities.groupby(['start_year', 'combined_event_type']).size().reset_index(name='count')\n",
    "all_combinations = pd.MultiIndex.from_product([grouped_data['start_year'].unique(), selected_classifications], names=['start_year', 'combined_event_type'])\n",
    "grouped_data = grouped_data.set_index(['start_year', 'combined_event_type']).reindex(all_combinations, fill_value=0).reset_index()\n",
    "\n",
    "# Plot\n",
    "sns.set(style=\"whitegrid\")\n",
    "\n",
    "# Subplot Grid\n",
    "fig, axes = plt.subplots(nrows=1, ncols=3, figsize=(18, 6), sharey=True)\n",
    "\n",
    "# Classifications subplots\n",
    "for i, classification in enumerate(selected_classifications):\n",
    "    ax = axes[i]\n",
    "    counts = grouped_data[grouped_data['combined_event_type'] == classification]\n",
    "    sns.lineplot(x='start_year', y='count', data=counts, ax=ax)\n",
    "\n",
    "    # Titles labels\n",
    "    ax.set_title(classification)\n",
    "    ax.set_xlabel('Start Year')\n",
    "    ax.set_ylabel('Count')\n",
    "\n",
    "    # Print counts\n",
    "    for _, row in counts.iterrows():\n",
    "        ax.text(row['start_year'], row['count'], str(row['count']), ha='center', va='bottom')\n",
    "\n",
    "    # Print\n",
    "    total_count = counts['count'].sum()\n",
    "    mean_count = counts['count'].mean()\n",
    "    max_count = counts['count'].max()\n",
    "    min_count = counts['count'].min()\n",
    "    stats_str = f\"Total: {total_count}, Mean: {mean_count:.2f}, Max: {max_count}, Min: {min_count}\"\n",
    "    ax.text(0.5, -0.2, stats_str, transform=ax.transAxes, ha='center', va='center', bbox=dict(boxstyle='round', facecolor='white', alpha=0.7))\n",
    "\n",
    "plt.tight_layout()\n",
    "plt.show()\n",
    "\n",
    "# Print elements for each year based on filter\n",
    "data = \"\"\n",
    "\n",
    "for classification in selected_classifications:\n",
    "    data += f\"\\nClassification: {classification}\\n\"\n",
    "    # Filter\n",
    "    counts = grouped_data[grouped_data['combined_event_type'] == classification]\n",
    "\n",
    "    # Iterate\n",
    "    for _, row in counts.iterrows():\n",
    "        year = int(row['start_year'])\n",
    "        count = row['count']\n",
    "        data += f\"Year {year}: {count} elements\\n\" # Count\n",
    "\n",
    "print(data)"
   ]
  },
  {
   "cell_type": "markdown",
   "id": "7a24fc57-2f80-43f7-9d4b-97edb84ce937",
   "metadata": {
    "id": "7a24fc57-2f80-43f7-9d4b-97edb84ce937"
   },
   "source": [
    "#### Temporal Analysis (Monthly Distribution)\n",
    "\n",
    "Activities Traffic Management, Reserved Parking, Combined Events\n",
    "<br>\n",
    "<br>\n",
    "\n",
    "Overall highest periods of data records/ activity was January and May.\n",
    "\n",
    "Overall lowest periods of data records/ activity was January and May.\n",
    "\n",
    "*   Traffic Management highest records (Jan), lowest (Feb, March, April, Nov) and zero records for all other months.\n",
    "*   Reserved Parking highest records (May), lowest (June) and zero records for all other months.\n",
    "*   Combined Events highest records (July), lowest (March, Jun, Dec) and zero records (Jan)."
   ]
  },
  {
   "cell_type": "code",
   "execution_count": null,
   "id": "87ef36fc-8c73-4b77-803e-25c908b6a55f",
   "metadata": {
    "colab": {
     "base_uri": "https://localhost:8080/",
     "height": 625
    },
    "id": "87ef36fc-8c73-4b77-803e-25c908b6a55f",
    "outputId": "043b5d34-4919-451c-f2c7-92f950fd2f73",
    "tags": []
   },
   "outputs": [],
   "source": [
    "# Datetime, find month data\n",
    "activities['start_date'] = pd.to_datetime(activities['start_date'])\n",
    "activities['month'] = activities['start_date'].dt.month\n",
    "\n",
    "# Filter\n",
    "selected_classifications = ['Traffic Management', 'Reserved Parking', 'Combined Events']\n",
    "filtered_activities = activities[activities['combined_event_type'].isin(selected_classifications)]\n",
    "\n",
    "# Count number\n",
    "monthly_activity_counts = filtered_activities.groupby(['month', 'combined_event_type']).size().unstack(fill_value=0)\n",
    "\n",
    "# Plot\n",
    "sns.set(style=\"whitegrid\")\n",
    "plt.figure(figsize=(10, 6))\n",
    "\n",
    "activity_summary = []  # Store data\n",
    "\n",
    "for classification, color in zip(selected_classifications, dark_theme_colors):\n",
    "    sns.barplot(x=monthly_activity_counts.index, y=monthly_activity_counts[classification], label=classification, color=color)\n",
    "\n",
    "    activity_summary.append(f\"{classification} - {', '.join(str(val) for val in monthly_activity_counts[classification])}\")\n",
    "\n",
    "\n",
    "plt.xlabel('Month')\n",
    "plt.ylabel('Number of Activities')\n",
    "plt.title('Monthly Distribution of Activities')\n",
    "plt.legend(title='Activity Type')\n",
    "months = [\"Jan\", \"Feb\", \"Mar\", \"Apr\", \"May\", \"Jun\", \"Jul\", \"Aug\", \"Sep\", \"Oct\", \"Nov\", \"Dec\"]\n",
    "plt.xticks(range(12), months)\n",
    "plt.show()\n",
    "\n",
    "# Print summary\n",
    "print(\"\\n\".join(activity_summary))"
   ]
  },
  {
   "cell_type": "markdown",
   "id": "0be23dfd-4ff5-4d94-9632-480bb6cda3b5",
   "metadata": {
    "id": "0be23dfd-4ff5-4d94-9632-480bb6cda3b5"
   },
   "source": [
    "#### Temporal Analysis (Yearly Distribution)\n",
    "\n",
    "Activities Traffic Management, Reserved Parking, Combined Events\n",
    "<br>\n",
    "<br>\n",
    "\n",
    "Aim is to find insights into the distribution of data records including mean durations for Traffic Management, Reserved Parking and Combined Events. There is a wide duration of mean suggesting potential differences in the characteristics of each activity type. The absence of data records is noteworthy and could be expored further to understand the reasons behind patterns.\n",
    "\n",
    "*   Traffic Management highest data records (2022) with duration mean of 161.30, while lowest records (2019) with mean duration 1344.00.\n",
    "*   Reserved Parking only includes data records (2022) with duration mean of 0.00.\n",
    "*   Combined Events highest data records (2022) with duration mean of 64.54, while lowest records (2020 and 2021) with mean duration 190.00."
   ]
  },
  {
   "cell_type": "code",
   "execution_count": null,
   "id": "1ca0428c-896a-4162-a643-b0f29c1486f0",
   "metadata": {
    "colab": {
     "base_uri": "https://localhost:8080/",
     "height": 747
    },
    "id": "1ca0428c-896a-4162-a643-b0f29c1486f0",
    "outputId": "32e98c85-53ea-4841-f079-a95fe7ecf1bd",
    "tags": []
   },
   "outputs": [],
   "source": [
    "# Temporal Analysis (Yearly Activity Distribution)\n",
    "sns.set(style=\"whitegrid\")\n",
    "plt.figure(figsize=(10, 6))\n",
    "\n",
    "activity_summary = [] # Store data\n",
    "selected_classifications = ['Traffic Management', 'Reserved Parking', 'Combined Events']\n",
    "\n",
    "# Find year\n",
    "activities['start_date'] = pd.to_datetime(activities['start_date'])\n",
    "activities['year'] = activities['start_date'].dt.year\n",
    "\n",
    "# Filter\n",
    "filtered_activities = activities[activities['combined_event_type'].isin(selected_classifications)]\n",
    "\n",
    "# Add to string\n",
    "for classification in selected_classifications:\n",
    "    # Filter\n",
    "    subset_data = filtered_activities[filtered_activities['combined_event_type'] == classification]\n",
    "    for year in subset_data['year'].unique():\n",
    "        year_data = subset_data[subset_data['year'] == year]\n",
    "        mean_duration = year_data['duration'].mean()\n",
    "        summary_str = f\"Classification: {classification}, Year: {year}, Data: {len(year_data)} entries, Mean Duration: {mean_duration:.2f}\"\n",
    "        activity_summary.append(summary_str)\n",
    "\n",
    "# # Plot\n",
    "# sns.boxplot(x='year', y='duration', data=filtered_activities, hue='combined_event_type')\n",
    "# plt.title('Box Plot of Activity Durations by Year')\n",
    "# plt.xlabel('Year')\n",
    "# plt.ylabel('Duration')\n",
    "# plt.legend(title='Activity Type')\n",
    "# plt.show()\n",
    "# Line plot\n",
    "sns.lineplot(x='year', y='duration', hue='combined_event_type', data=filtered_activities, marker='o')\n",
    "plt.title('Yearly Activity Distribution of Durations')\n",
    "plt.xlabel('Year')\n",
    "plt.ylabel('Duration')\n",
    "plt.legend(title='Activity Type')\n",
    "plt.show()\n",
    "\n",
    "# Print summary\n",
    "print(\"\\n\".join(activity_summary))"
   ]
  },
  {
   "cell_type": "markdown",
   "id": "cf3bf439-3ad7-413e-88a1-647793abd137",
   "metadata": {
    "id": "cf3bf439-3ad7-413e-88a1-647793abd137"
   },
   "source": [
    "#### Median Traffic Management Count for Each Year\n",
    "\n",
    "Observations\n",
    "*   Half of the median count for Traffic Management 2019 is $1.0$, this suggests during this 2019 half of the months had an activity count of $< 1$, while the other proportion of the year activity count was $> 1$.\n",
    "*  Median count for Traffic Management 2021 is $4.0$, this suggests during this 2019 half of the months had an activity count of $< 4$, while the other proportion of the year activity count was $> 4$.\n",
    "*  Median count for Traffic Management 2022 is $3.0$, this suggests during this 2019 half of the months had an activity count of $< 3$, while the other proportion of the year activity count was $> 3$.\n",
    "\n",
    "The highest median count (2021) indicates a higher central Traffic Mangement activity. However it is evident data collection is not consistant across these years due to varied differences in measures."
   ]
  },
  {
   "cell_type": "code",
   "execution_count": null,
   "id": "a3d015a7-0652-4918-8577-3b1ac550a89a",
   "metadata": {
    "colab": {
     "base_uri": "https://localhost:8080/",
     "height": 625
    },
    "id": "a3d015a7-0652-4918-8577-3b1ac550a89a",
    "outputId": "c10d8fd1-461f-4a19-c641-9a442cbc02ad",
    "tags": []
   },
   "outputs": [],
   "source": [
    "# Median\n",
    "sns.set(style=\"whitegrid\")\n",
    "\n",
    "# Define\n",
    "selected_classifications = ['Traffic Management']\n",
    "\n",
    "# Filter\n",
    "filtered_activities = activities[activities['combined_event_type'].isin(selected_classifications)]\n",
    "\n",
    "# Year and Date\n",
    "filtered_activities['year'] = filtered_activities['start_date'].dt.year\n",
    "filtered_activities['month'] = filtered_activities['start_date'].dt.month\n",
    "\n",
    "# Dataframe\n",
    "activities_count = filtered_activities.groupby(['year', 'month']).size().reset_index(name='activity_count')\n",
    "\n",
    "# Reshape\n",
    "activities_pivot = activities_count.pivot(index='year', columns='month', values='activity_count')\n",
    "\n",
    "# Calculate yearly median\n",
    "median_activity_per_year = activities_pivot.median(axis=1)\n",
    "\n",
    "# Plot\n",
    "median_activity_per_year.plot(kind='line', figsize=(10, 6), marker='o', linestyle='-', color='b')\n",
    "plt.title('Median Activity Count per Year')\n",
    "plt.xlabel('Year')\n",
    "plt.ylabel('Median Activity Count')\n",
    "plt.show()\n",
    "\n",
    "# Summary\n",
    "median_summary = []\n",
    "for year, median_count in median_activity_per_year.items():\n",
    "    median_summary.append(f\"Year: {year}, Median Activity Count: {median_count}\")\n",
    "\n",
    "# Print\n",
    "print(\"\\n\".join(median_summary))"
   ]
  },
  {
   "cell_type": "markdown",
   "id": "e5664d6f-28d0-487e-b673-29093c3e84cf",
   "metadata": {
    "id": "e5664d6f-28d0-487e-b673-29093c3e84cf"
   },
   "source": [
    "### User Query\n",
    "#### User can explore classifications:\n",
    "*   Structures\n",
    "*   Traffic Management\n",
    "*   Event\n",
    "*   Reserved Parking\n",
    "*   Public Event\n",
    "*   Private Event"
   ]
  },
  {
   "cell_type": "code",
   "execution_count": null,
   "id": "5716cbad-569f-4c5e-949f-9f21697c79e4",
   "metadata": {
    "colab": {
     "base_uri": "https://localhost:8080/",
     "height": 633,
     "referenced_widgets": [
      "fb767f83ffc143f888740ad3a8adf4cb",
      "bfc5d26886464ead86131f6f9e7f765d",
      "f5818a73c9f94b9ebee0daa2f7618cdf",
      "815a85a300e5453d9212d2bfb708c7c3",
      "2ce5c4aa1a1548b1882b8432fa0b5856",
      "3f94fd69f3a54f20a766fffdb3128aa2",
      "a1322230348d4a33849f36c065e09877",
      "462ff3d7e4a24945a73ccac6eaa0b963"
     ]
    },
    "id": "5716cbad-569f-4c5e-949f-9f21697c79e4",
    "outputId": "7b52a5d3-87e7-4e4a-950d-9196c9f915a3",
    "tags": []
   },
   "outputs": [],
   "source": [
    "# Classifications\n",
    "unique_classifications = activities['classification'].unique()\n",
    "\n",
    "# User query\n",
    "@interact(classification=widgets.Dropdown(options=unique_classifications, description='Select Classification:'))\n",
    "def plot_monthly_distribution(classification):\n",
    "    # Filter\n",
    "    filtered_dataset = activities[activities['classification'] == classification]\n",
    "\n",
    "    # Count per month\n",
    "    monthly_counts = filtered_dataset['month_year'].value_counts().sort_index()\n",
    "\n",
    "    # Plot\n",
    "    plt.figure(figsize=(10, 6))\n",
    "    sns.barplot(x=monthly_counts.index, y=monthly_counts.values, color=dark_theme_colors[1])\n",
    "    plt.xlabel('Month')\n",
    "    plt.ylabel(f'Number of {classification} per Month')\n",
    "    plt.title(f'Monthly Distribution of {classification}')\n",
    "    plt.xticks(rotation=45)\n",
    "    plt.tight_layout()\n",
    "    plt.show()"
   ]
  },
  {
   "cell_type": "markdown",
   "id": "8b88fd29-c844-4fd3-877c-2fa12652ba9e",
   "metadata": {
    "id": "8b88fd29-c844-4fd3-877c-2fa12652ba9e",
    "tags": []
   },
   "source": [
    "#### Spatial Analysis All Activities\n",
    "\n",
    "Prints all activities in dataset to folium map.\n",
    "*   Structures\n",
    "*   Traffic Management\n",
    "*   Event\n",
    "*   Reserved Parking\n",
    "*   Public Event\n",
    "*   Private Event\n",
    "\n",
    "\n",
    "\n",
    "\n",
    "Note: available folium icon colors are ‘red’, ‘blue’, ‘green’, ‘purple’, ‘orange’, ‘darkred’, ‘lightred’, ‘beige’, ‘darkblue’, ‘darkgreen’, ‘cadetblue’, ‘darkpurple’, ‘white’, ‘pink’, ‘lightblue’, ‘lightgreen’, ‘gray’, ‘black’, ‘lightgray’."
   ]
  },
  {
   "cell_type": "code",
   "execution_count": null,
   "id": "a139feb3-8d7a-4281-bc0a-acd5b62dba8c",
   "metadata": {
    "colab": {
     "base_uri": "https://localhost:8080/",
     "height": 915
    },
    "id": "a139feb3-8d7a-4281-bc0a-acd5b62dba8c",
    "outputId": "760b9f8d-b3a9-4169-931d-dc5a108e2fcc",
    "tags": []
   },
   "outputs": [],
   "source": [
    "melbourne_coordinates = [-37.814, 144.96332]\n",
    "\n",
    "# Folium map Melbourne\n",
    "m = folium.Map(location=melbourne_coordinates, zoom_start=16)\n",
    "\n",
    "# Print Classifications\n",
    "unique_classifications = activities['classification'].unique()\n",
    "print(\"Unique Classifications in Activities Dataset:\")\n",
    "print(unique_classifications)\n",
    "\n",
    "classification_mapping = {\n",
    "    'Reserved Parking': {'color': 'red', 'icon': 'road'},\n",
    "    'Structures': {'color': 'blue', 'icon': 'glyphicon-home'},\n",
    "    'Traffic Management': {'color': 'green', 'icon': 'glyphicon-wrench'},\n",
    "    'Event': {'color': 'purple', 'icon': 'glyphicon-ok-sign'},\n",
    "    'Public Event': {'color': 'purple', 'icon': 'glyphicon-eye-open'},\n",
    "    'Private Event': {'color': 'purple', 'icon': 'glyphicon-eye-closed'},\n",
    "}\n",
    "\n",
    "# Each month\n",
    "for _, row in activities.iterrows():\n",
    "    lat, lng = row['latitude'], row['longitude']\n",
    "    activity_name = row['classification']\n",
    "    if activity_name in classification_mapping:\n",
    "        marker_color = classification_mapping[activity_name]['color']\n",
    "        marker_icon = classification_mapping[activity_name]['icon']\n",
    "    else:\n",
    "        marker_color = 'gray'\n",
    "        marker_icon = 'question'\n",
    "\n",
    "   # Add icons\n",
    "    folium.Marker(\n",
    "        location=[lat, lng],\n",
    "        popup=activity_name,\n",
    "        icon=folium.Icon(color=marker_color, icon=marker_icon)\n",
    "    ).add_to(m)\n",
    "\n",
    "print(\"All Acitivites in Dataset: \")\n",
    "# Map\n",
    "m"
   ]
  },
  {
   "cell_type": "markdown",
   "id": "dfd2e06c-de4e-4d30-aac6-7863e08f48ac",
   "metadata": {
    "id": "dfd2e06c-de4e-4d30-aac6-7863e08f48ac"
   },
   "source": [
    "#### Spatial Analysis Filtered\n",
    "Prints activities in dataset to folium map.\n",
    "*   Traffic Management\n",
    "*   Event\n",
    "*   Reserved Parking\n",
    "*   Public Event\n",
    "*   Private Event"
   ]
  },
  {
   "cell_type": "code",
   "execution_count": null,
   "id": "161af6fb-aaed-4bf9-8216-e38e8721cceb",
   "metadata": {
    "colab": {
     "base_uri": "https://localhost:8080/",
     "height": 1000
    },
    "id": "161af6fb-aaed-4bf9-8216-e38e8721cceb",
    "outputId": "235e547b-ddae-41f1-fc95-1f448dd82d65",
    "tags": []
   },
   "outputs": [],
   "source": [
    "melbourne_coordinates = [-37.8136, 144.9631]\n",
    "\n",
    "location = activities['location']\n",
    "\n",
    "# User input\n",
    "selected_month = int(input(\"Enter the month (1-12): \"))\n",
    "\n",
    "# Filter\n",
    "selected_month_activities = activities[activities['month'] == selected_month]\n",
    "\n",
    "# Folium\n",
    "m = folium.Map(location=melbourne_coordinates, zoom_start=16)\n",
    "\n",
    "# Classifications\n",
    "unique_classifications = selected_month_activities['classification'].unique()\n",
    "print(\"Unique Classifications in Selected Month:\")\n",
    "print(unique_classifications)\n",
    "\n",
    "for classification in unique_classifications:\n",
    "    # Filter\n",
    "    classification_data = selected_month_activities[selected_month_activities['classification'] == classification]\n",
    "    print(f\"\\nClassification: {classification}\")\n",
    "    for _, row in classification_data.iterrows():\n",
    "        duration = row['duration']\n",
    "        clue_small_area = row['location']\n",
    "        print(f\"Location: {location}, Duration: {duration}\")\n",
    "        if classification in classification_mapping:\n",
    "            marker_color = classification_mapping[classification]['color']\n",
    "            marker_icon = classification_mapping[classification]['icon']\n",
    "        else:\n",
    "            marker_color = 'gray'\n",
    "            marker_icon = 'question'\n",
    "\n",
    "        # Marker\n",
    "        folium.Marker(\n",
    "            location=[row['latitude'], row['longitude']],\n",
    "            popup=f\"{classification}<br>Duration: {duration}<br>location: {location}\",\n",
    "            icon=folium.Icon(color=marker_color, icon=marker_icon)\n",
    "        ).add_to(m)\n",
    "\n",
    "# Map\n",
    "m"
   ]
  },
  {
   "cell_type": "markdown",
   "id": "22077329-50de-41fd-9f0e-02d74ae9dd67",
   "metadata": {
    "id": "22077329-50de-41fd-9f0e-02d74ae9dd67"
   },
   "source": [
    "#### Count total records all land uses in Melbourne\n",
    "Development Characteristics (monitor_footprints dataset)\n",
    "\n",
    "*   Heighest Total records (Dwellings)\n",
    "*   Lowest Total records (Storage)\n",
    "\n",
    "*   Bike space (148 records) is lower then Car Parks (295)"
   ]
  },
  {
   "cell_type": "code",
   "execution_count": null,
   "id": "1ae97efb-4b1a-496b-9d4b-1c3c53dc3de2",
   "metadata": {
    "colab": {
     "base_uri": "https://localhost:8080/"
    },
    "id": "1ae97efb-4b1a-496b-9d4b-1c3c53dc3de2",
    "outputId": "361b0aa0-7486-4ee9-c134-a0b8700e880b",
    "tags": []
   },
   "outputs": [],
   "source": [
    "# Count Car Parks and Bike Spaces\n",
    "land_use_1_counts = monitor_footprints['land_use_1'].value_counts()\n",
    "land_use_2_counts = monitor_footprints['land_use_2'].value_counts()\n",
    "land_use_3_counts = monitor_footprints['land_use_3'].value_counts()\n",
    "combined_counts = pd.concat([land_use_1_counts, land_use_2_counts, land_use_3_counts])\n",
    "\n",
    "# Group\n",
    "combined_counts = combined_counts.groupby(combined_counts.index).sum()\n",
    "print(\"Count Car Parks and Bike Spaces: \")\n",
    "print(combined_counts)"
   ]
  },
  {
   "cell_type": "markdown",
   "id": "a0649a96-006c-4ca0-a12c-6e36c9833c78",
   "metadata": {
    "id": "a0649a96-006c-4ca0-a12c-6e36c9833c78"
   },
   "source": [
    "#### Explore Car Parks and Bike Spaces Over Time\n",
    "Development Characteristics: land_use car parks and bike spaces - monitor_footprints dataset\n",
    "\n",
    "*   Car Parks highest recorded data (2020), lowest recorded data (2015).\n",
    "*   Bike Spaces highest recorded data (2019 and 2022), lowest recorded data (2015).\n",
    "\n",
    "Overall Trends\n",
    "*   Since 2016, there have been more increases in Bike Spaces than Car Parks.\n",
    "*   There has been a noticeable drop in Car Parks from 2020 to 2022 by an estimate $150$ data records.  \n",
    "*   This decline in car parks might be indicative of a change in urban planning strategies or a shirt in transportation preference.\n",
    "*   On average there are more can spaces (118.77 mean) compared to bike spaces (105.96 mean).\n",
    "*   The standard deviation for car spaces is higher, indicating more variability in car space numbers compared to bike spaces.\n",
    "*   The maximum number of car spaces is significantly higher than the maximumnumber of bike spaces, suggesting a wider rande of values for car spaces.\n",
    "*   Distribution of spaces for both Car Parks and Bike Spaces show a low number of spaces (minimum 0) while other areas have a substantially higher number of spaces (1275 maximum car spaces) and (786 maximum bike spaces).\n",
    "*   The data indicates a trend of increasing bike spaces over time with a specific drop in car parks from 20202 to 2022."
   ]
  },
  {
   "cell_type": "code",
   "execution_count": null,
   "id": "425c4ee5-80a0-4983-a40d-ff899cb29062",
   "metadata": {
    "colab": {
     "base_uri": "https://localhost:8080/",
     "height": 1000
    },
    "id": "425c4ee5-80a0-4983-a40d-ff899cb29062",
    "outputId": "37203398-7b77-42e7-a5c7-40ccc3a6c501",
    "tags": []
   },
   "outputs": [],
   "source": [
    "# Car Parks and Bike Spaces\n",
    "# Filter\n",
    "selected_land_uses = ['Car parks', 'Bike Spaces']\n",
    "filtered_data = monitor_footprints[(monitor_footprints['land_use_1'].isin(selected_land_uses)) |\n",
    "                                   (monitor_footprints['land_use_2'].isin(selected_land_uses)) |\n",
    "                                   (monitor_footprints['land_use_3'].isin(selected_land_uses))]\n",
    "\n",
    "# Time\n",
    "filtered_data['year_completed'] = pd.to_datetime(filtered_data['year_completed'], errors='coerce')\n",
    "plt.figure(figsize=(12, 10))\n",
    "sns.set(style='darkgrid')  # Seaborn darkgrid\n",
    "\n",
    "# Subplots\n",
    "ax1 = plt.subplot(211)\n",
    "ax2 = plt.subplot(212)\n",
    "\n",
    "# Car spaces\n",
    "sns.lineplot(x='year_completed', y='car_spaces', data=filtered_data, label='Car parks', ax=ax1, color=dark_theme_colors[1])\n",
    "ax1.set_title('Number of Car Parks Over Time')\n",
    "ax1.set_xlabel('')\n",
    "ax1.set_ylabel('Number of Car Parks')\n",
    "ax1.legend()\n",
    "\n",
    "# Bike spaces\n",
    "sns.lineplot(x='year_completed', y='bike_spaces', data=filtered_data, label='Bike Spaces', ax=ax2, color=dark_theme_colors[1])\n",
    "ax2.set_title('Number of Bike Spaces Over Time')\n",
    "ax2.set_xlabel('Year Completed')\n",
    "ax2.set_ylabel('Number of Bike Spaces')\n",
    "ax2.legend()\n",
    "\n",
    "# Plot\n",
    "plt.tight_layout()\n",
    "plt.show()"
   ]
  },
  {
   "cell_type": "code",
   "execution_count": null,
   "id": "86490a91-4fb9-4903-ad0b-d6cf77cb2482",
   "metadata": {
    "colab": {
     "base_uri": "https://localhost:8080/"
    },
    "id": "86490a91-4fb9-4903-ad0b-d6cf77cb2482",
    "outputId": "50ed8c18-6d27-4d3f-91f2-31aa2b5d70b0",
    "tags": []
   },
   "outputs": [],
   "source": [
    "# Print details\n",
    "print(filtered_data[['car_spaces', 'bike_spaces']].describe())"
   ]
  },
  {
   "cell_type": "markdown",
   "id": "4709b528-197c-49a3-ac39-88e7416a818b",
   "metadata": {
    "id": "4709b528-197c-49a3-ac39-88e7416a818b"
   },
   "source": [
    "#### Accommodation Yearly Analyses\n",
    "Development Characteristics: student_accommodation_units, hotel_rooms, serviced_apartments, resi_dwellings\n",
    "<br>\n",
    "\n",
    "\n",
    "Overall Trends\n",
    "*   There is an increase in serviced_apartments while hotel_rooms and serviced_apartments show a decrease in 2022.\n",
    "*   Since 2016 there has been a decrease in resi_dwellings (Residential Dwellings).\n",
    "*   For all categories, there is variability in the count of unique values over time, indicating changes in the types or amounts of these spaces.\n",
    "*   resi_dwellings has the highest mean and maximum values, indicating a higher diversity of unique values over time compared to the other categories."
   ]
  },
  {
   "cell_type": "code",
   "execution_count": null,
   "id": "6380c920-1b58-4e6e-84e8-e7d0c22d2cbf",
   "metadata": {
    "colab": {
     "base_uri": "https://localhost:8080/",
     "height": 1000
    },
    "id": "6380c920-1b58-4e6e-84e8-e7d0c22d2cbf",
    "outputId": "8d5cedcd-d5d1-45a3-86de-d38834963b1a",
    "tags": []
   },
   "outputs": [],
   "source": [
    "# Accommodation Yearly Analyses\n",
    "monitor_footprints['year_completed'] = pd.to_datetime(monitor_footprints['year_completed'])\n",
    "\n",
    "# Accomodation data\n",
    "accommodation_counts = monitor_footprints.groupby('year_completed').agg({\n",
    "    'student_accommodation_units': lambda x: len(pd.unique(x.dropna())),\n",
    "    'hotel_rooms': lambda x: len(pd.unique(x.dropna())),\n",
    "    'serviced_apartments': lambda x: len(pd.unique(x.dropna())),\n",
    "    'resi_dwellings': lambda x: len(pd.unique(x.dropna()))\n",
    "}).reset_index()\n",
    "\n",
    "# Subplots\n",
    "fig, axes = plt.subplots(nrows=2, ncols=2, figsize=(12, 10))\n",
    "\n",
    "# List\n",
    "columns = ['student_accommodation_units', 'hotel_rooms', 'serviced_apartments', 'resi_dwellings']\n",
    "colors = dark_theme_colors  # Company colours\n",
    "\n",
    "# Search data\n",
    "for i, (col, color) in enumerate(zip(columns, colors)):\n",
    "    row_index, col_index = divmod(i, 2)\n",
    "    ax = axes[row_index, col_index]\n",
    "\n",
    "    # Plot\n",
    "    sns.lineplot(x=accommodation_counts['year_completed'].dt.year, y=col, data=accommodation_counts, ax=ax, marker='o', linestyle='-', color=color)\n",
    "    ax.set_title(f'{col.capitalize()} Counts per Year')\n",
    "    ax.set_xlabel('Year')\n",
    "    ax.set_ylabel(f'Number of Unique {col.capitalize()}')\n",
    "    ax.set_xticklabels(ax.get_xticks(), rotation=45)\n",
    "\n",
    "plt.tight_layout()\n",
    "plt.show()\n",
    "\n",
    "# Print details\n",
    "print(accommodation_counts[['student_accommodation_units', 'hotel_rooms', 'serviced_apartments', 'resi_dwellings']].describe())"
   ]
  },
  {
   "cell_type": "markdown",
   "id": "3knsIobt7vfm",
   "metadata": {
    "id": "3knsIobt7vfm"
   },
   "source": [
    "#### Correlation Analysis Accommodation\n",
    "Development Characteristics:\n",
    "*   student_accommodation_units\n",
    "*   hotel_rooms\n",
    "*   serviced_apartments\n",
    "*   resi_dwellings\n",
    "<br>\n",
    "\n",
    "Overall trends\n",
    "*   The wide variability in student accommodation units and residential dwellings suggests that these types of accommodations experience substantial changes over time.\n",
    "*   The lower variability in hotel rooms and serviced apartments may indicate more stable trends in these accommodation types.\n",
    "<br>\n",
    "\n",
    "Mean\n",
    "*   There is a wide variability in student_accommodation_units data (43.49 mean) with standard deviation (159.34). This indicates significant variations over time caused by potential external influences.\n",
    "*   hotel_rooms (23.40 mean) with standard deviation (81.30), similar results to student__accommodation_units however lower standard deviation implies data is not as dispersed.\n",
    "*   serviced_apartments (3.39 mean) with standard deviation (26.14), there is a lower variablity suggesting more consistency in the number of serviced_apartments then student_accommodation... or hotel_rooms.\n",
    "*   resi_dwellings (127.52 mean) with standard deviation (205.64), there is a higher mean and standard deviation compare to all other accommodation types. This indicates a wider range and more significant variation in the number of residential dwellings."
   ]
  },
  {
   "cell_type": "code",
   "execution_count": null,
   "id": "ZPCjLdBH74Lp",
   "metadata": {
    "colab": {
     "base_uri": "https://localhost:8080/",
     "height": 1000
    },
    "id": "ZPCjLdBH74Lp",
    "outputId": "77c83f40-9912-4301-cd52-9f376ab01c3d"
   },
   "outputs": [],
   "source": [
    "# Accommodation Over Time\n",
    "# Subplots\n",
    "fig, axes = plt.subplots(nrows=2, ncols=2, figsize=(12, 10))\n",
    "columns = ['student_accommodation_units', 'hotel_rooms', 'serviced_apartments', 'resi_dwellings']\n",
    "colors = dark_theme_colors #Company colours\n",
    "max_summaries = []  # Data store\n",
    "summary_stats = pd.DataFrame() # Store data\n",
    "\n",
    "# Search data\n",
    "for col, color in zip(columns, colors):\n",
    "    col_summary = filtered_data.groupby('year_completed').agg(\n",
    "        num_entries=('year_completed', 'count'),\n",
    "        mean_spaces=(col, 'mean'),\n",
    "        max_spaces=(col, 'max'),\n",
    "        min_spaces=(col, 'min')\n",
    "    ).reset_index()\n",
    "    summary_stats = pd.concat([summary_stats, col_summary])\n",
    "\n",
    "# Iterate through dataset\n",
    "for i, (col, color) in enumerate(zip(columns, colors)):\n",
    "    row_index, col_index = divmod(i, 2)\n",
    "    ax = axes[row_index, col_index]\n",
    "\n",
    "    # Plot\n",
    "    sns.lineplot(x='year_completed', y=col, data=filtered_data, ax=ax, color=colors[i])\n",
    "    ax.set_title(f'{col.capitalize()} Over Time')\n",
    "    ax.set_xlabel('Year Completed')\n",
    "    ax.set_ylabel('Number of Spaces')\n",
    "\n",
    "    # Values & Max Years\n",
    "    max_year = filtered_data.loc[filtered_data[col].idxmax(), 'year_completed']\n",
    "    max_spaces = filtered_data.loc[filtered_data[col].idxmax(), col]\n",
    "\n",
    "    # Summaries\n",
    "    max_summaries.append(f'{col.capitalize()}: Max {max_spaces} spaces in {max_year}')\n",
    "\n",
    "plt.tight_layout()\n",
    "plt.show()\n",
    "\n",
    "# Summary\n",
    "for summary in max_summaries:\n",
    "    print(summary)\n",
    "\n",
    "# Print summary statistics\n",
    "print(\"\\nSummary Statistics:\")\n",
    "print(summary_stats)"
   ]
  },
  {
   "cell_type": "markdown",
   "id": "39ebd1ff-747f-495b-b6c1-8847633ac03a",
   "metadata": {
    "id": "39ebd1ff-747f-495b-b6c1-8847633ac03a"
   },
   "source": [
    "#### User Query"
   ]
  },
  {
   "cell_type": "markdown",
   "id": "aiN-uiDp79i1",
   "metadata": {
    "id": "aiN-uiDp79i1"
   },
   "source": [
    "##### Explore all land uses from dataset per year"
   ]
  },
  {
   "cell_type": "code",
   "execution_count": null,
   "id": "e83ac278-934d-4322-b5a6-d0885c8b3c4a",
   "metadata": {
    "colab": {
     "base_uri": "https://localhost:8080/",
     "height": 714,
     "referenced_widgets": [
      "b93ffe2247c5454bad0c8c9b60006d47",
      "204eed6b27874dd2b0d91f6966893be2",
      "a4bf7f087aa446a4a03a93961f1a012f",
      "f0b7243d4a6741889314ed03c1b6f615",
      "f1d84421cf27455c9c17769560160917",
      "a0ef0d4248ef4cfe89fe8516dbe23929",
      "2db58aed453340be80555d94cdf5e99f",
      "4e8e4da319524eca86abe38b21c2fdda"
     ]
    },
    "id": "e83ac278-934d-4322-b5a6-d0885c8b3c4a",
    "outputId": "7eca37b8-9720-4d2f-bfda-979e729f4f89",
    "tags": []
   },
   "outputs": [],
   "source": [
    "# land_uses all three\n",
    "unique_land_uses = set(monitor_footprints['land_use_1'].unique()).union(\n",
    "    set(monitor_footprints['land_use_2'].unique()),\n",
    "    set(monitor_footprints['land_use_3'].unique())\n",
    ")\n",
    "\n",
    "# Remove NaN\n",
    "unique_land_uses = [land_use for land_use in unique_land_uses if pd.notna(land_use)]\n",
    "\n",
    "# User query\n",
    "@interact(land_use=widgets.Dropdown(options=unique_land_uses, description='Select Land Use:'))\n",
    "def plot_yearly_distribution(land_use): # Filter\n",
    "    filtered_dataset = monitor_footprints[\n",
    "        (monitor_footprints['land_use_1'] == land_use) |\n",
    "        (monitor_footprints['land_use_2'] == land_use) |\n",
    "        (monitor_footprints['land_use_3'] == land_use)\n",
    "    ]\n",
    "\n",
    "    # Count number per year for the selected land use\n",
    "    yearly_counts = filtered_dataset['year_completed'].value_counts().sort_index()\n",
    "\n",
    "    # Plot\n",
    "    plt.figure(figsize=(10, 6))\n",
    "    sns.barplot(x=yearly_counts.index, y=yearly_counts.values, color=dark_theme_colors[1])\n",
    "    plt.xlabel('Year')\n",
    "    plt.ylabel(f'Number of {land_use} per Year')\n",
    "    plt.xticks(rotation=45, ha='right')\n",
    "    plt.title(f'Yearly Distribution of {land_use}')\n",
    "    plt.show()"
   ]
  },
  {
   "cell_type": "code",
   "execution_count": null,
   "id": "59ee035e-6251-456d-96a1-7a89c3854d5c",
   "metadata": {
    "colab": {
     "base_uri": "https://localhost:8080/"
    },
    "id": "59ee035e-6251-456d-96a1-7a89c3854d5c",
    "outputId": "d3876460-3794-4ae4-c168-49aeea05af0e",
    "tags": []
   },
   "outputs": [],
   "source": [
    "monitor_footprints['year_completed'] = pd.to_datetime(monitor_footprints['year_completed'], errors='coerce').dt.date\n",
    "\n",
    "# Count unique values for each land_use in each year\n",
    "land_use_counts = monitor_footprints.groupby('year_completed').agg({\n",
    "    'land_use_1': lambda x: (x.nunique(), x.dropna().unique().tolist()),\n",
    "    'land_use_2': lambda x: (x.nunique(), x.dropna().unique().tolist()),\n",
    "    'land_use_3': lambda x: (x.nunique(), x.dropna().unique().tolist())\n",
    "}).reset_index()\n",
    "\n",
    "# Display the counts and land uses\n",
    "for index, row in land_use_counts.iterrows():\n",
    "    year = row['year_completed']\n",
    "    land_use_1_count, land_use_1_list = row['land_use_1']\n",
    "    land_use_2_count, land_use_2_list = row['land_use_2']\n",
    "    land_use_3_count, land_use_3_list = row['land_use_3']\n",
    "\n",
    "    print(f\"Year {year}:\")\n",
    "    print(f\"Land Use 1 - Count: {land_use_1_count}, Land Uses: {land_use_1_list}\")\n",
    "    print(f\"Land Use 2 - Count: {land_use_2_count}, Land Uses: {land_use_2_list}\")\n",
    "    print(f\"Land Use 3 - Count: {land_use_3_count}, Land Uses: {land_use_3_list}\")\n",
    "    print(\"\\n\")\n"
   ]
  },
  {
   "cell_type": "markdown",
   "id": "38fb0cf4-4902-4519-bce9-6a411cefee49",
   "metadata": {
    "id": "38fb0cf4-4902-4519-bce9-6a411cefee49"
   },
   "source": [
    "#### Find most common land uses per year"
   ]
  },
  {
   "cell_type": "code",
   "execution_count": null,
   "id": "d871a4fc-18e5-45b5-95c7-4eddbd9c3388",
   "metadata": {
    "colab": {
     "base_uri": "https://localhost:8080/"
    },
    "id": "d871a4fc-18e5-45b5-95c7-4eddbd9c3388",
    "outputId": "e96f7fd4-c881-4530-97ce-31a5d65fc72e",
    "tags": []
   },
   "outputs": [],
   "source": [
    "# Find the most used value and unique values in a series\n",
    "def find_most_used(series):\n",
    "    if not series.dropna().empty:\n",
    "        most_used = series.value_counts().idxmax()\n",
    "        second_most_used = series.value_counts().idxmin() if len(series.value_counts()) > 1 else None\n",
    "        return most_used, second_most_used\n",
    "    else:\n",
    "        return None, None\n",
    "\n",
    "# Drop rows with missing values in 'year_completed' column\n",
    "monitor_footprints_date = monitor_footprints.dropna(subset=['year_completed'])\n",
    "monitor_footprints_date['year_completed'] = pd.to_datetime(monitor_footprints_date['year_completed']).dt.year.astype(int)\n",
    "\n",
    "# Count\n",
    "land_use_counts = monitor_footprints_date.groupby('year_completed').agg({\n",
    "    'land_use_1': lambda x: find_most_used(x),\n",
    "    'land_use_2': lambda x: find_most_used(x),\n",
    "    'land_use_3': lambda x: find_most_used(x)\n",
    "}).reset_index()\n",
    "\n",
    "# Display\n",
    "for index, row in land_use_counts.iterrows():\n",
    "    year = row['year_completed']\n",
    "    (most_used_land_use_1, second_most_used_land_use_1) = row['land_use_1']\n",
    "    (most_used_land_use_2, second_most_used_land_use_2) = row['land_use_2']\n",
    "    (most_used_land_use_3, second_most_used_land_use_3) = row['land_use_3']\n",
    "\n",
    "    print(f\"Year {year}:\")\n",
    "    print(f\"Most Used Land Use 1: {most_used_land_use_1}\")\n",
    "    print(f\"Second Most Used Land Use 1: {second_most_used_land_use_1}\")\n",
    "    print(f\"Most Used Land Use 2: {most_used_land_use_2}\")\n",
    "    print(f\"Second Most Used Land Use 2: {second_most_used_land_use_2}\")\n",
    "    print(f\"Most Used Land Use 3: {most_used_land_use_3}\")\n",
    "    print(f\"Second Most Used Land Use 3: {second_most_used_land_use_3}\")\n",
    "    print(\"\\n\")"
   ]
  },
  {
   "cell_type": "markdown",
   "id": "3NTk1uJj8FWY",
   "metadata": {
    "id": "3NTk1uJj8FWY"
   },
   "source": [
    "#### Most common land uses per year\n",
    "*   Dwellings (2012)\n",
    "*   Dwellings, Car Parks, Bike Spaces (2013)\n",
    "*   Dwellings, Car Parks (2014)\n",
    "*   Dwellings, Car Parks, Recreation (2015)\n",
    "*   Dwellings, Car Parks, Bike Spaces (2016, 2017)\n",
    "*   Dwellings, Car Parks, Retail (2018, 2019, 2020, 2022, 2023)\n",
    "*   Dwellings, Car Parks (2021)"
   ]
  },
  {
   "cell_type": "code",
   "execution_count": null,
   "id": "a9sinYlZ8MP1",
   "metadata": {
    "colab": {
     "base_uri": "https://localhost:8080/"
    },
    "id": "a9sinYlZ8MP1",
    "outputId": "1b823194-c61d-4d01-f9ba-b53b13394dc4"
   },
   "outputs": [],
   "source": [
    "\n",
    "# Find the most used value and unique values in a series\n",
    "def find_most_used(series):\n",
    "    if not series.dropna().empty:\n",
    "        most_used = series.value_counts().idxmax()\n",
    "        second_most_used = series.value_counts().idxmin() if len(series.value_counts()) > 1 else None\n",
    "        return most_used, second_most_used\n",
    "    else:\n",
    "        return None, None\n",
    "\n",
    "# Drop rows with missing values in 'year_completed' column\n",
    "monitor_footprints_date = monitor_footprints.dropna(subset=['year_completed'])\n",
    "monitor_footprints_date['year_completed'] = pd.to_datetime(monitor_footprints_date['year_completed']).dt.year.astype(int)\n",
    "\n",
    "# Count\n",
    "land_use_counts = monitor_footprints_date.groupby('year_completed').agg({\n",
    "    'land_use_1': lambda x: find_most_used(x),\n",
    "    'land_use_2': lambda x: find_most_used(x),\n",
    "    'land_use_3': lambda x: find_most_used(x)\n",
    "}).reset_index()\n",
    "\n",
    "# Display\n",
    "for index, row in land_use_counts.iterrows():\n",
    "    year = row['year_completed']\n",
    "    (most_used_land_use_1, second_most_used_land_use_1) = row['land_use_1']\n",
    "    (most_used_land_use_2, second_most_used_land_use_2) = row['land_use_2']\n",
    "    (most_used_land_use_3, second_most_used_land_use_3) = row['land_use_3']\n",
    "\n",
    "    print(f\"Year {year}:\")\n",
    "    print(f\"Most Used Land Use 1: {most_used_land_use_1}\")\n",
    "    print(f\"Second Most Used Land Use 1: {second_most_used_land_use_1}\")\n",
    "    print(f\"Most Used Land Use 2: {most_used_land_use_2}\")\n",
    "    print(f\"Second Most Used Land Use 2: {second_most_used_land_use_2}\")\n",
    "    print(f\"Most Used Land Use 3: {most_used_land_use_3}\")\n",
    "    print(f\"Second Most Used Land Use 3: {second_most_used_land_use_3}\")\n",
    "    print(\"\\n\")"
   ]
  },
  {
   "cell_type": "markdown",
   "id": "74a7c928-e891-4036-bfab-c06000478d32",
   "metadata": {
    "id": "74a7c928-e891-4036-bfab-c06000478d32"
   },
   "source": [
    "#### Facilitate Strategic Traffic Management & Recommondations\n",
    "100m radius around Traffic managment sites to show potentially impacted streets for public.\n",
    "\n",
    "1.   Install alternative paths and crosswalks within identified locations\n",
    "2.   Develop dedicated bike lanes within radius areas to support safe cycling.\n",
    "3.   Implement signage within 100m radius to support public awareness of traffic management/ construction.\n",
    "4.   Introduce speed bumps, raised crosswalks and slow cars down in the radius area.\n",
    "5.   Review impacted Public Transport Stops within radius with dedicates lanes for priority.\n",
    "6.   Implement parking solutions within radius to support public for duration of Traffic Management/ construction.\n",
    "7.   Ensure emergency vehicles have access during peak hours within radius zone."
   ]
  },
  {
   "cell_type": "code",
   "execution_count": null,
   "id": "3e74f8f6-8da4-4fac-86be-7bfd4d4f8896",
   "metadata": {
    "colab": {
     "base_uri": "https://localhost:8080/",
     "height": 897
    },
    "id": "3e74f8f6-8da4-4fac-86be-7bfd4d4f8896",
    "outputId": "aa136650-2004-480b-f8f4-a71dbd5fcf9f",
    "tags": []
   },
   "outputs": [],
   "source": [
    "# radius (500m) a visual aid/ does not represent actual road distances.\n",
    "\n",
    "melbourne_coordinates = [-37.814, 144.96332]\n",
    "\n",
    "# Folium map centered on Melbourne\n",
    "m = folium.Map(location=melbourne_coordinates, zoom_start=16)\n",
    "\n",
    "# Filter activities with classification \"Traffic Management\"\n",
    "traffic_management_activities = activities[activities['classification'] == 'Traffic Management']\n",
    "\n",
    "# Print unique classifications\n",
    "unique_classifications = traffic_management_activities['classification'].unique()\n",
    "print(\"Unique Classifications in Traffic Management Activities:\")\n",
    "print(unique_classifications)\n",
    "\n",
    "# Traffic management activities\n",
    "for _, row in traffic_management_activities.iterrows():\n",
    "    lat, lng = row['latitude'], row['longitude']\n",
    "\n",
    "    # Add a marker for each traffic management activity\n",
    "    folium.Marker(\n",
    "        location=[lat, lng],\n",
    "        popup=row['classification'],\n",
    "        icon=folium.Icon(color='green', icon='glyphicon-wrench')\n",
    "    ).add_to(m)\n",
    "\n",
    "    # Add 100m radius\n",
    "    folium.Circle(\n",
    "        location=[lat, lng],\n",
    "        radius=100,\n",
    "        color='red',\n",
    "        fill=True,\n",
    "        fill_opacity=0.2\n",
    "    ).add_to(m)\n",
    "\n",
    "print(\"Traffic Management Activities in Dataset\")\n",
    "# Display the map\n",
    "m"
   ]
  },
  {
   "cell_type": "markdown",
   "id": "792b32d2-3fbc-45e2-8ede-3e0cdf3b37a2",
   "metadata": {
    "id": "792b32d2-3fbc-45e2-8ede-3e0cdf3b37a2"
   },
   "source": [
    "#### Areas of High Concentration Traffic Management\n",
    "Below indicates areas of High concentration of Traffic Management since 2014."
   ]
  },
  {
   "cell_type": "code",
   "execution_count": null,
   "id": "c19332c5-f7a2-4e5a-8c5d-62be7a7a1103",
   "metadata": {
    "colab": {
     "base_uri": "https://localhost:8080/",
     "height": 845
    },
    "id": "c19332c5-f7a2-4e5a-8c5d-62be7a7a1103",
    "outputId": "69addea9-5ad0-44ec-8e8d-e617377b5342",
    "tags": []
   },
   "outputs": [],
   "source": [
    "# spatial analysis\n",
    "m = folium.Map(location=[-37.814, 144.96332], zoom_start=12)\n",
    "\n",
    "# Heatmap concentration of traffic management activities\n",
    "HeatMap(traffic_management_activities[['latitude', 'longitude']]).add_to(m)\n",
    "m"
   ]
  },
  {
   "cell_type": "markdown",
   "id": "-7hCK10W8hJC",
   "metadata": {
    "id": "-7hCK10W8hJC"
   },
   "source": [
    "#### Duration of Traffic Management\n",
    "Overall Traffic Management Trends\n",
    "*   Min Duration (1 day)\n",
    "*   Max Duration (1344 days)\n",
    "*   Mean Duration (178 days)\n",
    "*   Median Duration (171 days)\n",
    "<br>\n",
    "\n",
    "*   2022 data shows a relatively short duration range, with most activities *between 161 and 171 days*. The distribution is relatively tight (close mean and median).\n",
    "*   2021 data has a longer duration range *217 to 241 days*. The mean and median durations are close, suggesting a relatively symmetrical distribution.\n",
    "*   2019 data indicates that all activities have the same duration of 1344 days. This could be a placeholder value or may represent a specific type of long-term traffic management activity.\n",
    "<br>\n",
    "\n",
    "Overall, duration patterns of traffic management activities in different years may have potential outliers causing the uniform duration in 2019. Further investigation into the specific activities and context is recommended."
   ]
  },
  {
   "cell_type": "code",
   "execution_count": null,
   "id": "83d5324b-1773-464f-80b1-b9ad293678d8",
   "metadata": {
    "colab": {
     "base_uri": "https://localhost:8080/",
     "height": 573
    },
    "id": "83d5324b-1773-464f-80b1-b9ad293678d8",
    "outputId": "166d16ae-051c-42b3-f4b0-c86112644474",
    "tags": []
   },
   "outputs": [],
   "source": [
    "# duration analysis\n",
    "plt.figure(figsize=(10, 6))\n",
    "sns.histplot(traffic_management_activities['duration'], bins=20, kde=True, color='green')\n",
    "plt.title('Distribution of Traffic Management Activity Durations')\n",
    "plt.xlabel('Duration (days)')\n",
    "plt.ylabel('Frequency')\n",
    "plt.show()"
   ]
  },
  {
   "cell_type": "code",
   "execution_count": null,
   "id": "6cfbf60f-50b6-459b-a919-e02840873516",
   "metadata": {
    "colab": {
     "base_uri": "https://localhost:8080/",
     "height": 1000
    },
    "id": "6cfbf60f-50b6-459b-a919-e02840873516",
    "outputId": "71cbde42-b878-4902-8cd6-c45dc9804087",
    "tags": []
   },
   "outputs": [],
   "source": [
    "# Duration\n",
    "traffic_management_activities = activities[activities['classification'] == 'Traffic Management']\n",
    "traffic_management_activities['start_date'] = pd.to_datetime(traffic_management_activities['start_date'])\n",
    "traffic_management_activities['end_date'] = pd.to_datetime(traffic_management_activities['end_date'])\n",
    "traffic_management_activities['year'] = traffic_management_activities['start_date'].dt.year\n",
    "\n",
    "unique_years = traffic_management_activities['year'].unique()\n",
    "num_years = len(unique_years)\n",
    "colors = dark_theme_colors[1]  # Company colours\n",
    "num_cols = 2\n",
    "num_rows = (num_years + num_cols - 1) // num_cols\n",
    "\n",
    "plt.figure(figsize=(15, 8))\n",
    "\n",
    "for i, year in enumerate(unique_years):\n",
    "    plt.subplot(num_rows, num_cols, i + 1)\n",
    "    sns.histplot(\n",
    "        traffic_management_activities[traffic_management_activities['year'] == year]['duration'],\n",
    "        bins=20, kde=True, color=colors\n",
    "    )\n",
    "    plt.title(f'Distribution of Traffic Management Activity Durations - {year}')\n",
    "    plt.xlabel('Duration (days)')\n",
    "    plt.ylabel('Frequency')\n",
    "\n",
    "plt.tight_layout()\n",
    "plt.show()\n",
    "\n",
    "# Summary\n",
    "for year in unique_years:\n",
    "    # Each year\n",
    "    min_duration = np.min(traffic_management_activities[traffic_management_activities['year'] == year]['duration'])\n",
    "    max_duration = np.max(traffic_management_activities[traffic_management_activities['year'] == year]['duration'])\n",
    "    mean_duration = np.mean(traffic_management_activities[traffic_management_activities['year'] == year]['duration'])\n",
    "    median_duration = np.median(traffic_management_activities[traffic_management_activities['year'] == year]['duration'])\n",
    "\n",
    "    # Print\n",
    "    print(f'\\nSummary for {year}:')\n",
    "    print(f'Min Duration: {min_duration:.2f} days')\n",
    "    print(f'Max Duration: {max_duration:.2f} days')\n",
    "    print(f'Mean Duration: {mean_duration:.2f} days')\n",
    "    print(f'Median Duration: {median_duration:.2f} days')"
   ]
  },
  {
   "cell_type": "markdown",
   "id": "feeca530-9e2d-4236-b32e-bb27881d0de9",
   "metadata": {
    "id": "feeca530-9e2d-4236-b32e-bb27881d0de9"
   },
   "source": [
    "#### Estimate impact of Traffic Management on population\n",
    "*   Total Activities 601\n",
    "*   Total Estimated People Affected 37587\n",
    "*   2022 Total Estimated People Affected 35029\n",
    "*   Average People Affected per Activity 5369\n",
    "\n",
    "*Note: Data for Traffic Management*\n",
    "2019: There is 1 recorded activity.\n",
    "2021: There are 4 recorded activities.\n",
    "2022: The majority of activities, with 80 recorded events.\n",
    "\n",
    "*   2019, 1 recorded activity.\n",
    "*   2021, 4 recorded activities.\n",
    "*   2022, majority of activities, 80 recorded events.\n",
    "\n",
    "The data indicates a significant impact of Traffic Management activities on the population, particularly in the year 2022, where the majority of activities occurred. The average impact per activity is relatively high, suggesting that each Traffic Management event affects a substantial number of people. Further analysis is needed to understand the reasons behind the increase in activities and their impact in 2022 compared to other years.\n",
    "\n"
   ]
  },
  {
   "cell_type": "code",
   "execution_count": null,
   "id": "283fe94f-274f-48b8-ae10-c51817905bee",
   "metadata": {
    "colab": {
     "base_uri": "https://localhost:8080/"
    },
    "id": "283fe94f-274f-48b8-ae10-c51817905bee",
    "outputId": "1d819cdb-ce81-4bc5-b7a7-642c1efa1c7a",
    "tags": []
   },
   "outputs": [],
   "source": [
    "# Impact on public\n",
    "# Filter\n",
    "traffic_management_activities = activities[activities['classification'] == 'Traffic Management']\n",
    "\n",
    "# Store the estimated number of people affected\n",
    "activities['estimated_people_affected'] = 0\n",
    "\n",
    "# Euclidean two points\n",
    "def euclidean_distance(lat1, lon1, lat2, lon2):\n",
    "    return np.sqrt((lat1 - lat2)**2 + (lon1 - lon2)**2)\n",
    "\n",
    "# Traffic management activity\n",
    "for _, activity_row in traffic_management_activities.iterrows():\n",
    "    # monitor footprint\n",
    "    for _, footprint_row in monitor_footprints.iterrows():\n",
    "        # Euclidean distance\n",
    "        distance = euclidean_distance(\n",
    "            activity_row['latitude'], activity_row['longitude'],\n",
    "            footprint_row['latitude_footprints'], footprint_row['longitude_footprints']\n",
    "        )\n",
    "\n",
    "        estimated_people_affected = distance * 50  # 100m est\n",
    "\n",
    "        # Update est people affected\n",
    "        activities.loc[activities['activity_id'] == activity_row['activity_id'], 'estimated_people_affected'] += estimated_people_affected\n",
    "print(activities[['activity_id', 'classification', 'estimated_people_affected']])"
   ]
  },
  {
   "cell_type": "code",
   "execution_count": null,
   "id": "c4cc2df9-445c-4461-a2b8-ebe802448c0c",
   "metadata": {
    "colab": {
     "base_uri": "https://localhost:8080/",
     "height": 670
    },
    "id": "c4cc2df9-445c-4461-a2b8-ebe802448c0c",
    "outputId": "679c8399-8220-40d7-e66a-1d0073940b4a",
    "tags": []
   },
   "outputs": [],
   "source": [
    "# Estimated people affected\n",
    "grouped_activities = activities.groupby(activities['start_date'].dt.year)['estimated_people_affected'].sum()\n",
    "\n",
    "colors = dark_theme_colors[2]  # Company colours\n",
    "plt.figure(figsize=(12, 8))\n",
    "plt.bar(grouped_activities.index, grouped_activities, color=colors)\n",
    "plt.title('Impact of Traffic Managment on People by Year')\n",
    "plt.xlabel('Year')\n",
    "plt.ylabel('Estimated Number of People Affected')\n",
    "plt.xticks(rotation=45, ha='right')\n",
    "plt.tight_layout()\n",
    "plt.show()\n",
    "\n",
    "# Summary\n",
    "summary = (\n",
    "    f\"Summary:\\n\"\n",
    "    f\"Total Activities: {len(activities)}\\n\"\n",
    "    f\"Total Estimated People Affected: {grouped_activities.sum()}\\n\"\n",
    "    f\"Average People Affected per Activity: {grouped_activities.mean():.2f}\"\n",
    ")\n",
    "print(summary)"
   ]
  },
  {
   "cell_type": "code",
   "execution_count": null,
   "id": "owEwAg8r84Tf",
   "metadata": {
    "colab": {
     "base_uri": "https://localhost:8080/"
    },
    "id": "owEwAg8r84Tf",
    "outputId": "e25f7b00-0481-4f9f-b8d1-cd05a362dcbc"
   },
   "outputs": [],
   "source": [
    "# Datetime\n",
    "activities['start_date'] = pd.to_datetime(activities['start_date'])\n",
    "activities['year'] = activities['start_date'].dt.year\n",
    "\n",
    "# Filter\n",
    "traffic_management_activities = activities[activities['classification'] == 'Traffic Management']\n",
    "\n",
    "# Group\n",
    "grouped_activities_by_year = traffic_management_activities.groupby('year').size()\n",
    "\n",
    "# Summary\n",
    "for year, count in grouped_activities_by_year.iteritems():\n",
    "    print(f\"Year: {year}, Traffic Management Activities: {count}\")"
   ]
  },
  {
   "cell_type": "code",
   "execution_count": null,
   "id": "d8b712fb-8dcf-4acc-a560-bbe27e167910",
   "metadata": {
    "colab": {
     "base_uri": "https://localhost:8080/"
    },
    "id": "d8b712fb-8dcf-4acc-a560-bbe27e167910",
    "outputId": "6d85f6b7-d8a3-45b8-cd9b-5ba975e93691",
    "tags": []
   },
   "outputs": [],
   "source": [
    "# Filter 2022\n",
    "traffic_management_2022 = activities[(activities['classification'] == 'Traffic Management') & (activities['start_date'].dt.year == 2022)]\n",
    "impact_2022 = traffic_management_2022['estimated_people_affected'].sum()\n",
    "summary = f\"Summary for Traffic Management in 2022:\\nTotal Estimated People Affected: {impact_2022}\\n\"\n",
    "print(summary)"
   ]
  }
 ],
 "metadata": {
  "colab": {
   "provenance": [],
   "toc_visible": true
  },
  "kernelspec": {
   "display_name": "Python 3 (ipykernel)",
   "language": "python",
   "name": "python3"
  },
  "language_info": {
   "codemirror_mode": {
    "name": "ipython",
    "version": 3
   },
   "file_extension": ".py",
   "mimetype": "text/x-python",
   "name": "python",
   "nbconvert_exporter": "python",
   "pygments_lexer": "ipython3",
   "version": "3.11.3"
  }
 },
 "nbformat": 4,
 "nbformat_minor": 5
}
